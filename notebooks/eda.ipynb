{
 "cells": [
  {
   "cell_type": "markdown",
   "metadata": {},
   "source": [
    "Exploratory Data Analysis (EDA)"
   ]
  },
  {
   "cell_type": "code",
   "execution_count": 202,
   "metadata": {},
   "outputs": [],
   "source": [
    "data = pd.read_csv(\"../data/clean/clean_data.csv\")"
   ]
  },
  {
   "cell_type": "markdown",
   "metadata": {},
   "source": [
    "Have tech-industry employees sought out treatment for a mental health condition?"
   ]
  },
  {
   "cell_type": "code",
   "execution_count": 203,
   "metadata": {},
   "outputs": [
    {
     "data": {
      "application/vnd.plotly.v1+json": {
       "config": {
        "plotlyServerURL": "https://plot.ly"
       },
       "data": [
        {
         "alignmentgroup": "True",
         "bingroup": "x",
         "hovertemplate": "treatment=%{x}<br>count=%{y}<extra></extra>",
         "legendgroup": "Yes",
         "marker": {
          "color": "#636efa",
          "pattern": {
           "shape": ""
          }
         },
         "name": "Yes",
         "offsetgroup": "Yes",
         "orientation": "v",
         "showlegend": true,
         "type": "histogram",
         "x": [
          "Yes",
          "Yes",
          "Yes",
          "Yes",
          "Yes",
          "Yes",
          "Yes",
          "Yes",
          "Yes",
          "Yes",
          "Yes",
          "Yes",
          "Yes",
          "Yes",
          "Yes",
          "Yes",
          "Yes",
          "Yes",
          "Yes",
          "Yes",
          "Yes",
          "Yes",
          "Yes",
          "Yes",
          "Yes",
          "Yes",
          "Yes",
          "Yes",
          "Yes",
          "Yes",
          "Yes",
          "Yes",
          "Yes",
          "Yes",
          "Yes",
          "Yes",
          "Yes",
          "Yes",
          "Yes",
          "Yes",
          "Yes",
          "Yes",
          "Yes",
          "Yes",
          "Yes",
          "Yes",
          "Yes",
          "Yes",
          "Yes",
          "Yes",
          "Yes",
          "Yes",
          "Yes",
          "Yes",
          "Yes",
          "Yes",
          "Yes",
          "Yes",
          "Yes",
          "Yes",
          "Yes",
          "Yes",
          "Yes",
          "Yes",
          "Yes",
          "Yes",
          "Yes",
          "Yes",
          "Yes",
          "Yes",
          "Yes",
          "Yes",
          "Yes",
          "Yes",
          "Yes",
          "Yes",
          "Yes",
          "Yes",
          "Yes",
          "Yes",
          "Yes",
          "Yes",
          "Yes",
          "Yes",
          "Yes",
          "Yes",
          "Yes",
          "Yes",
          "Yes",
          "Yes",
          "Yes",
          "Yes",
          "Yes",
          "Yes",
          "Yes",
          "Yes",
          "Yes",
          "Yes",
          "Yes",
          "Yes",
          "Yes",
          "Yes",
          "Yes",
          "Yes",
          "Yes",
          "Yes",
          "Yes",
          "Yes",
          "Yes",
          "Yes",
          "Yes",
          "Yes",
          "Yes",
          "Yes",
          "Yes",
          "Yes",
          "Yes",
          "Yes",
          "Yes",
          "Yes",
          "Yes",
          "Yes",
          "Yes",
          "Yes",
          "Yes",
          "Yes",
          "Yes",
          "Yes",
          "Yes",
          "Yes",
          "Yes",
          "Yes",
          "Yes",
          "Yes",
          "Yes",
          "Yes",
          "Yes",
          "Yes",
          "Yes",
          "Yes",
          "Yes",
          "Yes",
          "Yes",
          "Yes",
          "Yes",
          "Yes",
          "Yes",
          "Yes",
          "Yes",
          "Yes",
          "Yes",
          "Yes",
          "Yes",
          "Yes",
          "Yes",
          "Yes",
          "Yes",
          "Yes",
          "Yes",
          "Yes",
          "Yes",
          "Yes",
          "Yes",
          "Yes",
          "Yes",
          "Yes",
          "Yes",
          "Yes",
          "Yes",
          "Yes",
          "Yes",
          "Yes",
          "Yes",
          "Yes",
          "Yes",
          "Yes",
          "Yes",
          "Yes",
          "Yes",
          "Yes",
          "Yes",
          "Yes",
          "Yes",
          "Yes",
          "Yes",
          "Yes",
          "Yes",
          "Yes",
          "Yes",
          "Yes",
          "Yes",
          "Yes",
          "Yes",
          "Yes",
          "Yes",
          "Yes",
          "Yes",
          "Yes",
          "Yes",
          "Yes",
          "Yes",
          "Yes",
          "Yes",
          "Yes",
          "Yes",
          "Yes",
          "Yes",
          "Yes",
          "Yes",
          "Yes",
          "Yes",
          "Yes",
          "Yes",
          "Yes",
          "Yes",
          "Yes",
          "Yes",
          "Yes",
          "Yes",
          "Yes",
          "Yes",
          "Yes",
          "Yes",
          "Yes",
          "Yes",
          "Yes",
          "Yes",
          "Yes",
          "Yes",
          "Yes",
          "Yes",
          "Yes",
          "Yes",
          "Yes",
          "Yes",
          "Yes",
          "Yes",
          "Yes",
          "Yes",
          "Yes",
          "Yes",
          "Yes",
          "Yes",
          "Yes",
          "Yes",
          "Yes",
          "Yes",
          "Yes",
          "Yes",
          "Yes",
          "Yes",
          "Yes",
          "Yes",
          "Yes",
          "Yes",
          "Yes",
          "Yes",
          "Yes",
          "Yes",
          "Yes",
          "Yes",
          "Yes",
          "Yes",
          "Yes",
          "Yes",
          "Yes",
          "Yes",
          "Yes",
          "Yes",
          "Yes",
          "Yes",
          "Yes",
          "Yes",
          "Yes",
          "Yes",
          "Yes",
          "Yes",
          "Yes",
          "Yes",
          "Yes",
          "Yes",
          "Yes",
          "Yes",
          "Yes",
          "Yes",
          "Yes",
          "Yes",
          "Yes",
          "Yes",
          "Yes",
          "Yes",
          "Yes",
          "Yes",
          "Yes",
          "Yes",
          "Yes",
          "Yes",
          "Yes",
          "Yes",
          "Yes",
          "Yes",
          "Yes",
          "Yes",
          "Yes",
          "Yes",
          "Yes",
          "Yes",
          "Yes",
          "Yes",
          "Yes",
          "Yes",
          "Yes",
          "Yes",
          "Yes",
          "Yes",
          "Yes",
          "Yes",
          "Yes",
          "Yes",
          "Yes",
          "Yes",
          "Yes",
          "Yes",
          "Yes",
          "Yes",
          "Yes",
          "Yes",
          "Yes",
          "Yes",
          "Yes",
          "Yes",
          "Yes",
          "Yes",
          "Yes",
          "Yes",
          "Yes",
          "Yes",
          "Yes",
          "Yes",
          "Yes",
          "Yes",
          "Yes",
          "Yes",
          "Yes",
          "Yes",
          "Yes",
          "Yes",
          "Yes",
          "Yes",
          "Yes",
          "Yes",
          "Yes",
          "Yes",
          "Yes",
          "Yes",
          "Yes",
          "Yes",
          "Yes",
          "Yes",
          "Yes",
          "Yes",
          "Yes",
          "Yes",
          "Yes",
          "Yes",
          "Yes",
          "Yes",
          "Yes",
          "Yes",
          "Yes",
          "Yes",
          "Yes",
          "Yes",
          "Yes",
          "Yes",
          "Yes",
          "Yes",
          "Yes",
          "Yes",
          "Yes",
          "Yes",
          "Yes",
          "Yes",
          "Yes",
          "Yes",
          "Yes",
          "Yes",
          "Yes",
          "Yes",
          "Yes",
          "Yes",
          "Yes",
          "Yes",
          "Yes",
          "Yes",
          "Yes",
          "Yes",
          "Yes",
          "Yes",
          "Yes",
          "Yes",
          "Yes",
          "Yes",
          "Yes",
          "Yes",
          "Yes",
          "Yes",
          "Yes",
          "Yes",
          "Yes",
          "Yes",
          "Yes",
          "Yes",
          "Yes",
          "Yes",
          "Yes",
          "Yes",
          "Yes",
          "Yes",
          "Yes",
          "Yes",
          "Yes",
          "Yes",
          "Yes",
          "Yes",
          "Yes",
          "Yes",
          "Yes",
          "Yes",
          "Yes",
          "Yes",
          "Yes",
          "Yes",
          "Yes",
          "Yes",
          "Yes",
          "Yes",
          "Yes",
          "Yes",
          "Yes",
          "Yes",
          "Yes",
          "Yes",
          "Yes",
          "Yes",
          "Yes",
          "Yes",
          "Yes",
          "Yes",
          "Yes",
          "Yes",
          "Yes",
          "Yes",
          "Yes",
          "Yes",
          "Yes",
          "Yes",
          "Yes",
          "Yes",
          "Yes",
          "Yes",
          "Yes",
          "Yes",
          "Yes",
          "Yes",
          "Yes",
          "Yes",
          "Yes",
          "Yes",
          "Yes",
          "Yes",
          "Yes",
          "Yes",
          "Yes",
          "Yes",
          "Yes",
          "Yes",
          "Yes",
          "Yes",
          "Yes",
          "Yes",
          "Yes",
          "Yes",
          "Yes",
          "Yes",
          "Yes",
          "Yes",
          "Yes",
          "Yes",
          "Yes",
          "Yes",
          "Yes",
          "Yes",
          "Yes",
          "Yes",
          "Yes",
          "Yes",
          "Yes",
          "Yes",
          "Yes",
          "Yes",
          "Yes",
          "Yes",
          "Yes",
          "Yes",
          "Yes",
          "Yes",
          "Yes",
          "Yes",
          "Yes",
          "Yes",
          "Yes",
          "Yes",
          "Yes",
          "Yes",
          "Yes",
          "Yes",
          "Yes",
          "Yes",
          "Yes",
          "Yes",
          "Yes",
          "Yes",
          "Yes",
          "Yes",
          "Yes",
          "Yes",
          "Yes",
          "Yes",
          "Yes",
          "Yes",
          "Yes",
          "Yes",
          "Yes",
          "Yes",
          "Yes",
          "Yes",
          "Yes",
          "Yes",
          "Yes",
          "Yes",
          "Yes",
          "Yes",
          "Yes",
          "Yes",
          "Yes",
          "Yes",
          "Yes",
          "Yes",
          "Yes",
          "Yes",
          "Yes",
          "Yes",
          "Yes",
          "Yes",
          "Yes",
          "Yes",
          "Yes",
          "Yes",
          "Yes",
          "Yes",
          "Yes",
          "Yes",
          "Yes",
          "Yes",
          "Yes",
          "Yes",
          "Yes",
          "Yes",
          "Yes",
          "Yes",
          "Yes",
          "Yes",
          "Yes",
          "Yes",
          "Yes",
          "Yes",
          "Yes",
          "Yes",
          "Yes",
          "Yes",
          "Yes",
          "Yes",
          "Yes",
          "Yes",
          "Yes",
          "Yes",
          "Yes",
          "Yes",
          "Yes",
          "Yes",
          "Yes",
          "Yes",
          "Yes",
          "Yes",
          "Yes",
          "Yes",
          "Yes",
          "Yes",
          "Yes",
          "Yes",
          "Yes",
          "Yes",
          "Yes",
          "Yes",
          "Yes",
          "Yes",
          "Yes",
          "Yes",
          "Yes",
          "Yes",
          "Yes",
          "Yes",
          "Yes",
          "Yes",
          "Yes",
          "Yes",
          "Yes",
          "Yes",
          "Yes",
          "Yes",
          "Yes",
          "Yes",
          "Yes",
          "Yes",
          "Yes",
          "Yes",
          "Yes",
          "Yes",
          "Yes",
          "Yes",
          "Yes",
          "Yes",
          "Yes",
          "Yes",
          "Yes",
          "Yes"
         ],
         "xaxis": "x",
         "yaxis": "y"
        },
        {
         "alignmentgroup": "True",
         "bingroup": "x",
         "hovertemplate": "treatment=%{x}<br>count=%{y}<extra></extra>",
         "legendgroup": "No",
         "marker": {
          "color": "#EF553B",
          "pattern": {
           "shape": ""
          }
         },
         "name": "No",
         "offsetgroup": "No",
         "orientation": "v",
         "showlegend": true,
         "type": "histogram",
         "x": [
          "No",
          "No",
          "No",
          "No",
          "No",
          "No",
          "No",
          "No",
          "No",
          "No",
          "No",
          "No",
          "No",
          "No",
          "No",
          "No",
          "No",
          "No",
          "No",
          "No",
          "No",
          "No",
          "No",
          "No",
          "No",
          "No",
          "No",
          "No",
          "No",
          "No",
          "No",
          "No",
          "No",
          "No",
          "No",
          "No",
          "No",
          "No",
          "No",
          "No",
          "No",
          "No",
          "No",
          "No",
          "No",
          "No",
          "No",
          "No",
          "No",
          "No",
          "No",
          "No",
          "No",
          "No",
          "No",
          "No",
          "No",
          "No",
          "No",
          "No",
          "No",
          "No",
          "No",
          "No",
          "No",
          "No",
          "No",
          "No",
          "No",
          "No",
          "No",
          "No",
          "No",
          "No",
          "No",
          "No",
          "No",
          "No",
          "No",
          "No",
          "No",
          "No",
          "No",
          "No",
          "No",
          "No",
          "No",
          "No",
          "No",
          "No",
          "No",
          "No",
          "No",
          "No",
          "No",
          "No",
          "No",
          "No",
          "No",
          "No",
          "No",
          "No",
          "No",
          "No",
          "No",
          "No",
          "No",
          "No",
          "No",
          "No",
          "No",
          "No",
          "No",
          "No",
          "No",
          "No",
          "No",
          "No",
          "No",
          "No",
          "No",
          "No",
          "No",
          "No",
          "No",
          "No",
          "No",
          "No",
          "No",
          "No",
          "No",
          "No",
          "No",
          "No",
          "No",
          "No",
          "No",
          "No",
          "No",
          "No",
          "No",
          "No",
          "No",
          "No",
          "No",
          "No",
          "No",
          "No",
          "No",
          "No",
          "No",
          "No",
          "No",
          "No",
          "No",
          "No",
          "No",
          "No",
          "No",
          "No",
          "No",
          "No",
          "No",
          "No",
          "No",
          "No",
          "No",
          "No",
          "No",
          "No",
          "No",
          "No",
          "No",
          "No",
          "No",
          "No",
          "No",
          "No",
          "No",
          "No",
          "No",
          "No",
          "No",
          "No",
          "No",
          "No",
          "No",
          "No",
          "No",
          "No",
          "No",
          "No",
          "No",
          "No",
          "No",
          "No",
          "No",
          "No",
          "No",
          "No",
          "No",
          "No",
          "No",
          "No",
          "No",
          "No",
          "No",
          "No",
          "No",
          "No",
          "No",
          "No",
          "No",
          "No",
          "No",
          "No",
          "No",
          "No",
          "No",
          "No",
          "No",
          "No",
          "No",
          "No",
          "No",
          "No",
          "No",
          "No",
          "No",
          "No",
          "No",
          "No",
          "No",
          "No",
          "No",
          "No",
          "No",
          "No",
          "No",
          "No",
          "No",
          "No",
          "No",
          "No",
          "No",
          "No",
          "No",
          "No",
          "No",
          "No",
          "No",
          "No",
          "No",
          "No",
          "No",
          "No",
          "No",
          "No",
          "No",
          "No",
          "No",
          "No",
          "No",
          "No",
          "No",
          "No",
          "No",
          "No",
          "No",
          "No",
          "No",
          "No",
          "No",
          "No",
          "No",
          "No",
          "No",
          "No",
          "No",
          "No",
          "No",
          "No",
          "No",
          "No",
          "No",
          "No",
          "No",
          "No",
          "No",
          "No",
          "No",
          "No",
          "No",
          "No",
          "No",
          "No",
          "No",
          "No",
          "No",
          "No",
          "No",
          "No",
          "No",
          "No",
          "No",
          "No",
          "No",
          "No",
          "No",
          "No",
          "No",
          "No",
          "No",
          "No",
          "No",
          "No",
          "No",
          "No",
          "No",
          "No",
          "No",
          "No",
          "No",
          "No",
          "No",
          "No",
          "No",
          "No",
          "No",
          "No",
          "No",
          "No",
          "No",
          "No",
          "No",
          "No",
          "No",
          "No",
          "No",
          "No",
          "No",
          "No",
          "No",
          "No",
          "No",
          "No",
          "No",
          "No",
          "No",
          "No",
          "No",
          "No",
          "No",
          "No",
          "No",
          "No",
          "No",
          "No",
          "No",
          "No",
          "No",
          "No",
          "No",
          "No",
          "No",
          "No",
          "No",
          "No",
          "No",
          "No",
          "No",
          "No",
          "No",
          "No",
          "No",
          "No",
          "No",
          "No",
          "No",
          "No",
          "No",
          "No",
          "No",
          "No",
          "No",
          "No",
          "No",
          "No",
          "No",
          "No",
          "No",
          "No",
          "No",
          "No",
          "No",
          "No",
          "No",
          "No",
          "No",
          "No",
          "No",
          "No",
          "No",
          "No",
          "No",
          "No",
          "No",
          "No",
          "No",
          "No",
          "No",
          "No",
          "No",
          "No",
          "No",
          "No",
          "No",
          "No",
          "No",
          "No",
          "No",
          "No",
          "No",
          "No",
          "No",
          "No",
          "No",
          "No",
          "No",
          "No",
          "No",
          "No",
          "No",
          "No",
          "No",
          "No",
          "No",
          "No",
          "No",
          "No",
          "No",
          "No",
          "No",
          "No",
          "No",
          "No",
          "No",
          "No",
          "No",
          "No",
          "No",
          "No",
          "No",
          "No",
          "No",
          "No",
          "No",
          "No",
          "No",
          "No",
          "No",
          "No",
          "No",
          "No",
          "No",
          "No",
          "No",
          "No",
          "No",
          "No",
          "No",
          "No",
          "No",
          "No",
          "No",
          "No",
          "No",
          "No",
          "No",
          "No",
          "No",
          "No",
          "No",
          "No",
          "No",
          "No",
          "No",
          "No",
          "No",
          "No",
          "No",
          "No",
          "No",
          "No",
          "No",
          "No",
          "No",
          "No",
          "No",
          "No",
          "No",
          "No",
          "No",
          "No",
          "No",
          "No",
          "No",
          "No",
          "No",
          "No",
          "No",
          "No",
          "No",
          "No",
          "No",
          "No",
          "No",
          "No",
          "No",
          "No",
          "No",
          "No",
          "No",
          "No",
          "No",
          "No",
          "No",
          "No",
          "No",
          "No",
          "No",
          "No",
          "No",
          "No",
          "No",
          "No",
          "No",
          "No",
          "No",
          "No",
          "No",
          "No",
          "No",
          "No",
          "No",
          "No",
          "No",
          "No",
          "No",
          "No",
          "No",
          "No",
          "No",
          "No",
          "No",
          "No",
          "No",
          "No",
          "No",
          "No",
          "No",
          "No",
          "No",
          "No",
          "No",
          "No",
          "No",
          "No",
          "No",
          "No",
          "No",
          "No",
          "No",
          "No",
          "No",
          "No",
          "No",
          "No",
          "No",
          "No",
          "No",
          "No",
          "No",
          "No",
          "No",
          "No",
          "No",
          "No",
          "No",
          "No",
          "No",
          "No",
          "No",
          "No",
          "No",
          "No",
          "No",
          "No",
          "No",
          "No",
          "No",
          "No",
          "No",
          "No",
          "No",
          "No",
          "No",
          "No",
          "No",
          "No",
          "No",
          "No",
          "No",
          "No",
          "No",
          "No",
          "No",
          "No",
          "No",
          "No",
          "No",
          "No"
         ],
         "xaxis": "x",
         "yaxis": "y"
        }
       ],
       "layout": {
        "barmode": "relative",
        "height": 400,
        "legend": {
         "title": {
          "text": "treatment"
         },
         "tracegroupgap": 0
        },
        "margin": {
         "b": 20,
         "l": 20,
         "r": 20,
         "t": 20
        },
        "paper_bgcolor": "LightSteelBlue",
        "template": {
         "data": {
          "bar": [
           {
            "error_x": {
             "color": "#2a3f5f"
            },
            "error_y": {
             "color": "#2a3f5f"
            },
            "marker": {
             "line": {
              "color": "#E5ECF6",
              "width": 0.5
             },
             "pattern": {
              "fillmode": "overlay",
              "size": 10,
              "solidity": 0.2
             }
            },
            "type": "bar"
           }
          ],
          "barpolar": [
           {
            "marker": {
             "line": {
              "color": "#E5ECF6",
              "width": 0.5
             },
             "pattern": {
              "fillmode": "overlay",
              "size": 10,
              "solidity": 0.2
             }
            },
            "type": "barpolar"
           }
          ],
          "carpet": [
           {
            "aaxis": {
             "endlinecolor": "#2a3f5f",
             "gridcolor": "white",
             "linecolor": "white",
             "minorgridcolor": "white",
             "startlinecolor": "#2a3f5f"
            },
            "baxis": {
             "endlinecolor": "#2a3f5f",
             "gridcolor": "white",
             "linecolor": "white",
             "minorgridcolor": "white",
             "startlinecolor": "#2a3f5f"
            },
            "type": "carpet"
           }
          ],
          "choropleth": [
           {
            "colorbar": {
             "outlinewidth": 0,
             "ticks": ""
            },
            "type": "choropleth"
           }
          ],
          "contour": [
           {
            "colorbar": {
             "outlinewidth": 0,
             "ticks": ""
            },
            "colorscale": [
             [
              0,
              "#0d0887"
             ],
             [
              0.1111111111111111,
              "#46039f"
             ],
             [
              0.2222222222222222,
              "#7201a8"
             ],
             [
              0.3333333333333333,
              "#9c179e"
             ],
             [
              0.4444444444444444,
              "#bd3786"
             ],
             [
              0.5555555555555556,
              "#d8576b"
             ],
             [
              0.6666666666666666,
              "#ed7953"
             ],
             [
              0.7777777777777778,
              "#fb9f3a"
             ],
             [
              0.8888888888888888,
              "#fdca26"
             ],
             [
              1,
              "#f0f921"
             ]
            ],
            "type": "contour"
           }
          ],
          "contourcarpet": [
           {
            "colorbar": {
             "outlinewidth": 0,
             "ticks": ""
            },
            "type": "contourcarpet"
           }
          ],
          "heatmap": [
           {
            "colorbar": {
             "outlinewidth": 0,
             "ticks": ""
            },
            "colorscale": [
             [
              0,
              "#0d0887"
             ],
             [
              0.1111111111111111,
              "#46039f"
             ],
             [
              0.2222222222222222,
              "#7201a8"
             ],
             [
              0.3333333333333333,
              "#9c179e"
             ],
             [
              0.4444444444444444,
              "#bd3786"
             ],
             [
              0.5555555555555556,
              "#d8576b"
             ],
             [
              0.6666666666666666,
              "#ed7953"
             ],
             [
              0.7777777777777778,
              "#fb9f3a"
             ],
             [
              0.8888888888888888,
              "#fdca26"
             ],
             [
              1,
              "#f0f921"
             ]
            ],
            "type": "heatmap"
           }
          ],
          "heatmapgl": [
           {
            "colorbar": {
             "outlinewidth": 0,
             "ticks": ""
            },
            "colorscale": [
             [
              0,
              "#0d0887"
             ],
             [
              0.1111111111111111,
              "#46039f"
             ],
             [
              0.2222222222222222,
              "#7201a8"
             ],
             [
              0.3333333333333333,
              "#9c179e"
             ],
             [
              0.4444444444444444,
              "#bd3786"
             ],
             [
              0.5555555555555556,
              "#d8576b"
             ],
             [
              0.6666666666666666,
              "#ed7953"
             ],
             [
              0.7777777777777778,
              "#fb9f3a"
             ],
             [
              0.8888888888888888,
              "#fdca26"
             ],
             [
              1,
              "#f0f921"
             ]
            ],
            "type": "heatmapgl"
           }
          ],
          "histogram": [
           {
            "marker": {
             "pattern": {
              "fillmode": "overlay",
              "size": 10,
              "solidity": 0.2
             }
            },
            "type": "histogram"
           }
          ],
          "histogram2d": [
           {
            "colorbar": {
             "outlinewidth": 0,
             "ticks": ""
            },
            "colorscale": [
             [
              0,
              "#0d0887"
             ],
             [
              0.1111111111111111,
              "#46039f"
             ],
             [
              0.2222222222222222,
              "#7201a8"
             ],
             [
              0.3333333333333333,
              "#9c179e"
             ],
             [
              0.4444444444444444,
              "#bd3786"
             ],
             [
              0.5555555555555556,
              "#d8576b"
             ],
             [
              0.6666666666666666,
              "#ed7953"
             ],
             [
              0.7777777777777778,
              "#fb9f3a"
             ],
             [
              0.8888888888888888,
              "#fdca26"
             ],
             [
              1,
              "#f0f921"
             ]
            ],
            "type": "histogram2d"
           }
          ],
          "histogram2dcontour": [
           {
            "colorbar": {
             "outlinewidth": 0,
             "ticks": ""
            },
            "colorscale": [
             [
              0,
              "#0d0887"
             ],
             [
              0.1111111111111111,
              "#46039f"
             ],
             [
              0.2222222222222222,
              "#7201a8"
             ],
             [
              0.3333333333333333,
              "#9c179e"
             ],
             [
              0.4444444444444444,
              "#bd3786"
             ],
             [
              0.5555555555555556,
              "#d8576b"
             ],
             [
              0.6666666666666666,
              "#ed7953"
             ],
             [
              0.7777777777777778,
              "#fb9f3a"
             ],
             [
              0.8888888888888888,
              "#fdca26"
             ],
             [
              1,
              "#f0f921"
             ]
            ],
            "type": "histogram2dcontour"
           }
          ],
          "mesh3d": [
           {
            "colorbar": {
             "outlinewidth": 0,
             "ticks": ""
            },
            "type": "mesh3d"
           }
          ],
          "parcoords": [
           {
            "line": {
             "colorbar": {
              "outlinewidth": 0,
              "ticks": ""
             }
            },
            "type": "parcoords"
           }
          ],
          "pie": [
           {
            "automargin": true,
            "type": "pie"
           }
          ],
          "scatter": [
           {
            "fillpattern": {
             "fillmode": "overlay",
             "size": 10,
             "solidity": 0.2
            },
            "type": "scatter"
           }
          ],
          "scatter3d": [
           {
            "line": {
             "colorbar": {
              "outlinewidth": 0,
              "ticks": ""
             }
            },
            "marker": {
             "colorbar": {
              "outlinewidth": 0,
              "ticks": ""
             }
            },
            "type": "scatter3d"
           }
          ],
          "scattercarpet": [
           {
            "marker": {
             "colorbar": {
              "outlinewidth": 0,
              "ticks": ""
             }
            },
            "type": "scattercarpet"
           }
          ],
          "scattergeo": [
           {
            "marker": {
             "colorbar": {
              "outlinewidth": 0,
              "ticks": ""
             }
            },
            "type": "scattergeo"
           }
          ],
          "scattergl": [
           {
            "marker": {
             "colorbar": {
              "outlinewidth": 0,
              "ticks": ""
             }
            },
            "type": "scattergl"
           }
          ],
          "scattermapbox": [
           {
            "marker": {
             "colorbar": {
              "outlinewidth": 0,
              "ticks": ""
             }
            },
            "type": "scattermapbox"
           }
          ],
          "scatterpolar": [
           {
            "marker": {
             "colorbar": {
              "outlinewidth": 0,
              "ticks": ""
             }
            },
            "type": "scatterpolar"
           }
          ],
          "scatterpolargl": [
           {
            "marker": {
             "colorbar": {
              "outlinewidth": 0,
              "ticks": ""
             }
            },
            "type": "scatterpolargl"
           }
          ],
          "scatterternary": [
           {
            "marker": {
             "colorbar": {
              "outlinewidth": 0,
              "ticks": ""
             }
            },
            "type": "scatterternary"
           }
          ],
          "surface": [
           {
            "colorbar": {
             "outlinewidth": 0,
             "ticks": ""
            },
            "colorscale": [
             [
              0,
              "#0d0887"
             ],
             [
              0.1111111111111111,
              "#46039f"
             ],
             [
              0.2222222222222222,
              "#7201a8"
             ],
             [
              0.3333333333333333,
              "#9c179e"
             ],
             [
              0.4444444444444444,
              "#bd3786"
             ],
             [
              0.5555555555555556,
              "#d8576b"
             ],
             [
              0.6666666666666666,
              "#ed7953"
             ],
             [
              0.7777777777777778,
              "#fb9f3a"
             ],
             [
              0.8888888888888888,
              "#fdca26"
             ],
             [
              1,
              "#f0f921"
             ]
            ],
            "type": "surface"
           }
          ],
          "table": [
           {
            "cells": {
             "fill": {
              "color": "#EBF0F8"
             },
             "line": {
              "color": "white"
             }
            },
            "header": {
             "fill": {
              "color": "#C8D4E3"
             },
             "line": {
              "color": "white"
             }
            },
            "type": "table"
           }
          ]
         },
         "layout": {
          "annotationdefaults": {
           "arrowcolor": "#2a3f5f",
           "arrowhead": 0,
           "arrowwidth": 1
          },
          "autotypenumbers": "strict",
          "coloraxis": {
           "colorbar": {
            "outlinewidth": 0,
            "ticks": ""
           }
          },
          "colorscale": {
           "diverging": [
            [
             0,
             "#8e0152"
            ],
            [
             0.1,
             "#c51b7d"
            ],
            [
             0.2,
             "#de77ae"
            ],
            [
             0.3,
             "#f1b6da"
            ],
            [
             0.4,
             "#fde0ef"
            ],
            [
             0.5,
             "#f7f7f7"
            ],
            [
             0.6,
             "#e6f5d0"
            ],
            [
             0.7,
             "#b8e186"
            ],
            [
             0.8,
             "#7fbc41"
            ],
            [
             0.9,
             "#4d9221"
            ],
            [
             1,
             "#276419"
            ]
           ],
           "sequential": [
            [
             0,
             "#0d0887"
            ],
            [
             0.1111111111111111,
             "#46039f"
            ],
            [
             0.2222222222222222,
             "#7201a8"
            ],
            [
             0.3333333333333333,
             "#9c179e"
            ],
            [
             0.4444444444444444,
             "#bd3786"
            ],
            [
             0.5555555555555556,
             "#d8576b"
            ],
            [
             0.6666666666666666,
             "#ed7953"
            ],
            [
             0.7777777777777778,
             "#fb9f3a"
            ],
            [
             0.8888888888888888,
             "#fdca26"
            ],
            [
             1,
             "#f0f921"
            ]
           ],
           "sequentialminus": [
            [
             0,
             "#0d0887"
            ],
            [
             0.1111111111111111,
             "#46039f"
            ],
            [
             0.2222222222222222,
             "#7201a8"
            ],
            [
             0.3333333333333333,
             "#9c179e"
            ],
            [
             0.4444444444444444,
             "#bd3786"
            ],
            [
             0.5555555555555556,
             "#d8576b"
            ],
            [
             0.6666666666666666,
             "#ed7953"
            ],
            [
             0.7777777777777778,
             "#fb9f3a"
            ],
            [
             0.8888888888888888,
             "#fdca26"
            ],
            [
             1,
             "#f0f921"
            ]
           ]
          },
          "colorway": [
           "#636efa",
           "#EF553B",
           "#00cc96",
           "#ab63fa",
           "#FFA15A",
           "#19d3f3",
           "#FF6692",
           "#B6E880",
           "#FF97FF",
           "#FECB52"
          ],
          "font": {
           "color": "#2a3f5f"
          },
          "geo": {
           "bgcolor": "white",
           "lakecolor": "white",
           "landcolor": "#E5ECF6",
           "showlakes": true,
           "showland": true,
           "subunitcolor": "white"
          },
          "hoverlabel": {
           "align": "left"
          },
          "hovermode": "closest",
          "mapbox": {
           "style": "light"
          },
          "paper_bgcolor": "white",
          "plot_bgcolor": "#E5ECF6",
          "polar": {
           "angularaxis": {
            "gridcolor": "white",
            "linecolor": "white",
            "ticks": ""
           },
           "bgcolor": "#E5ECF6",
           "radialaxis": {
            "gridcolor": "white",
            "linecolor": "white",
            "ticks": ""
           }
          },
          "scene": {
           "xaxis": {
            "backgroundcolor": "#E5ECF6",
            "gridcolor": "white",
            "gridwidth": 2,
            "linecolor": "white",
            "showbackground": true,
            "ticks": "",
            "zerolinecolor": "white"
           },
           "yaxis": {
            "backgroundcolor": "#E5ECF6",
            "gridcolor": "white",
            "gridwidth": 2,
            "linecolor": "white",
            "showbackground": true,
            "ticks": "",
            "zerolinecolor": "white"
           },
           "zaxis": {
            "backgroundcolor": "#E5ECF6",
            "gridcolor": "white",
            "gridwidth": 2,
            "linecolor": "white",
            "showbackground": true,
            "ticks": "",
            "zerolinecolor": "white"
           }
          },
          "shapedefaults": {
           "line": {
            "color": "#2a3f5f"
           }
          },
          "ternary": {
           "aaxis": {
            "gridcolor": "white",
            "linecolor": "white",
            "ticks": ""
           },
           "baxis": {
            "gridcolor": "white",
            "linecolor": "white",
            "ticks": ""
           },
           "bgcolor": "#E5ECF6",
           "caxis": {
            "gridcolor": "white",
            "linecolor": "white",
            "ticks": ""
           }
          },
          "title": {
           "x": 0.05
          },
          "xaxis": {
           "automargin": true,
           "gridcolor": "white",
           "linecolor": "white",
           "ticks": "",
           "title": {
            "standoff": 15
           },
           "zerolinecolor": "white",
           "zerolinewidth": 2
          },
          "yaxis": {
           "automargin": true,
           "gridcolor": "white",
           "linecolor": "white",
           "ticks": "",
           "title": {
            "standoff": 15
           },
           "zerolinecolor": "white",
           "zerolinewidth": 2
          }
         }
        },
        "width": 800,
        "xaxis": {
         "anchor": "y",
         "categoryarray": [
          "Yes",
          "No"
         ],
         "categoryorder": "array",
         "domain": [
          0,
          1
         ],
         "title": {
          "text": "treatment"
         }
        },
        "yaxis": {
         "anchor": "x",
         "domain": [
          0,
          1
         ],
         "title": {
          "text": "count"
         }
        }
       }
      }
     },
     "metadata": {},
     "output_type": "display_data"
    },
    {
     "data": {
      "text/plain": [
       "<Figure size 800x800 with 0 Axes>"
      ]
     },
     "metadata": {},
     "output_type": "display_data"
    }
   ],
   "source": [
    "#This is our target/dependent variable.\n",
    "plt.figure(figsize=(8,8))\n",
    "fig = px.histogram(data, x = 'treatment',color='treatment', width=800, height=400\n",
    "                  )\n",
    "\n",
    "fig.update_layout(\n",
    "    margin=dict(l=20, r=20, t=20, b=20),\n",
    "    paper_bgcolor=\"LightSteelBlue\",\n",
    ")\n",
    "\n",
    "fig.show()\n"
   ]
  },
  {
   "cell_type": "markdown",
   "metadata": {},
   "source": [
    "General insight\n",
    "\n",
    "Almost half the participants are seeking treatment. This is a significant ratio. \n",
    "Studies have revealed that mental health problems can be a major risk factor to an individual. We must ensure that the people seeking help are provided with help.\n",
    "\n",
    "There is no class imbalance here. Even if there was one, up- or downsampling is not an option on the target variable."
   ]
  },
  {
   "cell_type": "markdown",
   "metadata": {},
   "source": [
    "What age gets/does not get treatment?"
   ]
  },
  {
   "cell_type": "code",
   "execution_count": 204,
   "metadata": {},
   "outputs": [
    {
     "data": {
      "application/vnd.plotly.v1+json": {
       "config": {
        "plotlyServerURL": "https://plot.ly"
       },
       "data": [
        {
         "alignmentgroup": "True",
         "bingroup": "x",
         "hovertemplate": "treatment=Yes<br>age=%{x}<br>count=%{y}<extra></extra>",
         "legendgroup": "Yes",
         "marker": {
          "color": "#636efa",
          "pattern": {
           "shape": ""
          }
         },
         "name": "Yes",
         "offsetgroup": "Yes",
         "orientation": "v",
         "showlegend": true,
         "type": "histogram",
         "x": [
          37,
          31,
          35,
          42,
          31,
          42,
          29,
          23,
          32,
          29,
          46,
          41,
          33,
          35,
          35,
          34,
          30,
          42,
          40,
          27,
          35,
          24,
          27,
          30,
          38,
          30,
          22,
          27,
          24,
          33,
          44,
          26,
          23,
          32,
          27,
          39,
          34,
          29,
          40,
          25,
          31,
          33,
          30,
          26,
          33,
          35,
          28,
          32,
          22,
          28,
          45,
          18,
          33,
          27,
          32,
          19,
          33,
          24,
          39,
          38,
          37,
          37,
          30,
          37,
          25,
          27,
          27,
          25,
          36,
          25,
          33,
          26,
          31,
          22,
          34,
          32,
          45,
          45,
          43,
          35,
          38,
          28,
          35,
          28,
          27,
          34,
          41,
          32,
          21,
          30,
          26,
          32,
          32,
          27,
          30,
          29,
          28,
          26,
          36,
          41,
          38,
          37,
          37,
          28,
          34,
          33,
          40,
          21,
          32,
          29,
          23,
          31,
          23,
          25,
          27,
          30,
          29,
          41,
          32,
          37,
          23,
          38,
          28,
          22,
          18,
          35,
          27,
          26,
          38,
          26,
          45,
          56,
          30,
          33,
          23,
          31,
          28,
          37,
          26,
          30,
          25,
          35,
          36,
          26,
          22,
          41,
          29,
          24,
          25,
          25,
          33,
          25,
          45,
          30,
          25,
          23,
          54,
          25,
          27,
          26,
          31,
          33,
          34,
          34,
          34,
          26,
          32,
          75,
          28,
          36,
          21,
          21,
          41,
          55,
          32,
          21,
          45,
          27,
          25,
          34,
          26,
          41,
          27,
          31,
          25,
          26,
          27,
          29,
          25,
          33,
          75,
          40,
          26,
          29,
          26,
          28,
          35,
          29,
          33,
          33,
          31,
          31,
          26,
          30,
          55,
          28,
          28,
          32,
          28,
          24,
          24,
          33,
          27,
          23,
          29,
          41,
          23,
          26,
          24,
          37,
          43,
          30,
          34,
          27,
          27,
          38,
          57,
          28,
          42,
          31,
          58,
          39,
          57,
          27,
          23,
          43,
          18,
          29,
          43,
          28,
          30,
          24,
          23,
          36,
          25,
          54,
          38,
          35,
          46,
          32,
          47,
          33,
          38,
          46,
          38,
          33,
          34,
          36,
          41,
          51,
          29,
          31,
          31,
          27,
          39,
          26,
          22,
          26,
          31,
          28,
          28,
          36,
          32,
          29,
          21,
          27,
          32,
          22,
          27,
          36,
          28,
          39,
          32,
          38,
          23,
          42,
          26,
          34,
          41,
          29,
          27,
          31,
          43,
          34,
          29,
          19,
          41,
          24,
          31,
          33,
          30,
          32,
          30,
          35,
          22,
          31,
          23,
          31,
          28,
          37,
          34,
          28,
          24,
          56,
          34,
          35,
          36,
          30,
          49,
          29,
          31,
          25,
          29,
          54,
          32,
          30,
          30,
          28,
          29,
          45,
          33,
          38,
          19,
          29,
          23,
          33,
          49,
          27,
          23,
          32,
          33,
          37,
          23,
          43,
          32,
          32,
          29,
          32,
          16,
          30,
          25,
          33,
          30,
          43,
          37,
          33,
          36,
          37,
          39,
          31,
          36,
          30,
          35,
          19,
          37,
          29,
          38,
          26,
          21,
          37,
          37,
          38,
          27,
          33,
          36,
          39,
          33,
          37,
          39,
          32,
          43,
          33,
          34,
          25,
          25,
          39,
          33,
          37,
          35,
          22,
          32,
          35,
          23,
          28,
          40,
          29,
          35,
          28,
          39,
          44,
          26,
          35,
          40,
          35,
          29,
          35,
          29,
          29,
          34,
          44,
          24,
          43,
          31,
          34,
          36,
          40,
          42,
          32,
          32,
          26,
          33,
          46,
          35,
          56,
          32,
          30,
          31,
          29,
          35,
          31,
          32,
          40,
          34,
          25,
          43,
          25,
          49,
          25,
          36,
          48,
          48,
          53,
          24,
          33,
          25,
          30,
          34,
          22,
          35,
          28,
          42,
          35,
          43,
          38,
          26,
          38,
          42,
          33,
          32,
          44,
          28,
          40,
          31,
          28,
          39,
          43,
          35,
          40,
          34,
          24,
          61,
          36,
          33,
          34,
          26,
          35,
          55,
          33,
          26,
          33,
          30,
          40,
          28,
          40,
          37,
          34,
          28,
          29,
          16,
          30,
          20,
          39,
          25,
          42,
          34,
          26,
          35,
          38,
          39,
          46,
          30,
          30,
          42,
          31,
          31,
          26,
          28,
          40,
          26,
          29,
          26,
          33,
          41,
          39,
          26,
          35,
          39,
          31,
          28,
          29,
          27,
          25,
          24,
          25,
          39,
          31,
          40,
          43,
          27,
          37,
          32,
          25,
          29,
          30,
          34,
          32,
          41,
          32,
          28,
          32,
          25,
          37,
          36,
          24,
          40,
          33,
          25,
          50,
          26,
          33,
          33,
          29,
          25,
          40,
          46,
          38,
          32,
          44,
          33,
          45,
          26,
          20,
          16,
          42,
          36,
          27,
          25,
          23,
          21,
          26,
          38,
          39,
          35,
          32,
          38,
          39,
          31,
          30,
          29,
          26,
          46,
          29,
          32,
          40,
          23,
          26,
          25,
          32,
          38,
          72,
          35,
          28,
          38,
          40,
          44,
          34,
          34,
          32,
          28,
          28,
          31,
          34,
          32,
          23,
          29,
          34,
          33,
          38,
          46,
          46,
          41,
          24,
          23,
          25,
          23,
          24,
          25,
          23,
          24,
          23,
          60,
          28,
          31,
          31,
          28,
          43,
          22,
          36,
          41,
          30,
          30,
          36,
          29,
          26,
          32,
          34,
          25
         ],
         "xaxis": "x",
         "yaxis": "y"
        },
        {
         "alignmentgroup": "True",
         "bingroup": "x",
         "hovertemplate": "treatment=No<br>age=%{x}<br>count=%{y}<extra></extra>",
         "legendgroup": "No",
         "marker": {
          "color": "#EF553B",
          "pattern": {
           "shape": ""
          }
         },
         "name": "No",
         "offsetgroup": "No",
         "orientation": "v",
         "showlegend": true,
         "type": "histogram",
         "x": [
          44,
          32,
          31,
          33,
          39,
          23,
          29,
          36,
          27,
          46,
          36,
          31,
          33,
          37,
          32,
          31,
          29,
          38,
          50,
          35,
          18,
          28,
          34,
          26,
          33,
          31,
          32,
          28,
          32,
          26,
          27,
          26,
          35,
          40,
          36,
          31,
          34,
          28,
          34,
          23,
          38,
          33,
          19,
          25,
          31,
          28,
          38,
          23,
          30,
          33,
          31,
          32,
          31,
          34,
          18,
          29,
          24,
          44,
          25,
          29,
          35,
          34,
          32,
          28,
          26,
          21,
          27,
          35,
          29,
          25,
          36,
          27,
          27,
          31,
          32,
          27,
          38,
          39,
          28,
          29,
          22,
          35,
          16,
          30,
          24,
          23,
          29,
          19,
          32,
          28,
          36,
          26,
          31,
          26,
          27,
          34,
          42,
          23,
          24,
          23,
          31,
          28,
          33,
          29,
          26,
          28,
          37,
          24,
          26,
          23,
          28,
          32,
          31,
          35,
          26,
          27,
          37,
          34,
          24,
          26,
          40,
          37,
          31,
          41,
          34,
          33,
          28,
          23,
          24,
          32,
          34,
          24,
          38,
          30,
          25,
          34,
          22,
          25,
          27,
          29,
          28,
          27,
          24,
          29,
          42,
          24,
          27,
          43,
          32,
          32,
          30,
          30,
          34,
          33,
          34,
          28,
          23,
          27,
          25,
          18,
          30,
          35,
          32,
          24,
          60,
          37,
          26,
          26,
          25,
          27,
          27,
          30,
          29,
          25,
          29,
          32,
          25,
          30,
          30,
          24,
          31,
          29,
          46,
          29,
          24,
          29,
          35,
          33,
          27,
          36,
          33,
          22,
          29,
          30,
          25,
          29,
          33,
          35,
          22,
          42,
          31,
          24,
          29,
          48,
          35,
          32,
          23,
          26,
          33,
          22,
          30,
          21,
          30,
          23,
          34,
          26,
          21,
          26,
          23,
          24,
          28,
          34,
          28,
          26,
          20,
          26,
          36,
          33,
          39,
          34,
          40,
          36,
          27,
          35,
          32,
          37,
          29,
          33,
          28,
          26,
          26,
          29,
          34,
          18,
          30,
          23,
          48,
          26,
          33,
          31,
          30,
          27,
          25,
          34,
          40,
          32,
          25,
          42,
          22,
          25,
          29,
          39,
          43,
          62,
          23,
          35,
          25,
          24,
          27,
          27,
          23,
          21,
          27,
          32,
          23,
          30,
          21,
          30,
          25,
          34,
          33,
          24,
          65,
          33,
          40,
          31,
          27,
          50,
          37,
          23,
          33,
          29,
          50,
          35,
          27,
          40,
          29,
          29,
          23,
          31,
          43,
          29,
          35,
          27,
          32,
          50,
          24,
          27,
          27,
          42,
          37,
          30,
          29,
          35,
          38,
          24,
          22,
          32,
          31,
          28,
          35,
          36,
          35,
          57,
          37,
          30,
          26,
          22,
          39,
          34,
          25,
          29,
          32,
          31,
          20,
          27,
          32,
          26,
          30,
          22,
          24,
          26,
          43,
          26,
          23,
          26,
          26,
          35,
          22,
          29,
          21,
          28,
          29,
          30,
          28,
          32,
          37,
          39,
          31,
          29,
          30,
          26,
          37,
          34,
          27,
          30,
          29,
          25,
          37,
          29,
          27,
          33,
          29,
          31,
          21,
          29,
          24,
          29,
          31,
          16,
          33,
          43,
          27,
          32,
          28,
          32,
          33,
          42,
          40,
          36,
          34,
          31,
          39,
          27,
          28,
          32,
          28,
          43,
          27,
          31,
          33,
          25,
          32,
          37,
          29,
          38,
          28,
          27,
          29,
          39,
          30,
          32,
          36,
          27,
          41,
          29,
          36,
          39,
          38,
          34,
          43,
          48,
          20,
          40,
          29,
          40,
          47,
          43,
          36,
          36,
          35,
          33,
          37,
          40,
          23,
          21,
          26,
          31,
          25,
          51,
          24,
          33,
          23,
          34,
          39,
          32,
          43,
          41,
          39,
          37,
          31,
          29,
          23,
          30,
          37,
          36,
          41,
          38,
          26,
          39,
          42,
          29,
          30,
          51,
          33,
          50,
          24,
          24,
          51,
          30,
          30,
          31,
          28,
          33,
          29,
          43,
          29,
          25,
          31,
          34,
          32,
          45,
          38,
          30,
          33,
          32,
          25,
          24,
          25,
          45,
          43,
          49,
          29,
          26,
          38,
          27,
          26,
          27,
          39,
          28,
          23,
          38,
          19,
          28,
          35,
          31,
          32,
          27,
          34,
          34,
          44,
          40,
          33,
          24,
          38,
          31,
          23,
          26,
          25,
          19,
          32,
          32,
          37,
          25,
          19,
          40,
          34,
          26,
          40,
          36,
          35,
          44,
          34,
          35,
          33,
          28,
          23,
          36,
          42,
          27,
          33,
          44,
          34,
          26,
          48,
          34,
          43,
          41,
          25,
          37,
          38,
          16,
          43,
          29,
          43,
          29,
          26,
          35,
          45,
          30,
          37,
          40,
          24,
          34,
          35,
          37,
          28,
          32,
          27,
          27,
          41,
          29,
          28,
          27,
          23,
          26,
          32,
          26,
          34,
          32,
          37,
          51,
          31,
          31,
          32,
          34,
          26,
          29,
          30,
          20,
          38,
          29,
          40,
          27,
          56,
          31,
          34,
          37,
          38,
          27,
          35,
          25,
          24,
          34,
          33,
          24,
          45,
          31,
          28,
          27,
          42,
          28,
          23,
          39,
          32,
          39,
          28,
          30,
          32,
          32,
          36,
          46
         ],
         "xaxis": "x",
         "yaxis": "y"
        }
       ],
       "layout": {
        "barmode": "relative",
        "height": 400,
        "legend": {
         "title": {
          "text": "treatment"
         },
         "tracegroupgap": 0
        },
        "margin": {
         "b": 20,
         "l": 20,
         "r": 20,
         "t": 20
        },
        "paper_bgcolor": "peachpuff",
        "template": {
         "data": {
          "bar": [
           {
            "error_x": {
             "color": "#2a3f5f"
            },
            "error_y": {
             "color": "#2a3f5f"
            },
            "marker": {
             "line": {
              "color": "#E5ECF6",
              "width": 0.5
             },
             "pattern": {
              "fillmode": "overlay",
              "size": 10,
              "solidity": 0.2
             }
            },
            "type": "bar"
           }
          ],
          "barpolar": [
           {
            "marker": {
             "line": {
              "color": "#E5ECF6",
              "width": 0.5
             },
             "pattern": {
              "fillmode": "overlay",
              "size": 10,
              "solidity": 0.2
             }
            },
            "type": "barpolar"
           }
          ],
          "carpet": [
           {
            "aaxis": {
             "endlinecolor": "#2a3f5f",
             "gridcolor": "white",
             "linecolor": "white",
             "minorgridcolor": "white",
             "startlinecolor": "#2a3f5f"
            },
            "baxis": {
             "endlinecolor": "#2a3f5f",
             "gridcolor": "white",
             "linecolor": "white",
             "minorgridcolor": "white",
             "startlinecolor": "#2a3f5f"
            },
            "type": "carpet"
           }
          ],
          "choropleth": [
           {
            "colorbar": {
             "outlinewidth": 0,
             "ticks": ""
            },
            "type": "choropleth"
           }
          ],
          "contour": [
           {
            "colorbar": {
             "outlinewidth": 0,
             "ticks": ""
            },
            "colorscale": [
             [
              0,
              "#0d0887"
             ],
             [
              0.1111111111111111,
              "#46039f"
             ],
             [
              0.2222222222222222,
              "#7201a8"
             ],
             [
              0.3333333333333333,
              "#9c179e"
             ],
             [
              0.4444444444444444,
              "#bd3786"
             ],
             [
              0.5555555555555556,
              "#d8576b"
             ],
             [
              0.6666666666666666,
              "#ed7953"
             ],
             [
              0.7777777777777778,
              "#fb9f3a"
             ],
             [
              0.8888888888888888,
              "#fdca26"
             ],
             [
              1,
              "#f0f921"
             ]
            ],
            "type": "contour"
           }
          ],
          "contourcarpet": [
           {
            "colorbar": {
             "outlinewidth": 0,
             "ticks": ""
            },
            "type": "contourcarpet"
           }
          ],
          "heatmap": [
           {
            "colorbar": {
             "outlinewidth": 0,
             "ticks": ""
            },
            "colorscale": [
             [
              0,
              "#0d0887"
             ],
             [
              0.1111111111111111,
              "#46039f"
             ],
             [
              0.2222222222222222,
              "#7201a8"
             ],
             [
              0.3333333333333333,
              "#9c179e"
             ],
             [
              0.4444444444444444,
              "#bd3786"
             ],
             [
              0.5555555555555556,
              "#d8576b"
             ],
             [
              0.6666666666666666,
              "#ed7953"
             ],
             [
              0.7777777777777778,
              "#fb9f3a"
             ],
             [
              0.8888888888888888,
              "#fdca26"
             ],
             [
              1,
              "#f0f921"
             ]
            ],
            "type": "heatmap"
           }
          ],
          "heatmapgl": [
           {
            "colorbar": {
             "outlinewidth": 0,
             "ticks": ""
            },
            "colorscale": [
             [
              0,
              "#0d0887"
             ],
             [
              0.1111111111111111,
              "#46039f"
             ],
             [
              0.2222222222222222,
              "#7201a8"
             ],
             [
              0.3333333333333333,
              "#9c179e"
             ],
             [
              0.4444444444444444,
              "#bd3786"
             ],
             [
              0.5555555555555556,
              "#d8576b"
             ],
             [
              0.6666666666666666,
              "#ed7953"
             ],
             [
              0.7777777777777778,
              "#fb9f3a"
             ],
             [
              0.8888888888888888,
              "#fdca26"
             ],
             [
              1,
              "#f0f921"
             ]
            ],
            "type": "heatmapgl"
           }
          ],
          "histogram": [
           {
            "marker": {
             "pattern": {
              "fillmode": "overlay",
              "size": 10,
              "solidity": 0.2
             }
            },
            "type": "histogram"
           }
          ],
          "histogram2d": [
           {
            "colorbar": {
             "outlinewidth": 0,
             "ticks": ""
            },
            "colorscale": [
             [
              0,
              "#0d0887"
             ],
             [
              0.1111111111111111,
              "#46039f"
             ],
             [
              0.2222222222222222,
              "#7201a8"
             ],
             [
              0.3333333333333333,
              "#9c179e"
             ],
             [
              0.4444444444444444,
              "#bd3786"
             ],
             [
              0.5555555555555556,
              "#d8576b"
             ],
             [
              0.6666666666666666,
              "#ed7953"
             ],
             [
              0.7777777777777778,
              "#fb9f3a"
             ],
             [
              0.8888888888888888,
              "#fdca26"
             ],
             [
              1,
              "#f0f921"
             ]
            ],
            "type": "histogram2d"
           }
          ],
          "histogram2dcontour": [
           {
            "colorbar": {
             "outlinewidth": 0,
             "ticks": ""
            },
            "colorscale": [
             [
              0,
              "#0d0887"
             ],
             [
              0.1111111111111111,
              "#46039f"
             ],
             [
              0.2222222222222222,
              "#7201a8"
             ],
             [
              0.3333333333333333,
              "#9c179e"
             ],
             [
              0.4444444444444444,
              "#bd3786"
             ],
             [
              0.5555555555555556,
              "#d8576b"
             ],
             [
              0.6666666666666666,
              "#ed7953"
             ],
             [
              0.7777777777777778,
              "#fb9f3a"
             ],
             [
              0.8888888888888888,
              "#fdca26"
             ],
             [
              1,
              "#f0f921"
             ]
            ],
            "type": "histogram2dcontour"
           }
          ],
          "mesh3d": [
           {
            "colorbar": {
             "outlinewidth": 0,
             "ticks": ""
            },
            "type": "mesh3d"
           }
          ],
          "parcoords": [
           {
            "line": {
             "colorbar": {
              "outlinewidth": 0,
              "ticks": ""
             }
            },
            "type": "parcoords"
           }
          ],
          "pie": [
           {
            "automargin": true,
            "type": "pie"
           }
          ],
          "scatter": [
           {
            "fillpattern": {
             "fillmode": "overlay",
             "size": 10,
             "solidity": 0.2
            },
            "type": "scatter"
           }
          ],
          "scatter3d": [
           {
            "line": {
             "colorbar": {
              "outlinewidth": 0,
              "ticks": ""
             }
            },
            "marker": {
             "colorbar": {
              "outlinewidth": 0,
              "ticks": ""
             }
            },
            "type": "scatter3d"
           }
          ],
          "scattercarpet": [
           {
            "marker": {
             "colorbar": {
              "outlinewidth": 0,
              "ticks": ""
             }
            },
            "type": "scattercarpet"
           }
          ],
          "scattergeo": [
           {
            "marker": {
             "colorbar": {
              "outlinewidth": 0,
              "ticks": ""
             }
            },
            "type": "scattergeo"
           }
          ],
          "scattergl": [
           {
            "marker": {
             "colorbar": {
              "outlinewidth": 0,
              "ticks": ""
             }
            },
            "type": "scattergl"
           }
          ],
          "scattermapbox": [
           {
            "marker": {
             "colorbar": {
              "outlinewidth": 0,
              "ticks": ""
             }
            },
            "type": "scattermapbox"
           }
          ],
          "scatterpolar": [
           {
            "marker": {
             "colorbar": {
              "outlinewidth": 0,
              "ticks": ""
             }
            },
            "type": "scatterpolar"
           }
          ],
          "scatterpolargl": [
           {
            "marker": {
             "colorbar": {
              "outlinewidth": 0,
              "ticks": ""
             }
            },
            "type": "scatterpolargl"
           }
          ],
          "scatterternary": [
           {
            "marker": {
             "colorbar": {
              "outlinewidth": 0,
              "ticks": ""
             }
            },
            "type": "scatterternary"
           }
          ],
          "surface": [
           {
            "colorbar": {
             "outlinewidth": 0,
             "ticks": ""
            },
            "colorscale": [
             [
              0,
              "#0d0887"
             ],
             [
              0.1111111111111111,
              "#46039f"
             ],
             [
              0.2222222222222222,
              "#7201a8"
             ],
             [
              0.3333333333333333,
              "#9c179e"
             ],
             [
              0.4444444444444444,
              "#bd3786"
             ],
             [
              0.5555555555555556,
              "#d8576b"
             ],
             [
              0.6666666666666666,
              "#ed7953"
             ],
             [
              0.7777777777777778,
              "#fb9f3a"
             ],
             [
              0.8888888888888888,
              "#fdca26"
             ],
             [
              1,
              "#f0f921"
             ]
            ],
            "type": "surface"
           }
          ],
          "table": [
           {
            "cells": {
             "fill": {
              "color": "#EBF0F8"
             },
             "line": {
              "color": "white"
             }
            },
            "header": {
             "fill": {
              "color": "#C8D4E3"
             },
             "line": {
              "color": "white"
             }
            },
            "type": "table"
           }
          ]
         },
         "layout": {
          "annotationdefaults": {
           "arrowcolor": "#2a3f5f",
           "arrowhead": 0,
           "arrowwidth": 1
          },
          "autotypenumbers": "strict",
          "coloraxis": {
           "colorbar": {
            "outlinewidth": 0,
            "ticks": ""
           }
          },
          "colorscale": {
           "diverging": [
            [
             0,
             "#8e0152"
            ],
            [
             0.1,
             "#c51b7d"
            ],
            [
             0.2,
             "#de77ae"
            ],
            [
             0.3,
             "#f1b6da"
            ],
            [
             0.4,
             "#fde0ef"
            ],
            [
             0.5,
             "#f7f7f7"
            ],
            [
             0.6,
             "#e6f5d0"
            ],
            [
             0.7,
             "#b8e186"
            ],
            [
             0.8,
             "#7fbc41"
            ],
            [
             0.9,
             "#4d9221"
            ],
            [
             1,
             "#276419"
            ]
           ],
           "sequential": [
            [
             0,
             "#0d0887"
            ],
            [
             0.1111111111111111,
             "#46039f"
            ],
            [
             0.2222222222222222,
             "#7201a8"
            ],
            [
             0.3333333333333333,
             "#9c179e"
            ],
            [
             0.4444444444444444,
             "#bd3786"
            ],
            [
             0.5555555555555556,
             "#d8576b"
            ],
            [
             0.6666666666666666,
             "#ed7953"
            ],
            [
             0.7777777777777778,
             "#fb9f3a"
            ],
            [
             0.8888888888888888,
             "#fdca26"
            ],
            [
             1,
             "#f0f921"
            ]
           ],
           "sequentialminus": [
            [
             0,
             "#0d0887"
            ],
            [
             0.1111111111111111,
             "#46039f"
            ],
            [
             0.2222222222222222,
             "#7201a8"
            ],
            [
             0.3333333333333333,
             "#9c179e"
            ],
            [
             0.4444444444444444,
             "#bd3786"
            ],
            [
             0.5555555555555556,
             "#d8576b"
            ],
            [
             0.6666666666666666,
             "#ed7953"
            ],
            [
             0.7777777777777778,
             "#fb9f3a"
            ],
            [
             0.8888888888888888,
             "#fdca26"
            ],
            [
             1,
             "#f0f921"
            ]
           ]
          },
          "colorway": [
           "#636efa",
           "#EF553B",
           "#00cc96",
           "#ab63fa",
           "#FFA15A",
           "#19d3f3",
           "#FF6692",
           "#B6E880",
           "#FF97FF",
           "#FECB52"
          ],
          "font": {
           "color": "#2a3f5f"
          },
          "geo": {
           "bgcolor": "white",
           "lakecolor": "white",
           "landcolor": "#E5ECF6",
           "showlakes": true,
           "showland": true,
           "subunitcolor": "white"
          },
          "hoverlabel": {
           "align": "left"
          },
          "hovermode": "closest",
          "mapbox": {
           "style": "light"
          },
          "paper_bgcolor": "white",
          "plot_bgcolor": "#E5ECF6",
          "polar": {
           "angularaxis": {
            "gridcolor": "white",
            "linecolor": "white",
            "ticks": ""
           },
           "bgcolor": "#E5ECF6",
           "radialaxis": {
            "gridcolor": "white",
            "linecolor": "white",
            "ticks": ""
           }
          },
          "scene": {
           "xaxis": {
            "backgroundcolor": "#E5ECF6",
            "gridcolor": "white",
            "gridwidth": 2,
            "linecolor": "white",
            "showbackground": true,
            "ticks": "",
            "zerolinecolor": "white"
           },
           "yaxis": {
            "backgroundcolor": "#E5ECF6",
            "gridcolor": "white",
            "gridwidth": 2,
            "linecolor": "white",
            "showbackground": true,
            "ticks": "",
            "zerolinecolor": "white"
           },
           "zaxis": {
            "backgroundcolor": "#E5ECF6",
            "gridcolor": "white",
            "gridwidth": 2,
            "linecolor": "white",
            "showbackground": true,
            "ticks": "",
            "zerolinecolor": "white"
           }
          },
          "shapedefaults": {
           "line": {
            "color": "#2a3f5f"
           }
          },
          "ternary": {
           "aaxis": {
            "gridcolor": "white",
            "linecolor": "white",
            "ticks": ""
           },
           "baxis": {
            "gridcolor": "white",
            "linecolor": "white",
            "ticks": ""
           },
           "bgcolor": "#E5ECF6",
           "caxis": {
            "gridcolor": "white",
            "linecolor": "white",
            "ticks": ""
           }
          },
          "title": {
           "x": 0.05
          },
          "xaxis": {
           "automargin": true,
           "gridcolor": "white",
           "linecolor": "white",
           "ticks": "",
           "title": {
            "standoff": 15
           },
           "zerolinecolor": "white",
           "zerolinewidth": 2
          },
          "yaxis": {
           "automargin": true,
           "gridcolor": "white",
           "linecolor": "white",
           "ticks": "",
           "title": {
            "standoff": 15
           },
           "zerolinecolor": "white",
           "zerolinewidth": 2
          }
         }
        },
        "width": 800,
        "xaxis": {
         "anchor": "y",
         "domain": [
          0,
          1
         ],
         "title": {
          "text": "age"
         }
        },
        "yaxis": {
         "anchor": "x",
         "domain": [
          0,
          1
         ],
         "title": {
          "text": "count"
         }
        }
       }
      }
     },
     "metadata": {},
     "output_type": "display_data"
    }
   ],
   "source": [
    "fig = px.histogram(data, x = 'age' , color = 'treatment', width=800, height=400 )\n",
    "fig.update_layout(\n",
    "    margin=dict(l=20, r=20, t=20, b=20),\n",
    "    paper_bgcolor=\"peachpuff\",\n",
    ")\n",
    "\n",
    "fig.show()"
   ]
  },
  {
   "cell_type": "markdown",
   "metadata": {},
   "source": [
    "Here we can see that most people seeking/and not seeking mental-health treatment are within the age-range of 25 to 35. This imbalance is most likely due to the fact that most participants/employees are in that age group.\n",
    "It does not reveal anything related to age and its propensity to mental-health."
   ]
  },
  {
   "cell_type": "markdown",
   "metadata": {},
   "source": [
    "Does your mental-health cause an intefererence with your work?"
   ]
  },
  {
   "cell_type": "code",
   "execution_count": 205,
   "metadata": {},
   "outputs": [
    {
     "data": {
      "text/plain": [
       "<AxesSubplot: xlabel='work_interfere', ylabel='count'>"
      ]
     },
     "execution_count": 205,
     "metadata": {},
     "output_type": "execute_result"
    },
    {
     "data": {
      "image/png": "[encoded data removed]",
      "text/plain": [
       "<Figure size 640x480 with 1 Axes>"
      ]
     },
     "metadata": {},
     "output_type": "display_data"
    }
   ],
   "source": [
    "#sns.set_theme(style='white')\n",
    "sns.set(rc={'axes.facecolor':'cyan', 'figure.facecolor':'cornflowerblue'})\n",
    "sns.countplot(data = data , x = 'work_interfere', palette=['#432371',\"#7fcdbb\"])\n"
   ]
  },
  {
   "cell_type": "code",
   "execution_count": 206,
   "metadata": {},
   "outputs": [
    {
     "data": {
      "application/vnd.plotly.v1+json": {
       "config": {
        "plotlyServerURL": "https://plot.ly"
       },
       "data": [
        {
         "alignmentgroup": "True",
         "bingroup": "x",
         "hovertemplate": "treatment=Yes<br>work_interfere=%{x}<br>count=%{y}<extra></extra>",
         "legendgroup": "Yes",
         "marker": {
          "color": "#636efa",
          "pattern": {
           "shape": ""
          }
         },
         "name": "Yes",
         "offsetgroup": "Yes",
         "orientation": "v",
         "showlegend": true,
         "type": "histogram",
         "x": [
          "Often",
          "Often",
          "Sometimes",
          "Sometimes",
          "Sometimes",
          "Sometimes",
          "Rarely",
          "Sometimes",
          "Sometimes",
          "Sometimes",
          "Often",
          "Never",
          "Rarely",
          "Sometimes",
          "Rarely",
          "Sometimes",
          "Sometimes",
          "Sometimes",
          "Sometimes",
          "Rarely",
          "Rarely",
          "Sometimes",
          "Sometimes",
          "Sometimes",
          "Sometimes",
          "Rarely",
          "Often",
          "Rarely",
          "Sometimes",
          "Often",
          "Sometimes",
          "Sometimes",
          "Often",
          "Sometimes",
          "Often",
          "Often",
          "Rarely",
          "Sometimes",
          "Sometimes",
          "Sometimes",
          "Sometimes",
          "Sometimes",
          "Often",
          "Sometimes",
          "Sometimes",
          "Sometimes",
          "Rarely",
          "Sometimes",
          "Sometimes",
          "Sometimes",
          "Rarely",
          "Rarely",
          "Sometimes",
          "Never",
          "Rarely",
          "Sometimes",
          "Sometimes",
          "Never",
          "Often",
          "Sometimes",
          "Sometimes",
          "Rarely",
          "Rarely",
          "Rarely",
          "Sometimes",
          "Sometimes",
          "Rarely",
          "Sometimes",
          "Sometimes",
          "Sometimes",
          "Sometimes",
          "Sometimes",
          "Often",
          "Never",
          "Sometimes",
          "Often",
          "Sometimes",
          "Sometimes",
          "Often",
          "Never",
          "Often",
          "Sometimes",
          "Rarely",
          "Sometimes",
          "Sometimes",
          "Sometimes",
          "Often",
          "Sometimes",
          "Sometimes",
          "Often",
          "Often",
          "Sometimes",
          "Sometimes",
          "Sometimes",
          "Often",
          "Never",
          "Sometimes",
          "Sometimes",
          "Sometimes",
          "Rarely",
          "Sometimes",
          "Often",
          "Sometimes",
          "Sometimes",
          "Sometimes",
          "Sometimes",
          "Sometimes",
          "Often",
          "Sometimes",
          "Rarely",
          "Sometimes",
          "Rarely",
          "Sometimes",
          "Often",
          "Rarely",
          "Sometimes",
          "Rarely",
          "Sometimes",
          "Sometimes",
          "Often",
          "Never",
          "Rarely",
          "Rarely",
          "Sometimes",
          "Sometimes",
          "Sometimes",
          "Sometimes",
          "Rarely",
          "Sometimes",
          "Rarely",
          "Sometimes",
          "Never",
          "Sometimes",
          "Sometimes",
          "Sometimes",
          "Sometimes",
          "Often",
          "Rarely",
          "Often",
          "Rarely",
          "Often",
          "Rarely",
          "Never",
          "Sometimes",
          "Often",
          "Rarely",
          "Sometimes",
          "Sometimes",
          "Rarely",
          "Sometimes",
          "Rarely",
          "Sometimes",
          "Often",
          "Sometimes",
          "Sometimes",
          "Sometimes",
          "Never",
          "Sometimes",
          "Sometimes",
          "Often",
          "Sometimes",
          "Sometimes",
          "Sometimes",
          "Sometimes",
          "Rarely",
          "Rarely",
          "Rarely",
          "Often",
          "Sometimes",
          "Often",
          "Rarely",
          "Sometimes",
          "Often",
          "Rarely",
          "Sometimes",
          "Rarely",
          "Never",
          "Rarely",
          "Sometimes",
          "Rarely",
          "Never",
          "Never",
          "Rarely",
          "Sometimes",
          "Often",
          "Sometimes",
          "Rarely",
          "Sometimes",
          "Sometimes",
          "Rarely",
          "Often",
          "Rarely",
          "Often",
          "Sometimes",
          "Often",
          "Sometimes",
          "Sometimes",
          "Sometimes",
          "Never",
          "Often",
          "Rarely",
          "Sometimes",
          "Sometimes",
          "Sometimes",
          "Sometimes",
          "Rarely",
          "Sometimes",
          "Sometimes",
          "Rarely",
          "Sometimes",
          "Rarely",
          "Often",
          "Sometimes",
          "Sometimes",
          "Rarely",
          "Sometimes",
          "Sometimes",
          "Sometimes",
          "Rarely",
          "Rarely",
          "Often",
          "Often",
          "Sometimes",
          "Sometimes",
          "Sometimes",
          "Sometimes",
          "Rarely",
          "Sometimes",
          "Rarely",
          "Sometimes",
          "Rarely",
          "Sometimes",
          "Sometimes",
          "Sometimes",
          "Often",
          "Sometimes",
          "Sometimes",
          "Rarely",
          "Sometimes",
          "Sometimes",
          "Often",
          "Sometimes",
          "Often",
          "Sometimes",
          "Often",
          "Sometimes",
          "Never",
          "Sometimes",
          "Sometimes",
          "Sometimes",
          "Sometimes",
          "Sometimes",
          "Sometimes",
          "Rarely",
          "Sometimes",
          "Sometimes",
          "Often",
          "Sometimes",
          "Rarely",
          "Sometimes",
          "Sometimes",
          "Sometimes",
          "Rarely",
          "Sometimes",
          "Often",
          "Never",
          "Sometimes",
          "Often",
          "Rarely",
          "Often",
          "Rarely",
          "Sometimes",
          "Sometimes",
          "Sometimes",
          "Sometimes",
          "Rarely",
          "Often",
          "Sometimes",
          "Sometimes",
          "Rarely",
          "Sometimes",
          "Sometimes",
          "Sometimes",
          "Sometimes",
          "Rarely",
          "Often",
          "Sometimes",
          "Sometimes",
          "Often",
          "Never",
          "Often",
          "Sometimes",
          "Sometimes",
          "Sometimes",
          "Sometimes",
          "Sometimes",
          "Sometimes",
          "Sometimes",
          "Rarely",
          "Sometimes",
          "Often",
          "Sometimes",
          "Often",
          "Rarely",
          "Sometimes",
          "Often",
          "Sometimes",
          "Sometimes",
          "Rarely",
          "Sometimes",
          "Sometimes",
          "Sometimes",
          "Sometimes",
          "Rarely",
          "Sometimes",
          "Rarely",
          "Often",
          "Often",
          "Sometimes",
          "Sometimes",
          "Rarely",
          "Sometimes",
          "Never",
          "Sometimes",
          "Never",
          "Sometimes",
          "Sometimes",
          "Sometimes",
          "Rarely",
          "Often",
          "Rarely",
          "Sometimes",
          "Often",
          "Rarely",
          "Sometimes",
          "Rarely",
          "Sometimes",
          "Sometimes",
          "Sometimes",
          "Sometimes",
          "Rarely",
          "Sometimes",
          "Often",
          "Sometimes",
          "Rarely",
          "Sometimes",
          "Often",
          "Sometimes",
          "Sometimes",
          "Sometimes",
          "Never",
          "Sometimes",
          "Sometimes",
          "Sometimes",
          "Often",
          "Sometimes",
          "Sometimes",
          "Sometimes",
          "Sometimes",
          "Sometimes",
          "Sometimes",
          "Sometimes",
          "Rarely",
          "Sometimes",
          "Sometimes",
          "Sometimes",
          "Sometimes",
          "Sometimes",
          "Often",
          "Rarely",
          "Sometimes",
          "Sometimes",
          "Sometimes",
          "Sometimes",
          "Never",
          "Sometimes",
          "Sometimes",
          "Rarely",
          "Sometimes",
          "Sometimes",
          "Never",
          "Sometimes",
          "Sometimes",
          "Sometimes",
          "Sometimes",
          "Never",
          "Sometimes",
          "Often",
          "Sometimes",
          "Sometimes",
          "Often",
          "Sometimes",
          "Sometimes",
          "Sometimes",
          "Sometimes",
          "Sometimes",
          "Often",
          "Never",
          "Sometimes",
          "Sometimes",
          "Sometimes",
          "Often",
          "Sometimes",
          "Often",
          "Rarely",
          "Sometimes",
          "Rarely",
          "Rarely",
          "Sometimes",
          "Sometimes",
          "Often",
          "Sometimes",
          "Sometimes",
          "Sometimes",
          "Sometimes",
          "Sometimes",
          "Sometimes",
          "Rarely",
          "Rarely",
          "Rarely",
          "Often",
          "Rarely",
          "Sometimes",
          "Rarely",
          "Sometimes",
          "Sometimes",
          "Never",
          "Sometimes",
          "Sometimes",
          "Rarely",
          "Rarely",
          "Often",
          "Sometimes",
          "Rarely",
          "Rarely",
          "Often",
          "Sometimes",
          "Sometimes",
          "Rarely",
          "Never",
          "Sometimes",
          "Rarely",
          "Often",
          "Sometimes",
          "Sometimes",
          "Sometimes",
          "Sometimes",
          "Often",
          "Rarely",
          "Sometimes",
          "Sometimes",
          "Sometimes",
          "Sometimes",
          "Sometimes",
          "Sometimes",
          "Rarely",
          "Often",
          "Never",
          "Rarely",
          "Sometimes",
          "Rarely",
          "Sometimes",
          "Sometimes",
          "Sometimes",
          "Often",
          "Rarely",
          "Sometimes",
          "Sometimes",
          "Rarely",
          "Often",
          "Sometimes",
          "Rarely",
          "Often",
          "Rarely",
          "Rarely",
          "Sometimes",
          "Often",
          "Sometimes",
          "Sometimes",
          "Sometimes",
          "Sometimes",
          "Rarely",
          "Often",
          "Sometimes",
          "Rarely",
          "Often",
          "Often",
          "Sometimes",
          "Often",
          "Sometimes",
          "Sometimes",
          "Rarely",
          "Often",
          "Sometimes",
          "Often",
          "Sometimes",
          "Sometimes",
          "Sometimes",
          "Sometimes",
          "Often",
          "Sometimes",
          "Sometimes",
          "Sometimes",
          "Rarely",
          "Often",
          "Sometimes",
          "Sometimes",
          "Sometimes",
          "Sometimes",
          "Often",
          "Sometimes",
          "Sometimes",
          "Often",
          "Sometimes",
          "Sometimes",
          "Often",
          "Sometimes",
          "Often",
          "Rarely",
          "Often",
          "Sometimes",
          "Often",
          "Sometimes",
          "Often",
          "Sometimes",
          "Sometimes",
          "Sometimes",
          "Sometimes",
          "Often",
          "Sometimes",
          "Sometimes",
          "Often",
          "Often",
          "Often",
          "Often",
          "Sometimes",
          "Sometimes",
          "Sometimes",
          "Sometimes",
          "Often",
          "Sometimes",
          "Sometimes",
          "Sometimes",
          "Rarely",
          "Sometimes",
          "Often",
          "Rarely",
          "Sometimes",
          "Rarely",
          "Often",
          "Sometimes",
          "Often",
          "Sometimes",
          "Never",
          "Sometimes",
          "Rarely",
          "Rarely",
          "Sometimes",
          "Never",
          "Rarely",
          "Often",
          "Sometimes",
          "Often",
          "Sometimes",
          "Rarely",
          "Sometimes",
          "Sometimes",
          "Sometimes",
          "Sometimes",
          "Often",
          "Sometimes",
          "Sometimes",
          "Often",
          "Sometimes",
          "Rarely",
          "Often",
          "Never",
          "Rarely",
          "Sometimes",
          "Sometimes",
          "Often",
          "Sometimes",
          "Sometimes",
          "Sometimes",
          "Sometimes",
          "Rarely",
          "Sometimes",
          "Sometimes",
          "Sometimes",
          "Never",
          "Sometimes",
          "Often",
          "Sometimes",
          "Sometimes",
          "Sometimes",
          "Sometimes",
          "Often",
          "Often",
          "Often",
          "Rarely",
          "Never",
          "Never",
          "Sometimes",
          "Sometimes",
          "Sometimes",
          "Sometimes",
          "Often",
          "Sometimes",
          "Often",
          "Sometimes",
          "Rarely",
          "Sometimes",
          "Rarely",
          "Sometimes",
          "Sometimes",
          "Sometimes",
          "Sometimes",
          "Rarely",
          "Sometimes",
          "Often",
          "Often",
          "Often",
          "Sometimes",
          "Often",
          "Rarely",
          "Rarely",
          "Often",
          "Often",
          "Sometimes",
          "Sometimes",
          "Often",
          "Often",
          "Sometimes",
          "Never",
          "Often",
          "Sometimes",
          "Sometimes"
         ],
         "xaxis": "x",
         "yaxis": "y"
        },
        {
         "alignmentgroup": "True",
         "bingroup": "x",
         "hovertemplate": "treatment=No<br>work_interfere=%{x}<br>count=%{y}<extra></extra>",
         "legendgroup": "No",
         "marker": {
          "color": "#EF553B",
          "pattern": {
           "shape": ""
          }
         },
         "name": "No",
         "offsetgroup": "No",
         "orientation": "v",
         "showlegend": true,
         "type": "histogram",
         "x": [
          "Rarely",
          "Rarely",
          "Never",
          "Sometimes",
          "Never",
          "Never",
          "Never",
          "Never",
          "Never",
          "Sometimes",
          "Never",
          "Never",
          "Never",
          "Sometimes",
          "Never",
          "Rarely",
          "Rarely",
          "Never",
          "Never",
          "Never",
          "Often",
          "Never",
          "Never",
          "Sometimes",
          "Never",
          "Never",
          "Never",
          "Never",
          "Never",
          "Never",
          "Never",
          "Never",
          "Sometimes",
          "Sometimes",
          "Sometimes",
          "Never",
          "Rarely",
          "Never",
          "Never",
          "Rarely",
          "Never",
          "Never",
          "Never",
          "Never",
          "Sometimes",
          "Never",
          "Sometimes",
          "Never",
          "Never",
          "Never",
          "Never",
          "Never",
          "Never",
          "Never",
          "Never",
          "Never",
          "Rarely",
          "Never",
          "Never",
          "Never",
          "Rarely",
          "Never",
          "Never",
          "Never",
          "Never",
          "Often",
          "Rarely",
          "Never",
          "Never",
          "Never",
          "Often",
          "Never",
          "Never",
          "Sometimes",
          "Rarely",
          "Never",
          "Never",
          "Never",
          "Never",
          "Never",
          "Never",
          "Never",
          "Never",
          "Never",
          "Never",
          "Sometimes",
          "Never",
          "Never",
          "Never",
          "Rarely",
          "Never",
          "Often",
          "Never",
          "Rarely",
          "Never",
          "Never",
          "Never",
          "Sometimes",
          "Rarely",
          "Never",
          "Never",
          "Never",
          "Never",
          "Never",
          "Sometimes",
          "Never",
          "Never",
          "Sometimes",
          "Never",
          "Never",
          "Sometimes",
          "Sometimes",
          "Never",
          "Never",
          "Rarely",
          "Never",
          "Sometimes",
          "Never",
          "Never",
          "Never",
          "Never",
          "Sometimes",
          "Never",
          "Never",
          "Never",
          "Never",
          "Rarely",
          "Never",
          "Never",
          "Rarely",
          "Sometimes",
          "Never",
          "Sometimes",
          "Never",
          "Never",
          "Never",
          "Never",
          "Never",
          "Never",
          "Never",
          "Never",
          "Never",
          "Sometimes",
          "Often",
          "Never",
          "Never",
          "Sometimes",
          "Never",
          "Never",
          "Never",
          "Sometimes",
          "Never",
          "Sometimes",
          "Never",
          "Never",
          "Sometimes",
          "Sometimes",
          "Never",
          "Never",
          "Never",
          "Never",
          "Never",
          "Never",
          "Never",
          "Never",
          "Never",
          "Rarely",
          "Never",
          "Never",
          "Sometimes",
          "Never",
          "Never",
          "Never",
          "Never",
          "Never",
          "Never",
          "Never",
          "Never",
          "Never",
          "Never",
          "Never",
          "Never",
          "Never",
          "Sometimes",
          "Never",
          "Never",
          "Never",
          "Sometimes",
          "Sometimes",
          "Never",
          "Rarely",
          "Sometimes",
          "Often",
          "Never",
          "Sometimes",
          "Never",
          "Never",
          "Never",
          "Never",
          "Never",
          "Never",
          "Never",
          "Never",
          "Never",
          "Sometimes",
          "Never",
          "Never",
          "Never",
          "Never",
          "Never",
          "Never",
          "Never",
          "Often",
          "Never",
          "Never",
          "Never",
          "Sometimes",
          "Never",
          "Never",
          "Never",
          "Never",
          "Sometimes",
          "Never",
          "Never",
          "Never",
          "Sometimes",
          "Rarely",
          "Never",
          "Often",
          "Never",
          "Never",
          "Sometimes",
          "Rarely",
          "Never",
          "Never",
          "Never",
          "Never",
          "Never",
          "Sometimes",
          "Never",
          "Never",
          "Sometimes",
          "Sometimes",
          "Never",
          "Never",
          "Never",
          "Never",
          "Sometimes",
          "Never",
          "Never",
          "Rarely",
          "Never",
          "Never",
          "Rarely",
          "Never",
          "Never",
          "Never",
          "Never",
          "Never",
          "Sometimes",
          "Never",
          "Never",
          "Never",
          "Never",
          "Never",
          "Never",
          "Rarely",
          "Sometimes",
          "Never",
          "Sometimes",
          "Rarely",
          "Never",
          "Never",
          "Never",
          "Never",
          "Never",
          "Never",
          "Often",
          "Never",
          "Sometimes",
          "Never",
          "Never",
          "Never",
          "Never",
          "Never",
          "Sometimes",
          "Sometimes",
          "Never",
          "Never",
          "Never",
          "Sometimes",
          "Never",
          "Never",
          "Never",
          "Sometimes",
          "Never",
          "Never",
          "Never",
          "Rarely",
          "Never",
          "Never",
          "Often",
          "Never",
          "Never",
          "Sometimes",
          "Sometimes",
          "Never",
          "Never",
          "Never",
          "Rarely",
          "Often",
          "Sometimes",
          "Rarely",
          "Never",
          "Often",
          "Sometimes",
          "Never",
          "Sometimes",
          "Sometimes",
          "Never",
          "Never",
          "Never",
          "Never",
          "Never",
          "Never",
          "Sometimes",
          "Sometimes",
          "Often",
          "Rarely",
          "Never",
          "Never",
          "Rarely",
          "Never",
          "Never",
          "Rarely",
          "Never",
          "Never",
          "Never",
          "Sometimes",
          "Never",
          "Never",
          "Never",
          "Never",
          "Never",
          "Sometimes",
          "Never",
          "Never",
          "Sometimes",
          "Never",
          "Never",
          "Never",
          "Never",
          "Never",
          "Never",
          "Never",
          "Never",
          "Never",
          "Never",
          "Never",
          "Never",
          "Never",
          "Never",
          "Never",
          "Never",
          "Never",
          "Never",
          "Never",
          "Never",
          "Never",
          "Never",
          "Never",
          "Never",
          "Never",
          "Never",
          "Rarely",
          "Never",
          "Never",
          "Never",
          "Never",
          "Never",
          "Never",
          "Never",
          "Never",
          "Never",
          "Never",
          "Never",
          "Never",
          "Never",
          "Never",
          "Never",
          "Rarely",
          "Sometimes",
          "Never",
          "Never",
          "Never",
          "Never",
          "Never",
          "Sometimes",
          "Never",
          "Never",
          "Never",
          "Never",
          "Never",
          "Never",
          "Rarely",
          "Never",
          "Never",
          "Never",
          "Never",
          "Never",
          "Never",
          "Never",
          "Never",
          "Never",
          "Sometimes",
          "Never",
          "Sometimes",
          "Sometimes",
          "Never",
          "Never",
          "Never",
          "Often",
          "Never",
          "Sometimes",
          "Sometimes",
          "Never",
          "Never",
          "Never",
          "Rarely",
          "Sometimes",
          "Sometimes",
          "Never",
          "Sometimes",
          "Rarely",
          "Never",
          "Never",
          "Sometimes",
          "Never",
          "Never",
          "Never",
          "Never",
          "Never",
          "Never",
          "Never",
          "Never",
          "Sometimes",
          "Never",
          "Never",
          "Never",
          "Never",
          "Never",
          "Never",
          "Never",
          "Never",
          "Never",
          "Never",
          "Never",
          "Never",
          "Never",
          "Sometimes",
          "Sometimes",
          "Never",
          "Never",
          "Never",
          "Never",
          "Never",
          "Sometimes",
          "Never",
          "Never",
          "Never",
          "Never",
          "Never",
          "Sometimes",
          "Never",
          "Sometimes",
          "Sometimes",
          "Never",
          "Never",
          "Never",
          "Often",
          "Sometimes",
          "Never",
          "Never",
          "Never",
          "Never",
          "Never",
          "Sometimes",
          "Often",
          "Never",
          "Rarely",
          "Sometimes",
          "Never",
          "Never",
          "Never",
          "Never",
          "Never",
          "Never",
          "Never",
          "Rarely",
          "Often",
          "Sometimes",
          "Never",
          "Never",
          "Never",
          "Sometimes",
          "Never",
          "Rarely",
          "Never",
          "Never",
          "Sometimes",
          "Never",
          "Never",
          "Never",
          "Sometimes",
          "Sometimes",
          "Sometimes",
          "Never",
          "Never",
          "Rarely",
          "Never",
          "Never",
          "Never",
          "Sometimes",
          "Never",
          "Sometimes",
          "Never",
          "Never",
          "Never",
          "Sometimes",
          "Never",
          "Sometimes",
          "Never",
          "Sometimes",
          "Never",
          "Never",
          "Sometimes",
          "Sometimes",
          "Never",
          "Rarely",
          "Never",
          "Never",
          "Never",
          "Never",
          "Never",
          "Never",
          "Never",
          "Sometimes",
          "Rarely",
          "Never",
          "Never",
          "Never",
          "Never",
          "Never",
          "Never",
          "Never",
          "Never",
          "Sometimes",
          "Sometimes",
          "Never",
          "Often",
          "Never",
          "Never",
          "Sometimes",
          "Never",
          "Never",
          "Sometimes",
          "Never",
          "Never",
          "Rarely",
          "Rarely",
          "Never",
          "Rarely",
          "Sometimes",
          "Never",
          "Never",
          "Sometimes",
          "Rarely",
          "Never",
          "Rarely",
          "Never",
          "Never",
          "Never",
          "Never",
          "Never",
          "Sometimes",
          "Never",
          "Often",
          "Never",
          "Never",
          "Rarely",
          "Never",
          "Never",
          "Sometimes",
          "Never",
          "Rarely",
          "Never",
          "Sometimes",
          "Never",
          "Never",
          "Never",
          "Rarely",
          "Never",
          "Never",
          "Often",
          "Often",
          "Never",
          "Never",
          "Sometimes",
          "Never",
          "Rarely",
          "Never",
          "Never",
          "Never",
          "Never",
          "Never",
          "Never",
          "Sometimes",
          "Sometimes",
          "Never",
          "Never",
          "Rarely",
          "Never"
         ],
         "xaxis": "x",
         "yaxis": "y"
        }
       ],
       "layout": {
        "barmode": "group",
        "height": 400,
        "legend": {
         "title": {
          "text": "treatment"
         },
         "tracegroupgap": 0
        },
        "margin": {
         "b": 20,
         "l": 20,
         "r": 20,
         "t": 20
        },
        "paper_bgcolor": "LightSteelBlue",
        "template": {
         "data": {
          "bar": [
           {
            "error_x": {
             "color": "#2a3f5f"
            },
            "error_y": {
             "color": "#2a3f5f"
            },
            "marker": {
             "line": {
              "color": "#E5ECF6",
              "width": 0.5
             },
             "pattern": {
              "fillmode": "overlay",
              "size": 10,
              "solidity": 0.2
             }
            },
            "type": "bar"
           }
          ],
          "barpolar": [
           {
            "marker": {
             "line": {
              "color": "#E5ECF6",
              "width": 0.5
             },
             "pattern": {
              "fillmode": "overlay",
              "size": 10,
              "solidity": 0.2
             }
            },
            "type": "barpolar"
           }
          ],
          "carpet": [
           {
            "aaxis": {
             "endlinecolor": "#2a3f5f",
             "gridcolor": "white",
             "linecolor": "white",
             "minorgridcolor": "white",
             "startlinecolor": "#2a3f5f"
            },
            "baxis": {
             "endlinecolor": "#2a3f5f",
             "gridcolor": "white",
             "linecolor": "white",
             "minorgridcolor": "white",
             "startlinecolor": "#2a3f5f"
            },
            "type": "carpet"
           }
          ],
          "choropleth": [
           {
            "colorbar": {
             "outlinewidth": 0,
             "ticks": ""
            },
            "type": "choropleth"
           }
          ],
          "contour": [
           {
            "colorbar": {
             "outlinewidth": 0,
             "ticks": ""
            },
            "colorscale": [
             [
              0,
              "#0d0887"
             ],
             [
              0.1111111111111111,
              "#46039f"
             ],
             [
              0.2222222222222222,
              "#7201a8"
             ],
             [
              0.3333333333333333,
              "#9c179e"
             ],
             [
              0.4444444444444444,
              "#bd3786"
             ],
             [
              0.5555555555555556,
              "#d8576b"
             ],
             [
              0.6666666666666666,
              "#ed7953"
             ],
             [
              0.7777777777777778,
              "#fb9f3a"
             ],
             [
              0.8888888888888888,
              "#fdca26"
             ],
             [
              1,
              "#f0f921"
             ]
            ],
            "type": "contour"
           }
          ],
          "contourcarpet": [
           {
            "colorbar": {
             "outlinewidth": 0,
             "ticks": ""
            },
            "type": "contourcarpet"
           }
          ],
          "heatmap": [
           {
            "colorbar": {
             "outlinewidth": 0,
             "ticks": ""
            },
            "colorscale": [
             [
              0,
              "#0d0887"
             ],
             [
              0.1111111111111111,
              "#46039f"
             ],
             [
              0.2222222222222222,
              "#7201a8"
             ],
             [
              0.3333333333333333,
              "#9c179e"
             ],
             [
              0.4444444444444444,
              "#bd3786"
             ],
             [
              0.5555555555555556,
              "#d8576b"
             ],
             [
              0.6666666666666666,
              "#ed7953"
             ],
             [
              0.7777777777777778,
              "#fb9f3a"
             ],
             [
              0.8888888888888888,
              "#fdca26"
             ],
             [
              1,
              "#f0f921"
             ]
            ],
            "type": "heatmap"
           }
          ],
          "heatmapgl": [
           {
            "colorbar": {
             "outlinewidth": 0,
             "ticks": ""
            },
            "colorscale": [
             [
              0,
              "#0d0887"
             ],
             [
              0.1111111111111111,
              "#46039f"
             ],
             [
              0.2222222222222222,
              "#7201a8"
             ],
             [
              0.3333333333333333,
              "#9c179e"
             ],
             [
              0.4444444444444444,
              "#bd3786"
             ],
             [
              0.5555555555555556,
              "#d8576b"
             ],
             [
              0.6666666666666666,
              "#ed7953"
             ],
             [
              0.7777777777777778,
              "#fb9f3a"
             ],
             [
              0.8888888888888888,
              "#fdca26"
             ],
             [
              1,
              "#f0f921"
             ]
            ],
            "type": "heatmapgl"
           }
          ],
          "histogram": [
           {
            "marker": {
             "pattern": {
              "fillmode": "overlay",
              "size": 10,
              "solidity": 0.2
             }
            },
            "type": "histogram"
           }
          ],
          "histogram2d": [
           {
            "colorbar": {
             "outlinewidth": 0,
             "ticks": ""
            },
            "colorscale": [
             [
              0,
              "#0d0887"
             ],
             [
              0.1111111111111111,
              "#46039f"
             ],
             [
              0.2222222222222222,
              "#7201a8"
             ],
             [
              0.3333333333333333,
              "#9c179e"
             ],
             [
              0.4444444444444444,
              "#bd3786"
             ],
             [
              0.5555555555555556,
              "#d8576b"
             ],
             [
              0.6666666666666666,
              "#ed7953"
             ],
             [
              0.7777777777777778,
              "#fb9f3a"
             ],
             [
              0.8888888888888888,
              "#fdca26"
             ],
             [
              1,
              "#f0f921"
             ]
            ],
            "type": "histogram2d"
           }
          ],
          "histogram2dcontour": [
           {
            "colorbar": {
             "outlinewidth": 0,
             "ticks": ""
            },
            "colorscale": [
             [
              0,
              "#0d0887"
             ],
             [
              0.1111111111111111,
              "#46039f"
             ],
             [
              0.2222222222222222,
              "#7201a8"
             ],
             [
              0.3333333333333333,
              "#9c179e"
             ],
             [
              0.4444444444444444,
              "#bd3786"
             ],
             [
              0.5555555555555556,
              "#d8576b"
             ],
             [
              0.6666666666666666,
              "#ed7953"
             ],
             [
              0.7777777777777778,
              "#fb9f3a"
             ],
             [
              0.8888888888888888,
              "#fdca26"
             ],
             [
              1,
              "#f0f921"
             ]
            ],
            "type": "histogram2dcontour"
           }
          ],
          "mesh3d": [
           {
            "colorbar": {
             "outlinewidth": 0,
             "ticks": ""
            },
            "type": "mesh3d"
           }
          ],
          "parcoords": [
           {
            "line": {
             "colorbar": {
              "outlinewidth": 0,
              "ticks": ""
             }
            },
            "type": "parcoords"
           }
          ],
          "pie": [
           {
            "automargin": true,
            "type": "pie"
           }
          ],
          "scatter": [
           {
            "fillpattern": {
             "fillmode": "overlay",
             "size": 10,
             "solidity": 0.2
            },
            "type": "scatter"
           }
          ],
          "scatter3d": [
           {
            "line": {
             "colorbar": {
              "outlinewidth": 0,
              "ticks": ""
             }
            },
            "marker": {
             "colorbar": {
              "outlinewidth": 0,
              "ticks": ""
             }
            },
            "type": "scatter3d"
           }
          ],
          "scattercarpet": [
           {
            "marker": {
             "colorbar": {
              "outlinewidth": 0,
              "ticks": ""
             }
            },
            "type": "scattercarpet"
           }
          ],
          "scattergeo": [
           {
            "marker": {
             "colorbar": {
              "outlinewidth": 0,
              "ticks": ""
             }
            },
            "type": "scattergeo"
           }
          ],
          "scattergl": [
           {
            "marker": {
             "colorbar": {
              "outlinewidth": 0,
              "ticks": ""
             }
            },
            "type": "scattergl"
           }
          ],
          "scattermapbox": [
           {
            "marker": {
             "colorbar": {
              "outlinewidth": 0,
              "ticks": ""
             }
            },
            "type": "scattermapbox"
           }
          ],
          "scatterpolar": [
           {
            "marker": {
             "colorbar": {
              "outlinewidth": 0,
              "ticks": ""
             }
            },
            "type": "scatterpolar"
           }
          ],
          "scatterpolargl": [
           {
            "marker": {
             "colorbar": {
              "outlinewidth": 0,
              "ticks": ""
             }
            },
            "type": "scatterpolargl"
           }
          ],
          "scatterternary": [
           {
            "marker": {
             "colorbar": {
              "outlinewidth": 0,
              "ticks": ""
             }
            },
            "type": "scatterternary"
           }
          ],
          "surface": [
           {
            "colorbar": {
             "outlinewidth": 0,
             "ticks": ""
            },
            "colorscale": [
             [
              0,
              "#0d0887"
             ],
             [
              0.1111111111111111,
              "#46039f"
             ],
             [
              0.2222222222222222,
              "#7201a8"
             ],
             [
              0.3333333333333333,
              "#9c179e"
             ],
             [
              0.4444444444444444,
              "#bd3786"
             ],
             [
              0.5555555555555556,
              "#d8576b"
             ],
             [
              0.6666666666666666,
              "#ed7953"
             ],
             [
              0.7777777777777778,
              "#fb9f3a"
             ],
             [
              0.8888888888888888,
              "#fdca26"
             ],
             [
              1,
              "#f0f921"
             ]
            ],
            "type": "surface"
           }
          ],
          "table": [
           {
            "cells": {
             "fill": {
              "color": "#EBF0F8"
             },
             "line": {
              "color": "white"
             }
            },
            "header": {
             "fill": {
              "color": "#C8D4E3"
             },
             "line": {
              "color": "white"
             }
            },
            "type": "table"
           }
          ]
         },
         "layout": {
          "annotationdefaults": {
           "arrowcolor": "#2a3f5f",
           "arrowhead": 0,
           "arrowwidth": 1
          },
          "autotypenumbers": "strict",
          "coloraxis": {
           "colorbar": {
            "outlinewidth": 0,
            "ticks": ""
           }
          },
          "colorscale": {
           "diverging": [
            [
             0,
             "#8e0152"
            ],
            [
             0.1,
             "#c51b7d"
            ],
            [
             0.2,
             "#de77ae"
            ],
            [
             0.3,
             "#f1b6da"
            ],
            [
             0.4,
             "#fde0ef"
            ],
            [
             0.5,
             "#f7f7f7"
            ],
            [
             0.6,
             "#e6f5d0"
            ],
            [
             0.7,
             "#b8e186"
            ],
            [
             0.8,
             "#7fbc41"
            ],
            [
             0.9,
             "#4d9221"
            ],
            [
             1,
             "#276419"
            ]
           ],
           "sequential": [
            [
             0,
             "#0d0887"
            ],
            [
             0.1111111111111111,
             "#46039f"
            ],
            [
             0.2222222222222222,
             "#7201a8"
            ],
            [
             0.3333333333333333,
             "#9c179e"
            ],
            [
             0.4444444444444444,
             "#bd3786"
            ],
            [
             0.5555555555555556,
             "#d8576b"
            ],
            [
             0.6666666666666666,
             "#ed7953"
            ],
            [
             0.7777777777777778,
             "#fb9f3a"
            ],
            [
             0.8888888888888888,
             "#fdca26"
            ],
            [
             1,
             "#f0f921"
            ]
           ],
           "sequentialminus": [
            [
             0,
             "#0d0887"
            ],
            [
             0.1111111111111111,
             "#46039f"
            ],
            [
             0.2222222222222222,
             "#7201a8"
            ],
            [
             0.3333333333333333,
             "#9c179e"
            ],
            [
             0.4444444444444444,
             "#bd3786"
            ],
            [
             0.5555555555555556,
             "#d8576b"
            ],
            [
             0.6666666666666666,
             "#ed7953"
            ],
            [
             0.7777777777777778,
             "#fb9f3a"
            ],
            [
             0.8888888888888888,
             "#fdca26"
            ],
            [
             1,
             "#f0f921"
            ]
           ]
          },
          "colorway": [
           "#636efa",
           "#EF553B",
           "#00cc96",
           "#ab63fa",
           "#FFA15A",
           "#19d3f3",
           "#FF6692",
           "#B6E880",
           "#FF97FF",
           "#FECB52"
          ],
          "font": {
           "color": "#2a3f5f"
          },
          "geo": {
           "bgcolor": "white",
           "lakecolor": "white",
           "landcolor": "#E5ECF6",
           "showlakes": true,
           "showland": true,
           "subunitcolor": "white"
          },
          "hoverlabel": {
           "align": "left"
          },
          "hovermode": "closest",
          "mapbox": {
           "style": "light"
          },
          "paper_bgcolor": "white",
          "plot_bgcolor": "#E5ECF6",
          "polar": {
           "angularaxis": {
            "gridcolor": "white",
            "linecolor": "white",
            "ticks": ""
           },
           "bgcolor": "#E5ECF6",
           "radialaxis": {
            "gridcolor": "white",
            "linecolor": "white",
            "ticks": ""
           }
          },
          "scene": {
           "xaxis": {
            "backgroundcolor": "#E5ECF6",
            "gridcolor": "white",
            "gridwidth": 2,
            "linecolor": "white",
            "showbackground": true,
            "ticks": "",
            "zerolinecolor": "white"
           },
           "yaxis": {
            "backgroundcolor": "#E5ECF6",
            "gridcolor": "white",
            "gridwidth": 2,
            "linecolor": "white",
            "showbackground": true,
            "ticks": "",
            "zerolinecolor": "white"
           },
           "zaxis": {
            "backgroundcolor": "#E5ECF6",
            "gridcolor": "white",
            "gridwidth": 2,
            "linecolor": "white",
            "showbackground": true,
            "ticks": "",
            "zerolinecolor": "white"
           }
          },
          "shapedefaults": {
           "line": {
            "color": "#2a3f5f"
           }
          },
          "ternary": {
           "aaxis": {
            "gridcolor": "white",
            "linecolor": "white",
            "ticks": ""
           },
           "baxis": {
            "gridcolor": "white",
            "linecolor": "white",
            "ticks": ""
           },
           "bgcolor": "#E5ECF6",
           "caxis": {
            "gridcolor": "white",
            "linecolor": "white",
            "ticks": ""
           }
          },
          "title": {
           "x": 0.05
          },
          "xaxis": {
           "automargin": true,
           "gridcolor": "white",
           "linecolor": "white",
           "ticks": "",
           "title": {
            "standoff": 15
           },
           "zerolinecolor": "white",
           "zerolinewidth": 2
          },
          "yaxis": {
           "automargin": true,
           "gridcolor": "white",
           "linecolor": "white",
           "ticks": "",
           "title": {
            "standoff": 15
           },
           "zerolinecolor": "white",
           "zerolinewidth": 2
          }
         }
        },
        "width": 800,
        "xaxis": {
         "anchor": "y",
         "domain": [
          0,
          1
         ],
         "title": {
          "text": "work_interfere"
         }
        },
        "yaxis": {
         "anchor": "x",
         "domain": [
          0,
          1
         ],
         "title": {
          "text": "count"
         }
        }
       }
      }
     },
     "metadata": {},
     "output_type": "display_data"
    }
   ],
   "source": [
    "fig = px.histogram(data, x = 'work_interfere',color='treatment',barmode='group', width=800, height=400)\n",
    "fig.update_layout(\n",
    "    margin=dict(l=20, r=20, t=20, b=20),\n",
    "    paper_bgcolor=\"LightSteelBlue\",)\n",
    "\n",
    "fig.show()\n"
   ]
  },
  {
   "cell_type": "code",
   "execution_count": 207,
   "metadata": {},
   "outputs": [
    {
     "data": {
      "text/plain": [
       "Never        0.378872\n",
       "Sometimes    0.369341\n",
       "Rarely       0.137411\n",
       "Often        0.114376\n",
       "Name: work_interfere, dtype: float64"
      ]
     },
     "execution_count": 207,
     "metadata": {},
     "output_type": "execute_result"
    }
   ],
   "source": [
    "data['work_interfere'].value_counts(normalize = True)"
   ]
  },
  {
   "cell_type": "markdown",
   "metadata": {},
   "source": [
    "General insight\n",
    "\n",
    "Around 62% of participants have noted that they experience interference at work with the ratios of rarely, sometimes, and frequently. 38% repoprted no interference ever.\n",
    "It's interesting to observe that even the \"never\" interferes-with-work mental health group contains a number of people that still want to get treatment. This is possibly done to prevent future stress at work. These stress-factors can be induced by the large amount of pressure and performance requirements provided by the employer that might be beyond the scope of the employee.\n",
    "If you are running a tech company, or any company, you should consider providing resources for employees seeking treatment. This step can help in boosting employee experience and could increase their productivity and retention-rate."
   ]
  },
  {
   "cell_type": "markdown",
   "metadata": {},
   "source": [
    "Does the participant have a family-history of mental illness?"
   ]
  },
  {
   "cell_type": "code",
   "execution_count": 208,
   "metadata": {},
   "outputs": [
    {
     "data": {
      "application/vnd.plotly.v1+json": {
       "config": {
        "plotlyServerURL": "https://plot.ly"
       },
       "data": [
        {
         "alignmentgroup": "True",
         "bingroup": "x",
         "hovertemplate": "treatment=Yes<br>family_history=%{x}<br>count=%{y}<extra></extra>",
         "legendgroup": "Yes",
         "marker": {
          "color": "#636efa",
          "pattern": {
           "shape": ""
          }
         },
         "name": "Yes",
         "offsetgroup": "Yes",
         "orientation": "v",
         "showlegend": true,
         "type": "histogram",
         "x": [
          "No",
          "Yes",
          "Yes",
          "Yes",
          "No",
          "Yes",
          "Yes",
          "No",
          "No",
          "Yes",
          "No",
          "No",
          "Yes",
          "Yes",
          "Yes",
          "No",
          "Yes",
          "Yes",
          "No",
          "No",
          "No",
          "No",
          "Yes",
          "No",
          "Yes",
          "Yes",
          "Yes",
          "Yes",
          "Yes",
          "Yes",
          "Yes",
          "No",
          "Yes",
          "Yes",
          "No",
          "No",
          "Yes",
          "No",
          "No",
          "No",
          "Yes",
          "No",
          "No",
          "Yes",
          "Yes",
          "Yes",
          "Yes",
          "No",
          "No",
          "No",
          "Yes",
          "No",
          "Yes",
          "No",
          "No",
          "No",
          "Yes",
          "No",
          "No",
          "Yes",
          "No",
          "Yes",
          "No",
          "Yes",
          "Yes",
          "Yes",
          "No",
          "Yes",
          "No",
          "Yes",
          "Yes",
          "No",
          "No",
          "No",
          "Yes",
          "No",
          "No",
          "No",
          "Yes",
          "Yes",
          "Yes",
          "Yes",
          "No",
          "Yes",
          "Yes",
          "No",
          "No",
          "Yes",
          "No",
          "No",
          "No",
          "Yes",
          "No",
          "Yes",
          "No",
          "No",
          "No",
          "No",
          "No",
          "No",
          "No",
          "Yes",
          "Yes",
          "Yes",
          "Yes",
          "Yes",
          "No",
          "No",
          "Yes",
          "Yes",
          "Yes",
          "Yes",
          "No",
          "Yes",
          "No",
          "No",
          "Yes",
          "No",
          "Yes",
          "Yes",
          "Yes",
          "No",
          "No",
          "Yes",
          "No",
          "Yes",
          "Yes",
          "Yes",
          "No",
          "Yes",
          "Yes",
          "No",
          "Yes",
          "Yes",
          "No",
          "No",
          "Yes",
          "No",
          "Yes",
          "Yes",
          "No",
          "No",
          "No",
          "Yes",
          "Yes",
          "Yes",
          "No",
          "Yes",
          "No",
          "Yes",
          "Yes",
          "Yes",
          "No",
          "No",
          "Yes",
          "Yes",
          "Yes",
          "Yes",
          "No",
          "Yes",
          "No",
          "Yes",
          "Yes",
          "No",
          "Yes",
          "Yes",
          "Yes",
          "No",
          "Yes",
          "Yes",
          "Yes",
          "No",
          "Yes",
          "Yes",
          "No",
          "Yes",
          "No",
          "No",
          "Yes",
          "Yes",
          "Yes",
          "No",
          "No",
          "Yes",
          "Yes",
          "No",
          "Yes",
          "Yes",
          "No",
          "Yes",
          "Yes",
          "Yes",
          "Yes",
          "No",
          "Yes",
          "Yes",
          "Yes",
          "Yes",
          "Yes",
          "Yes",
          "Yes",
          "Yes",
          "No",
          "Yes",
          "Yes",
          "Yes",
          "Yes",
          "Yes",
          "No",
          "Yes",
          "Yes",
          "No",
          "No",
          "No",
          "Yes",
          "No",
          "Yes",
          "No",
          "No",
          "Yes",
          "Yes",
          "Yes",
          "No",
          "Yes",
          "Yes",
          "No",
          "Yes",
          "No",
          "No",
          "No",
          "No",
          "No",
          "No",
          "Yes",
          "Yes",
          "No",
          "Yes",
          "No",
          "No",
          "Yes",
          "Yes",
          "Yes",
          "Yes",
          "No",
          "Yes",
          "No",
          "No",
          "No",
          "No",
          "Yes",
          "Yes",
          "No",
          "Yes",
          "No",
          "Yes",
          "No",
          "Yes",
          "Yes",
          "Yes",
          "No",
          "No",
          "Yes",
          "No",
          "Yes",
          "Yes",
          "Yes",
          "Yes",
          "Yes",
          "Yes",
          "Yes",
          "Yes",
          "Yes",
          "No",
          "No",
          "No",
          "Yes",
          "No",
          "Yes",
          "Yes",
          "No",
          "No",
          "No",
          "No",
          "Yes",
          "Yes",
          "No",
          "Yes",
          "Yes",
          "Yes",
          "No",
          "No",
          "Yes",
          "No",
          "Yes",
          "Yes",
          "Yes",
          "Yes",
          "Yes",
          "Yes",
          "Yes",
          "Yes",
          "No",
          "No",
          "Yes",
          "Yes",
          "No",
          "Yes",
          "Yes",
          "Yes",
          "Yes",
          "Yes",
          "Yes",
          "No",
          "Yes",
          "No",
          "No",
          "Yes",
          "No",
          "Yes",
          "Yes",
          "Yes",
          "Yes",
          "Yes",
          "Yes",
          "No",
          "Yes",
          "No",
          "No",
          "Yes",
          "No",
          "No",
          "No",
          "Yes",
          "No",
          "Yes",
          "Yes",
          "Yes",
          "No",
          "No",
          "No",
          "Yes",
          "Yes",
          "No",
          "Yes",
          "No",
          "No",
          "No",
          "Yes",
          "No",
          "Yes",
          "Yes",
          "Yes",
          "Yes",
          "No",
          "No",
          "No",
          "Yes",
          "Yes",
          "No",
          "Yes",
          "No",
          "No",
          "Yes",
          "No",
          "Yes",
          "Yes",
          "Yes",
          "Yes",
          "No",
          "Yes",
          "Yes",
          "Yes",
          "No",
          "Yes",
          "No",
          "No",
          "Yes",
          "Yes",
          "No",
          "No",
          "No",
          "No",
          "Yes",
          "Yes",
          "Yes",
          "No",
          "No",
          "No",
          "No",
          "Yes",
          "Yes",
          "No",
          "Yes",
          "No",
          "Yes",
          "No",
          "No",
          "No",
          "Yes",
          "Yes",
          "No",
          "Yes",
          "Yes",
          "Yes",
          "No",
          "Yes",
          "No",
          "Yes",
          "No",
          "Yes",
          "Yes",
          "No",
          "Yes",
          "No",
          "No",
          "Yes",
          "No",
          "Yes",
          "Yes",
          "No",
          "Yes",
          "No",
          "Yes",
          "No",
          "Yes",
          "Yes",
          "No",
          "Yes",
          "Yes",
          "No",
          "Yes",
          "Yes",
          "No",
          "Yes",
          "Yes",
          "No",
          "Yes",
          "Yes",
          "No",
          "No",
          "No",
          "No",
          "Yes",
          "Yes",
          "Yes",
          "No",
          "No",
          "Yes",
          "Yes",
          "Yes",
          "No",
          "Yes",
          "No",
          "Yes",
          "Yes",
          "Yes",
          "No",
          "Yes",
          "No",
          "Yes",
          "Yes",
          "Yes",
          "Yes",
          "Yes",
          "Yes",
          "No",
          "No",
          "Yes",
          "No",
          "Yes",
          "No",
          "Yes",
          "Yes",
          "Yes",
          "No",
          "No",
          "No",
          "Yes",
          "Yes",
          "No",
          "No",
          "Yes",
          "Yes",
          "Yes",
          "Yes",
          "Yes",
          "Yes",
          "No",
          "Yes",
          "Yes",
          "No",
          "No",
          "Yes",
          "Yes",
          "Yes",
          "No",
          "Yes",
          "Yes",
          "Yes",
          "No",
          "Yes",
          "Yes",
          "Yes",
          "Yes",
          "Yes",
          "Yes",
          "Yes",
          "Yes",
          "No",
          "No",
          "Yes",
          "Yes",
          "No",
          "Yes",
          "Yes",
          "Yes",
          "Yes",
          "Yes",
          "No",
          "No",
          "No",
          "No",
          "Yes",
          "Yes",
          "No",
          "No",
          "Yes",
          "Yes",
          "Yes",
          "Yes",
          "No",
          "Yes",
          "Yes",
          "Yes",
          "Yes",
          "Yes",
          "No",
          "No",
          "Yes",
          "Yes",
          "No",
          "No",
          "No",
          "Yes",
          "Yes",
          "Yes",
          "No",
          "No",
          "Yes",
          "No",
          "Yes",
          "No",
          "Yes",
          "No",
          "Yes",
          "Yes",
          "No",
          "No",
          "No",
          "No",
          "Yes",
          "No",
          "Yes",
          "Yes",
          "Yes",
          "No",
          "Yes",
          "Yes",
          "No",
          "No",
          "Yes",
          "Yes",
          "Yes",
          "No",
          "Yes",
          "Yes",
          "Yes",
          "Yes",
          "No",
          "Yes",
          "No",
          "Yes",
          "No",
          "Yes",
          "No",
          "Yes",
          "No",
          "No",
          "Yes",
          "Yes",
          "Yes",
          "No",
          "Yes",
          "Yes",
          "Yes",
          "No",
          "No",
          "No",
          "No",
          "No",
          "No",
          "Yes",
          "No",
          "No",
          "Yes",
          "No",
          "No",
          "No",
          "Yes",
          "Yes",
          "No",
          "Yes",
          "No",
          "Yes",
          "Yes",
          "No",
          "Yes",
          "No",
          "No",
          "No",
          "No",
          "Yes",
          "Yes",
          "No",
          "No",
          "Yes",
          "Yes",
          "No",
          "Yes",
          "Yes",
          "Yes",
          "Yes",
          "Yes",
          "No",
          "Yes",
          "Yes",
          "Yes"
         ],
         "xaxis": "x",
         "yaxis": "y"
        },
        {
         "alignmentgroup": "True",
         "bingroup": "x",
         "hovertemplate": "treatment=No<br>family_history=%{x}<br>count=%{y}<extra></extra>",
         "legendgroup": "No",
         "marker": {
          "color": "#EF553B",
          "pattern": {
           "shape": ""
          }
         },
         "name": "No",
         "offsetgroup": "No",
         "orientation": "v",
         "showlegend": true,
         "type": "histogram",
         "x": [
          "No",
          "No",
          "No",
          "Yes",
          "No",
          "No",
          "No",
          "Yes",
          "No",
          "Yes",
          "Yes",
          "No",
          "No",
          "No",
          "No",
          "Yes",
          "No",
          "No",
          "No",
          "No",
          "No",
          "No",
          "No",
          "No",
          "No",
          "No",
          "No",
          "No",
          "Yes",
          "No",
          "No",
          "No",
          "No",
          "Yes",
          "No",
          "No",
          "No",
          "No",
          "No",
          "No",
          "No",
          "No",
          "No",
          "No",
          "Yes",
          "No",
          "Yes",
          "No",
          "No",
          "Yes",
          "No",
          "No",
          "No",
          "No",
          "No",
          "No",
          "Yes",
          "No",
          "Yes",
          "No",
          "Yes",
          "Yes",
          "No",
          "No",
          "No",
          "No",
          "No",
          "No",
          "No",
          "No",
          "No",
          "Yes",
          "No",
          "Yes",
          "No",
          "No",
          "No",
          "No",
          "No",
          "No",
          "No",
          "No",
          "No",
          "Yes",
          "No",
          "No",
          "No",
          "Yes",
          "Yes",
          "No",
          "No",
          "No",
          "No",
          "Yes",
          "Yes",
          "No",
          "No",
          "Yes",
          "No",
          "No",
          "No",
          "No",
          "No",
          "No",
          "No",
          "No",
          "No",
          "No",
          "No",
          "Yes",
          "No",
          "No",
          "Yes",
          "No",
          "No",
          "Yes",
          "No",
          "Yes",
          "No",
          "No",
          "No",
          "Yes",
          "No",
          "No",
          "No",
          "No",
          "No",
          "No",
          "No",
          "No",
          "No",
          "No",
          "No",
          "No",
          "No",
          "Yes",
          "No",
          "No",
          "No",
          "No",
          "Yes",
          "No",
          "No",
          "No",
          "No",
          "No",
          "No",
          "No",
          "No",
          "No",
          "No",
          "No",
          "No",
          "No",
          "No",
          "No",
          "Yes",
          "No",
          "No",
          "No",
          "No",
          "No",
          "No",
          "No",
          "No",
          "No",
          "No",
          "No",
          "No",
          "No",
          "Yes",
          "No",
          "No",
          "No",
          "No",
          "No",
          "No",
          "No",
          "No",
          "No",
          "No",
          "No",
          "No",
          "No",
          "No",
          "No",
          "No",
          "Yes",
          "No",
          "No",
          "No",
          "No",
          "No",
          "No",
          "Yes",
          "No",
          "No",
          "Yes",
          "No",
          "No",
          "No",
          "Yes",
          "No",
          "No",
          "No",
          "No",
          "No",
          "Yes",
          "No",
          "No",
          "Yes",
          "Yes",
          "Yes",
          "No",
          "No",
          "No",
          "No",
          "No",
          "No",
          "No",
          "No",
          "No",
          "No",
          "No",
          "No",
          "Yes",
          "No",
          "No",
          "Yes",
          "Yes",
          "Yes",
          "No",
          "No",
          "Yes",
          "No",
          "No",
          "No",
          "No",
          "No",
          "Yes",
          "No",
          "No",
          "No",
          "No",
          "No",
          "No",
          "No",
          "No",
          "No",
          "No",
          "No",
          "No",
          "No",
          "No",
          "Yes",
          "No",
          "No",
          "No",
          "No",
          "No",
          "No",
          "No",
          "No",
          "No",
          "No",
          "No",
          "Yes",
          "No",
          "No",
          "Yes",
          "No",
          "No",
          "No",
          "No",
          "No",
          "No",
          "Yes",
          "No",
          "Yes",
          "No",
          "No",
          "No",
          "No",
          "No",
          "No",
          "Yes",
          "No",
          "No",
          "Yes",
          "No",
          "Yes",
          "No",
          "Yes",
          "No",
          "No",
          "No",
          "No",
          "Yes",
          "No",
          "No",
          "No",
          "Yes",
          "Yes",
          "No",
          "No",
          "No",
          "No",
          "No",
          "No",
          "No",
          "No",
          "No",
          "No",
          "No",
          "Yes",
          "Yes",
          "No",
          "No",
          "No",
          "No",
          "No",
          "No",
          "No",
          "No",
          "No",
          "No",
          "Yes",
          "No",
          "No",
          "Yes",
          "No",
          "No",
          "No",
          "No",
          "No",
          "No",
          "No",
          "No",
          "No",
          "No",
          "No",
          "No",
          "No",
          "No",
          "Yes",
          "No",
          "Yes",
          "Yes",
          "No",
          "No",
          "No",
          "No",
          "No",
          "No",
          "No",
          "No",
          "No",
          "No",
          "No",
          "No",
          "No",
          "No",
          "No",
          "No",
          "No",
          "Yes",
          "No",
          "No",
          "No",
          "Yes",
          "No",
          "No",
          "No",
          "No",
          "No",
          "No",
          "No",
          "No",
          "No",
          "No",
          "No",
          "No",
          "No",
          "No",
          "No",
          "No",
          "Yes",
          "No",
          "No",
          "No",
          "No",
          "Yes",
          "No",
          "No",
          "No",
          "No",
          "No",
          "No",
          "No",
          "No",
          "No",
          "No",
          "Yes",
          "No",
          "No",
          "No",
          "No",
          "Yes",
          "No",
          "No",
          "No",
          "No",
          "Yes",
          "No",
          "Yes",
          "No",
          "No",
          "No",
          "No",
          "No",
          "No",
          "Yes",
          "No",
          "No",
          "Yes",
          "No",
          "No",
          "Yes",
          "No",
          "No",
          "No",
          "Yes",
          "No",
          "No",
          "Yes",
          "Yes",
          "No",
          "Yes",
          "Yes",
          "No",
          "No",
          "No",
          "No",
          "No",
          "No",
          "No",
          "No",
          "No",
          "No",
          "Yes",
          "No",
          "No",
          "Yes",
          "No",
          "No",
          "No",
          "Yes",
          "Yes",
          "No",
          "Yes",
          "Yes",
          "Yes",
          "Yes",
          "No",
          "No",
          "No",
          "No",
          "No",
          "No",
          "No",
          "No",
          "No",
          "Yes",
          "Yes",
          "No",
          "Yes",
          "No",
          "No",
          "Yes",
          "No",
          "Yes",
          "No",
          "No",
          "Yes",
          "No",
          "No",
          "No",
          "Yes",
          "No",
          "Yes",
          "No",
          "Yes",
          "No",
          "No",
          "No",
          "Yes",
          "No",
          "No",
          "Yes",
          "No",
          "Yes",
          "No",
          "No",
          "No",
          "No",
          "Yes",
          "No",
          "No",
          "No",
          "No",
          "No",
          "No",
          "No",
          "Yes",
          "Yes",
          "No",
          "No",
          "No",
          "No",
          "No",
          "No",
          "No",
          "Yes",
          "No",
          "No",
          "Yes",
          "No",
          "Yes",
          "Yes",
          "No",
          "Yes",
          "No",
          "No",
          "No",
          "No",
          "Yes",
          "Yes",
          "No",
          "No",
          "No",
          "No",
          "No",
          "No",
          "No",
          "No",
          "No",
          "No",
          "No",
          "No",
          "No",
          "Yes",
          "No",
          "Yes",
          "No",
          "No",
          "No",
          "Yes",
          "Yes",
          "No",
          "No",
          "No",
          "No",
          "No",
          "No",
          "No",
          "Yes",
          "No",
          "No",
          "No",
          "No",
          "Yes",
          "No",
          "No",
          "Yes",
          "No",
          "Yes",
          "No",
          "No",
          "Yes",
          "No",
          "No",
          "No",
          "No",
          "No",
          "Yes",
          "No",
          "No",
          "No",
          "No",
          "No",
          "Yes",
          "No",
          "No",
          "No",
          "No",
          "No",
          "Yes",
          "No",
          "No",
          "No",
          "No",
          "No",
          "No",
          "Yes",
          "Yes",
          "Yes",
          "No",
          "No",
          "No",
          "No",
          "No",
          "No",
          "No",
          "No",
          "Yes",
          "No",
          "No",
          "No",
          "No",
          "No",
          "Yes",
          "No"
         ],
         "xaxis": "x",
         "yaxis": "y"
        }
       ],
       "layout": {
        "barmode": "group",
        "height": 400,
        "legend": {
         "title": {
          "text": "treatment"
         },
         "tracegroupgap": 0
        },
        "margin": {
         "b": 20,
         "l": 20,
         "r": 20,
         "t": 20
        },
        "paper_bgcolor": "LightSteelBlue",
        "template": {
         "data": {
          "bar": [
           {
            "error_x": {
             "color": "#2a3f5f"
            },
            "error_y": {
             "color": "#2a3f5f"
            },
            "marker": {
             "line": {
              "color": "#E5ECF6",
              "width": 0.5
             },
             "pattern": {
              "fillmode": "overlay",
              "size": 10,
              "solidity": 0.2
             }
            },
            "type": "bar"
           }
          ],
          "barpolar": [
           {
            "marker": {
             "line": {
              "color": "#E5ECF6",
              "width": 0.5
             },
             "pattern": {
              "fillmode": "overlay",
              "size": 10,
              "solidity": 0.2
             }
            },
            "type": "barpolar"
           }
          ],
          "carpet": [
           {
            "aaxis": {
             "endlinecolor": "#2a3f5f",
             "gridcolor": "white",
             "linecolor": "white",
             "minorgridcolor": "white",
             "startlinecolor": "#2a3f5f"
            },
            "baxis": {
             "endlinecolor": "#2a3f5f",
             "gridcolor": "white",
             "linecolor": "white",
             "minorgridcolor": "white",
             "startlinecolor": "#2a3f5f"
            },
            "type": "carpet"
           }
          ],
          "choropleth": [
           {
            "colorbar": {
             "outlinewidth": 0,
             "ticks": ""
            },
            "type": "choropleth"
           }
          ],
          "contour": [
           {
            "colorbar": {
             "outlinewidth": 0,
             "ticks": ""
            },
            "colorscale": [
             [
              0,
              "#0d0887"
             ],
             [
              0.1111111111111111,
              "#46039f"
             ],
             [
              0.2222222222222222,
              "#7201a8"
             ],
             [
              0.3333333333333333,
              "#9c179e"
             ],
             [
              0.4444444444444444,
              "#bd3786"
             ],
             [
              0.5555555555555556,
              "#d8576b"
             ],
             [
              0.6666666666666666,
              "#ed7953"
             ],
             [
              0.7777777777777778,
              "#fb9f3a"
             ],
             [
              0.8888888888888888,
              "#fdca26"
             ],
             [
              1,
              "#f0f921"
             ]
            ],
            "type": "contour"
           }
          ],
          "contourcarpet": [
           {
            "colorbar": {
             "outlinewidth": 0,
             "ticks": ""
            },
            "type": "contourcarpet"
           }
          ],
          "heatmap": [
           {
            "colorbar": {
             "outlinewidth": 0,
             "ticks": ""
            },
            "colorscale": [
             [
              0,
              "#0d0887"
             ],
             [
              0.1111111111111111,
              "#46039f"
             ],
             [
              0.2222222222222222,
              "#7201a8"
             ],
             [
              0.3333333333333333,
              "#9c179e"
             ],
             [
              0.4444444444444444,
              "#bd3786"
             ],
             [
              0.5555555555555556,
              "#d8576b"
             ],
             [
              0.6666666666666666,
              "#ed7953"
             ],
             [
              0.7777777777777778,
              "#fb9f3a"
             ],
             [
              0.8888888888888888,
              "#fdca26"
             ],
             [
              1,
              "#f0f921"
             ]
            ],
            "type": "heatmap"
           }
          ],
          "heatmapgl": [
           {
            "colorbar": {
             "outlinewidth": 0,
             "ticks": ""
            },
            "colorscale": [
             [
              0,
              "#0d0887"
             ],
             [
              0.1111111111111111,
              "#46039f"
             ],
             [
              0.2222222222222222,
              "#7201a8"
             ],
             [
              0.3333333333333333,
              "#9c179e"
             ],
             [
              0.4444444444444444,
              "#bd3786"
             ],
             [
              0.5555555555555556,
              "#d8576b"
             ],
             [
              0.6666666666666666,
              "#ed7953"
             ],
             [
              0.7777777777777778,
              "#fb9f3a"
             ],
             [
              0.8888888888888888,
              "#fdca26"
             ],
             [
              1,
              "#f0f921"
             ]
            ],
            "type": "heatmapgl"
           }
          ],
          "histogram": [
           {
            "marker": {
             "pattern": {
              "fillmode": "overlay",
              "size": 10,
              "solidity": 0.2
             }
            },
            "type": "histogram"
           }
          ],
          "histogram2d": [
           {
            "colorbar": {
             "outlinewidth": 0,
             "ticks": ""
            },
            "colorscale": [
             [
              0,
              "#0d0887"
             ],
             [
              0.1111111111111111,
              "#46039f"
             ],
             [
              0.2222222222222222,
              "#7201a8"
             ],
             [
              0.3333333333333333,
              "#9c179e"
             ],
             [
              0.4444444444444444,
              "#bd3786"
             ],
             [
              0.5555555555555556,
              "#d8576b"
             ],
             [
              0.6666666666666666,
              "#ed7953"
             ],
             [
              0.7777777777777778,
              "#fb9f3a"
             ],
             [
              0.8888888888888888,
              "#fdca26"
             ],
             [
              1,
              "#f0f921"
             ]
            ],
            "type": "histogram2d"
           }
          ],
          "histogram2dcontour": [
           {
            "colorbar": {
             "outlinewidth": 0,
             "ticks": ""
            },
            "colorscale": [
             [
              0,
              "#0d0887"
             ],
             [
              0.1111111111111111,
              "#46039f"
             ],
             [
              0.2222222222222222,
              "#7201a8"
             ],
             [
              0.3333333333333333,
              "#9c179e"
             ],
             [
              0.4444444444444444,
              "#bd3786"
             ],
             [
              0.5555555555555556,
              "#d8576b"
             ],
             [
              0.6666666666666666,
              "#ed7953"
             ],
             [
              0.7777777777777778,
              "#fb9f3a"
             ],
             [
              0.8888888888888888,
              "#fdca26"
             ],
             [
              1,
              "#f0f921"
             ]
            ],
            "type": "histogram2dcontour"
           }
          ],
          "mesh3d": [
           {
            "colorbar": {
             "outlinewidth": 0,
             "ticks": ""
            },
            "type": "mesh3d"
           }
          ],
          "parcoords": [
           {
            "line": {
             "colorbar": {
              "outlinewidth": 0,
              "ticks": ""
             }
            },
            "type": "parcoords"
           }
          ],
          "pie": [
           {
            "automargin": true,
            "type": "pie"
           }
          ],
          "scatter": [
           {
            "fillpattern": {
             "fillmode": "overlay",
             "size": 10,
             "solidity": 0.2
            },
            "type": "scatter"
           }
          ],
          "scatter3d": [
           {
            "line": {
             "colorbar": {
              "outlinewidth": 0,
              "ticks": ""
             }
            },
            "marker": {
             "colorbar": {
              "outlinewidth": 0,
              "ticks": ""
             }
            },
            "type": "scatter3d"
           }
          ],
          "scattercarpet": [
           {
            "marker": {
             "colorbar": {
              "outlinewidth": 0,
              "ticks": ""
             }
            },
            "type": "scattercarpet"
           }
          ],
          "scattergeo": [
           {
            "marker": {
             "colorbar": {
              "outlinewidth": 0,
              "ticks": ""
             }
            },
            "type": "scattergeo"
           }
          ],
          "scattergl": [
           {
            "marker": {
             "colorbar": {
              "outlinewidth": 0,
              "ticks": ""
             }
            },
            "type": "scattergl"
           }
          ],
          "scattermapbox": [
           {
            "marker": {
             "colorbar": {
              "outlinewidth": 0,
              "ticks": ""
             }
            },
            "type": "scattermapbox"
           }
          ],
          "scatterpolar": [
           {
            "marker": {
             "colorbar": {
              "outlinewidth": 0,
              "ticks": ""
             }
            },
            "type": "scatterpolar"
           }
          ],
          "scatterpolargl": [
           {
            "marker": {
             "colorbar": {
              "outlinewidth": 0,
              "ticks": ""
             }
            },
            "type": "scatterpolargl"
           }
          ],
          "scatterternary": [
           {
            "marker": {
             "colorbar": {
              "outlinewidth": 0,
              "ticks": ""
             }
            },
            "type": "scatterternary"
           }
          ],
          "surface": [
           {
            "colorbar": {
             "outlinewidth": 0,
             "ticks": ""
            },
            "colorscale": [
             [
              0,
              "#0d0887"
             ],
             [
              0.1111111111111111,
              "#46039f"
             ],
             [
              0.2222222222222222,
              "#7201a8"
             ],
             [
              0.3333333333333333,
              "#9c179e"
             ],
             [
              0.4444444444444444,
              "#bd3786"
             ],
             [
              0.5555555555555556,
              "#d8576b"
             ],
             [
              0.6666666666666666,
              "#ed7953"
             ],
             [
              0.7777777777777778,
              "#fb9f3a"
             ],
             [
              0.8888888888888888,
              "#fdca26"
             ],
             [
              1,
              "#f0f921"
             ]
            ],
            "type": "surface"
           }
          ],
          "table": [
           {
            "cells": {
             "fill": {
              "color": "#EBF0F8"
             },
             "line": {
              "color": "white"
             }
            },
            "header": {
             "fill": {
              "color": "#C8D4E3"
             },
             "line": {
              "color": "white"
             }
            },
            "type": "table"
           }
          ]
         },
         "layout": {
          "annotationdefaults": {
           "arrowcolor": "#2a3f5f",
           "arrowhead": 0,
           "arrowwidth": 1
          },
          "autotypenumbers": "strict",
          "coloraxis": {
           "colorbar": {
            "outlinewidth": 0,
            "ticks": ""
           }
          },
          "colorscale": {
           "diverging": [
            [
             0,
             "#8e0152"
            ],
            [
             0.1,
             "#c51b7d"
            ],
            [
             0.2,
             "#de77ae"
            ],
            [
             0.3,
             "#f1b6da"
            ],
            [
             0.4,
             "#fde0ef"
            ],
            [
             0.5,
             "#f7f7f7"
            ],
            [
             0.6,
             "#e6f5d0"
            ],
            [
             0.7,
             "#b8e186"
            ],
            [
             0.8,
             "#7fbc41"
            ],
            [
             0.9,
             "#4d9221"
            ],
            [
             1,
             "#276419"
            ]
           ],
           "sequential": [
            [
             0,
             "#0d0887"
            ],
            [
             0.1111111111111111,
             "#46039f"
            ],
            [
             0.2222222222222222,
             "#7201a8"
            ],
            [
             0.3333333333333333,
             "#9c179e"
            ],
            [
             0.4444444444444444,
             "#bd3786"
            ],
            [
             0.5555555555555556,
             "#d8576b"
            ],
            [
             0.6666666666666666,
             "#ed7953"
            ],
            [
             0.7777777777777778,
             "#fb9f3a"
            ],
            [
             0.8888888888888888,
             "#fdca26"
            ],
            [
             1,
             "#f0f921"
            ]
           ],
           "sequentialminus": [
            [
             0,
             "#0d0887"
            ],
            [
             0.1111111111111111,
             "#46039f"
            ],
            [
             0.2222222222222222,
             "#7201a8"
            ],
            [
             0.3333333333333333,
             "#9c179e"
            ],
            [
             0.4444444444444444,
             "#bd3786"
            ],
            [
             0.5555555555555556,
             "#d8576b"
            ],
            [
             0.6666666666666666,
             "#ed7953"
            ],
            [
             0.7777777777777778,
             "#fb9f3a"
            ],
            [
             0.8888888888888888,
             "#fdca26"
            ],
            [
             1,
             "#f0f921"
            ]
           ]
          },
          "colorway": [
           "#636efa",
           "#EF553B",
           "#00cc96",
           "#ab63fa",
           "#FFA15A",
           "#19d3f3",
           "#FF6692",
           "#B6E880",
           "#FF97FF",
           "#FECB52"
          ],
          "font": {
           "color": "#2a3f5f"
          },
          "geo": {
           "bgcolor": "white",
           "lakecolor": "white",
           "landcolor": "#E5ECF6",
           "showlakes": true,
           "showland": true,
           "subunitcolor": "white"
          },
          "hoverlabel": {
           "align": "left"
          },
          "hovermode": "closest",
          "mapbox": {
           "style": "light"
          },
          "paper_bgcolor": "white",
          "plot_bgcolor": "#E5ECF6",
          "polar": {
           "angularaxis": {
            "gridcolor": "white",
            "linecolor": "white",
            "ticks": ""
           },
           "bgcolor": "#E5ECF6",
           "radialaxis": {
            "gridcolor": "white",
            "linecolor": "white",
            "ticks": ""
           }
          },
          "scene": {
           "xaxis": {
            "backgroundcolor": "#E5ECF6",
            "gridcolor": "white",
            "gridwidth": 2,
            "linecolor": "white",
            "showbackground": true,
            "ticks": "",
            "zerolinecolor": "white"
           },
           "yaxis": {
            "backgroundcolor": "#E5ECF6",
            "gridcolor": "white",
            "gridwidth": 2,
            "linecolor": "white",
            "showbackground": true,
            "ticks": "",
            "zerolinecolor": "white"
           },
           "zaxis": {
            "backgroundcolor": "#E5ECF6",
            "gridcolor": "white",
            "gridwidth": 2,
            "linecolor": "white",
            "showbackground": true,
            "ticks": "",
            "zerolinecolor": "white"
           }
          },
          "shapedefaults": {
           "line": {
            "color": "#2a3f5f"
           }
          },
          "ternary": {
           "aaxis": {
            "gridcolor": "white",
            "linecolor": "white",
            "ticks": ""
           },
           "baxis": {
            "gridcolor": "white",
            "linecolor": "white",
            "ticks": ""
           },
           "bgcolor": "#E5ECF6",
           "caxis": {
            "gridcolor": "white",
            "linecolor": "white",
            "ticks": ""
           }
          },
          "title": {
           "x": 0.05
          },
          "xaxis": {
           "automargin": true,
           "gridcolor": "white",
           "linecolor": "white",
           "ticks": "",
           "title": {
            "standoff": 15
           },
           "zerolinecolor": "white",
           "zerolinewidth": 2
          },
          "yaxis": {
           "automargin": true,
           "gridcolor": "white",
           "linecolor": "white",
           "ticks": "",
           "title": {
            "standoff": 15
           },
           "zerolinecolor": "white",
           "zerolinewidth": 2
          }
         }
        },
        "width": 800,
        "xaxis": {
         "anchor": "y",
         "domain": [
          0,
          1
         ],
         "title": {
          "text": "family_history"
         }
        },
        "yaxis": {
         "anchor": "x",
         "domain": [
          0,
          1
         ],
         "title": {
          "text": "count"
         }
        }
       }
      }
     },
     "metadata": {},
     "output_type": "display_data"
    }
   ],
   "source": [
    "fig = px.histogram(data, x = 'family_history',color='treatment',barmode='group', width=800, height=400)\n",
    "fig.update_layout(\n",
    "    margin=dict(l=20, r=20, t=20, b=20),\n",
    "    paper_bgcolor=\"LightSteelBlue\",)\n",
    "\n",
    "fig.show()"
   ]
  },
  {
   "cell_type": "markdown",
   "metadata": {},
   "source": [
    "General insight\n",
    "\n",
    "People who have family history of mental illness are more likely to seek treatment.\n",
    "People with family history are more likely to seek treatment than without family history.\n",
    "Family history is very likely to be an important feature in predicting the choice for treatment."
   ]
  },
  {
   "cell_type": "markdown",
   "metadata": {},
   "source": [
    "Does the company you work for provide mental health benefits?"
   ]
  },
  {
   "cell_type": "code",
   "execution_count": 209,
   "metadata": {},
   "outputs": [
    {
     "data": {
      "text/plain": [
       "<AxesSubplot: xlabel='benefits', ylabel='count'>"
      ]
     },
     "execution_count": 209,
     "metadata": {},
     "output_type": "execute_result"
    },
    {
     "data": {
      "image/png": "[encoded data removed]",
      "text/plain": [
       "<Figure size 640x480 with 1 Axes>"
      ]
     },
     "metadata": {},
     "output_type": "display_data"
    }
   ],
   "source": [
    "sns.set(rc={'axes.facecolor':'lavender', 'figure.facecolor':'cornflowerblue'})\n",
    "sns.countplot(data = data , x = 'benefits')"
   ]
  },
  {
   "cell_type": "code",
   "execution_count": 210,
   "metadata": {},
   "outputs": [
    {
     "data": {
      "text/plain": [
       "Yes           0.378872\n",
       "Don't know    0.324067\n",
       "No            0.297061\n",
       "Name: benefits, dtype: float64"
      ]
     },
     "execution_count": 210,
     "metadata": {},
     "output_type": "execute_result"
    }
   ],
   "source": [
    "data['benefits'].value_counts(normalize = True)"
   ]
  },
  {
   "cell_type": "code",
   "execution_count": 211,
   "metadata": {},
   "outputs": [
    {
     "data": {
      "application/vnd.plotly.v1+json": {
       "config": {
        "plotlyServerURL": "https://plot.ly"
       },
       "data": [
        {
         "alignmentgroup": "True",
         "bingroup": "x",
         "hovertemplate": "treatment=Yes<br>benefits=%{x}<br>count=%{y}<extra></extra>",
         "legendgroup": "Yes",
         "marker": {
          "color": "#636efa",
          "pattern": {
           "shape": ""
          }
         },
         "name": "Yes",
         "offsetgroup": "Yes",
         "orientation": "v",
         "showlegend": true,
         "type": "histogram",
         "x": [
          "Yes",
          "No",
          "No",
          "Yes",
          "Don't know",
          "Yes",
          "Yes",
          "Don't know",
          "Yes",
          "Yes",
          "Yes",
          "Don't know",
          "Yes",
          "Yes",
          "Yes",
          "Don't know",
          "Don't know",
          "Yes",
          "Yes",
          "No",
          "Yes",
          "No",
          "No",
          "Don't know",
          "Yes",
          "Yes",
          "No",
          "Yes",
          "Don't know",
          "Don't know",
          "Yes",
          "Don't know",
          "No",
          "No",
          "Yes",
          "No",
          "Yes",
          "Yes",
          "No",
          "Yes",
          "Don't know",
          "No",
          "No",
          "No",
          "Yes",
          "Don't know",
          "No",
          "Yes",
          "Yes",
          "Yes",
          "Yes",
          "No",
          "Don't know",
          "Yes",
          "Yes",
          "Don't know",
          "Yes",
          "Don't know",
          "Yes",
          "Don't know",
          "No",
          "Yes",
          "No",
          "Yes",
          "Don't know",
          "Don't know",
          "No",
          "Don't know",
          "Yes",
          "Yes",
          "No",
          "Yes",
          "Don't know",
          "Don't know",
          "Yes",
          "Yes",
          "Yes",
          "Don't know",
          "Yes",
          "Yes",
          "No",
          "Yes",
          "No",
          "Don't know",
          "Yes",
          "Yes",
          "No",
          "Don't know",
          "No",
          "No",
          "No",
          "Don't know",
          "Yes",
          "No",
          "Yes",
          "Yes",
          "No",
          "No",
          "Yes",
          "Yes",
          "Don't know",
          "Yes",
          "Yes",
          "Yes",
          "No",
          "Yes",
          "Yes",
          "Don't know",
          "No",
          "Yes",
          "Don't know",
          "Yes",
          "Don't know",
          "No",
          "Yes",
          "Yes",
          "No",
          "Yes",
          "Don't know",
          "Yes",
          "Yes",
          "Yes",
          "Yes",
          "Don't know",
          "Don't know",
          "Yes",
          "No",
          "Yes",
          "No",
          "Yes",
          "Yes",
          "Yes",
          "Yes",
          "Yes",
          "Yes",
          "Yes",
          "Yes",
          "Yes",
          "Yes",
          "Yes",
          "Don't know",
          "Yes",
          "No",
          "Yes",
          "Yes",
          "Yes",
          "Yes",
          "Yes",
          "Yes",
          "Don't know",
          "No",
          "Yes",
          "No",
          "Don't know",
          "Yes",
          "Don't know",
          "Don't know",
          "Yes",
          "Yes",
          "Yes",
          "No",
          "Don't know",
          "Yes",
          "No",
          "No",
          "No",
          "Yes",
          "Yes",
          "Don't know",
          "No",
          "Yes",
          "Don't know",
          "Yes",
          "Yes",
          "Yes",
          "Don't know",
          "Yes",
          "Yes",
          "Don't know",
          "Yes",
          "Yes",
          "Yes",
          "Yes",
          "Yes",
          "No",
          "Don't know",
          "Yes",
          "Yes",
          "Don't know",
          "Yes",
          "No",
          "Yes",
          "Don't know",
          "Don't know",
          "Yes",
          "Yes",
          "Yes",
          "Don't know",
          "Yes",
          "Yes",
          "Don't know",
          "Don't know",
          "Don't know",
          "Don't know",
          "No",
          "Yes",
          "Yes",
          "No",
          "Yes",
          "No",
          "No",
          "No",
          "Don't know",
          "Yes",
          "Yes",
          "Yes",
          "Yes",
          "Yes",
          "Yes",
          "Yes",
          "Yes",
          "Yes",
          "Don't know",
          "Don't know",
          "Don't know",
          "No",
          "Yes",
          "No",
          "Yes",
          "Yes",
          "Yes",
          "Yes",
          "Yes",
          "No",
          "Don't know",
          "Yes",
          "Don't know",
          "Yes",
          "No",
          "Don't know",
          "No",
          "No",
          "Yes",
          "Yes",
          "Don't know",
          "No",
          "Yes",
          "No",
          "Yes",
          "Yes",
          "Yes",
          "Yes",
          "Yes",
          "Yes",
          "Yes",
          "Yes",
          "No",
          "Don't know",
          "Yes",
          "No",
          "Yes",
          "Don't know",
          "Yes",
          "No",
          "Yes",
          "Don't know",
          "Yes",
          "Don't know",
          "Yes",
          "Yes",
          "No",
          "Yes",
          "No",
          "No",
          "No",
          "No",
          "Don't know",
          "No",
          "Don't know",
          "Don't know",
          "Yes",
          "Yes",
          "Yes",
          "Don't know",
          "No",
          "Yes",
          "Yes",
          "Yes",
          "Yes",
          "Yes",
          "No",
          "No",
          "No",
          "Yes",
          "Don't know",
          "No",
          "Yes",
          "Yes",
          "No",
          "Yes",
          "No",
          "No",
          "No",
          "Yes",
          "Yes",
          "Yes",
          "Yes",
          "Don't know",
          "Yes",
          "Yes",
          "No",
          "Yes",
          "No",
          "Yes",
          "Yes",
          "Don't know",
          "No",
          "No",
          "No",
          "Yes",
          "Yes",
          "No",
          "Don't know",
          "Don't know",
          "Yes",
          "Yes",
          "No",
          "Don't know",
          "Don't know",
          "Yes",
          "No",
          "Yes",
          "Don't know",
          "Yes",
          "Don't know",
          "Yes",
          "Yes",
          "Don't know",
          "Yes",
          "Yes",
          "No",
          "Yes",
          "Yes",
          "Yes",
          "Don't know",
          "Don't know",
          "Yes",
          "Yes",
          "No",
          "Don't know",
          "Don't know",
          "No",
          "Don't know",
          "No",
          "No",
          "Don't know",
          "Don't know",
          "No",
          "No",
          "Yes",
          "Yes",
          "Don't know",
          "Yes",
          "Don't know",
          "Don't know",
          "Don't know",
          "Yes",
          "Yes",
          "No",
          "Yes",
          "No",
          "No",
          "Don't know",
          "Yes",
          "Yes",
          "Don't know",
          "No",
          "No",
          "Yes",
          "Don't know",
          "Don't know",
          "No",
          "Don't know",
          "Yes",
          "Yes",
          "Yes",
          "Yes",
          "Don't know",
          "Yes",
          "Don't know",
          "Yes",
          "Don't know",
          "No",
          "No",
          "Yes",
          "No",
          "No",
          "No",
          "Yes",
          "No",
          "No",
          "No",
          "Yes",
          "No",
          "Don't know",
          "No",
          "No",
          "Yes",
          "No",
          "Don't know",
          "Yes",
          "Don't know",
          "Yes",
          "Don't know",
          "No",
          "No",
          "No",
          "No",
          "No",
          "No",
          "No",
          "Yes",
          "Yes",
          "Yes",
          "Don't know",
          "Don't know",
          "Yes",
          "Don't know",
          "Yes",
          "Don't know",
          "No",
          "Don't know",
          "No",
          "No",
          "No",
          "Yes",
          "Yes",
          "Yes",
          "Yes",
          "Yes",
          "No",
          "Yes",
          "No",
          "Don't know",
          "Yes",
          "No",
          "No",
          "Don't know",
          "Yes",
          "Yes",
          "No",
          "Yes",
          "Yes",
          "No",
          "Don't know",
          "No",
          "Don't know",
          "Don't know",
          "Yes",
          "Yes",
          "Yes",
          "Yes",
          "Yes",
          "Don't know",
          "Yes",
          "Yes",
          "Yes",
          "Yes",
          "No",
          "Don't know",
          "No",
          "Don't know",
          "Don't know",
          "Yes",
          "Yes",
          "Don't know",
          "Yes",
          "No",
          "No",
          "No",
          "No",
          "Don't know",
          "No",
          "No",
          "No",
          "Yes",
          "Don't know",
          "No",
          "Yes",
          "Yes",
          "Don't know",
          "Yes",
          "Yes",
          "Don't know",
          "Yes",
          "Don't know",
          "No",
          "Yes",
          "No",
          "Yes",
          "Yes",
          "Yes",
          "Don't know",
          "Don't know",
          "No",
          "No",
          "Don't know",
          "Yes",
          "Yes",
          "Yes",
          "Yes",
          "No",
          "No",
          "No",
          "Yes",
          "Don't know",
          "Yes",
          "Yes",
          "Yes",
          "Yes",
          "Don't know",
          "Don't know",
          "No",
          "Don't know",
          "No",
          "Yes",
          "Yes",
          "Yes",
          "Yes",
          "Yes",
          "No",
          "No",
          "Don't know",
          "Yes",
          "Don't know",
          "Yes",
          "Don't know",
          "Yes",
          "Yes",
          "No",
          "Yes",
          "Yes",
          "No",
          "Don't know",
          "Yes",
          "No",
          "No",
          "No",
          "No",
          "Yes",
          "Yes",
          "Yes",
          "Don't know",
          "Don't know",
          "Don't know",
          "Yes",
          "No",
          "No",
          "Don't know",
          "Don't know",
          "No",
          "Don't know",
          "Yes",
          "Yes",
          "Yes",
          "No",
          "No",
          "Don't know",
          "Don't know",
          "No",
          "No",
          "No",
          "Yes",
          "Yes",
          "Don't know",
          "Don't know",
          "Don't know",
          "No",
          "Yes",
          "Don't know",
          "Yes",
          "Yes",
          "Yes",
          "Yes",
          "No",
          "Yes",
          "No",
          "Yes",
          "Yes",
          "Yes",
          "No",
          "No",
          "Yes",
          "Yes",
          "Yes",
          "Yes",
          "No",
          "Yes",
          "No",
          "Yes",
          "No",
          "No",
          "No",
          "No",
          "Don't know",
          "No",
          "Yes",
          "Yes",
          "Don't know",
          "Don't know",
          "Don't know",
          "Yes",
          "No",
          "Don't know",
          "No",
          "No",
          "Yes",
          "No",
          "Don't know",
          "Yes",
          "Don't know",
          "Yes",
          "Don't know",
          "No",
          "Don't know",
          "Yes",
          "Yes",
          "No",
          "Yes",
          "Yes",
          "Yes",
          "No",
          "Yes",
          "No",
          "Yes",
          "Yes",
          "Yes"
         ],
         "xaxis": "x",
         "yaxis": "y"
        },
        {
         "alignmentgroup": "True",
         "bingroup": "x",
         "hovertemplate": "treatment=No<br>benefits=%{x}<br>count=%{y}<extra></extra>",
         "legendgroup": "No",
         "marker": {
          "color": "#EF553B",
          "pattern": {
           "shape": ""
          }
         },
         "name": "No",
         "offsetgroup": "No",
         "orientation": "v",
         "showlegend": true,
         "type": "histogram",
         "x": [
          "Don't know",
          "No",
          "Yes",
          "Yes",
          "No",
          "Don't know",
          "Don't know",
          "Don't know",
          "Don't know",
          "Yes",
          "No",
          "No",
          "Don't know",
          "No",
          "No",
          "No",
          "No",
          "No",
          "Yes",
          "Yes",
          "No",
          "Don't know",
          "No",
          "No",
          "Don't know",
          "Don't know",
          "Don't know",
          "No",
          "Don't know",
          "No",
          "Yes",
          "No",
          "Don't know",
          "Yes",
          "Yes",
          "Don't know",
          "No",
          "No",
          "Don't know",
          "Yes",
          "No",
          "Don't know",
          "No",
          "Yes",
          "No",
          "Don't know",
          "Yes",
          "Yes",
          "No",
          "No",
          "Don't know",
          "Don't know",
          "Yes",
          "Don't know",
          "Yes",
          "Don't know",
          "Don't know",
          "Yes",
          "Don't know",
          "Yes",
          "Yes",
          "Yes",
          "Yes",
          "Don't know",
          "Don't know",
          "No",
          "Yes",
          "Don't know",
          "Yes",
          "Don't know",
          "Yes",
          "Yes",
          "No",
          "No",
          "No",
          "Don't know",
          "No",
          "No",
          "Don't know",
          "Don't know",
          "Don't know",
          "Don't know",
          "Yes",
          "Don't know",
          "No",
          "No",
          "Don't know",
          "Don't know",
          "Don't know",
          "No",
          "Don't know",
          "Don't know",
          "Yes",
          "Don't know",
          "No",
          "No",
          "No",
          "No",
          "Don't know",
          "Don't know",
          "Don't know",
          "No",
          "Don't know",
          "No",
          "No",
          "Don't know",
          "Yes",
          "Don't know",
          "No",
          "Don't know",
          "No",
          "No",
          "No",
          "Don't know",
          "Yes",
          "Yes",
          "No",
          "Don't know",
          "Don't know",
          "No",
          "Yes",
          "No",
          "Yes",
          "Yes",
          "Yes",
          "Don't know",
          "Don't know",
          "Don't know",
          "Don't know",
          "No",
          "Don't know",
          "Yes",
          "Don't know",
          "Don't know",
          "No",
          "No",
          "Don't know",
          "No",
          "Yes",
          "No",
          "Yes",
          "Don't know",
          "Don't know",
          "No",
          "No",
          "No",
          "No",
          "No",
          "No",
          "No",
          "No",
          "Yes",
          "No",
          "Yes",
          "Yes",
          "No",
          "Don't know",
          "No",
          "Don't know",
          "Don't know",
          "No",
          "Don't know",
          "Yes",
          "Don't know",
          "Yes",
          "Yes",
          "Yes",
          "No",
          "Don't know",
          "Yes",
          "Don't know",
          "Don't know",
          "Don't know",
          "Yes",
          "No",
          "Yes",
          "Don't know",
          "Yes",
          "No",
          "Yes",
          "Don't know",
          "No",
          "Yes",
          "Yes",
          "Yes",
          "Yes",
          "Don't know",
          "No",
          "Don't know",
          "Don't know",
          "Don't know",
          "Don't know",
          "Don't know",
          "No",
          "Yes",
          "No",
          "No",
          "Yes",
          "Yes",
          "Don't know",
          "Don't know",
          "No",
          "Yes",
          "Don't know",
          "No",
          "Don't know",
          "Don't know",
          "Yes",
          "Don't know",
          "Don't know",
          "No",
          "Don't know",
          "Don't know",
          "No",
          "No",
          "Don't know",
          "Don't know",
          "Yes",
          "Yes",
          "Yes",
          "Don't know",
          "Don't know",
          "Don't know",
          "Don't know",
          "Don't know",
          "No",
          "Yes",
          "Yes",
          "Yes",
          "Yes",
          "Yes",
          "Don't know",
          "No",
          "Yes",
          "No",
          "Yes",
          "Don't know",
          "Yes",
          "No",
          "Don't know",
          "No",
          "Don't know",
          "Don't know",
          "Don't know",
          "Don't know",
          "Don't know",
          "Don't know",
          "No",
          "No",
          "Yes",
          "Don't know",
          "No",
          "Don't know",
          "Don't know",
          "No",
          "No",
          "Don't know",
          "Yes",
          "Yes",
          "No",
          "Don't know",
          "Yes",
          "Don't know",
          "Yes",
          "Don't know",
          "No",
          "Don't know",
          "Yes",
          "No",
          "No",
          "Don't know",
          "Don't know",
          "Don't know",
          "Don't know",
          "Don't know",
          "Don't know",
          "Yes",
          "No",
          "Don't know",
          "Yes",
          "Don't know",
          "Don't know",
          "No",
          "Don't know",
          "No",
          "Yes",
          "Don't know",
          "No",
          "Don't know",
          "Don't know",
          "Don't know",
          "Yes",
          "Don't know",
          "No",
          "No",
          "Don't know",
          "Yes",
          "Yes",
          "Yes",
          "Don't know",
          "Don't know",
          "Yes",
          "No",
          "Yes",
          "No",
          "Don't know",
          "Don't know",
          "Don't know",
          "No",
          "No",
          "Don't know",
          "Don't know",
          "Yes",
          "Yes",
          "No",
          "Don't know",
          "Don't know",
          "No",
          "No",
          "No",
          "Yes",
          "Yes",
          "No",
          "Yes",
          "No",
          "No",
          "No",
          "No",
          "Don't know",
          "Don't know",
          "No",
          "No",
          "No",
          "Don't know",
          "Yes",
          "Don't know",
          "Don't know",
          "No",
          "Don't know",
          "Don't know",
          "Don't know",
          "No",
          "Don't know",
          "No",
          "Don't know",
          "Yes",
          "Don't know",
          "Don't know",
          "No",
          "No",
          "No",
          "Don't know",
          "No",
          "Don't know",
          "Yes",
          "No",
          "No",
          "No",
          "Don't know",
          "No",
          "Yes",
          "Don't know",
          "Don't know",
          "No",
          "Don't know",
          "Don't know",
          "Yes",
          "Yes",
          "Yes",
          "No",
          "Yes",
          "Don't know",
          "No",
          "No",
          "Don't know",
          "Don't know",
          "No",
          "Don't know",
          "Yes",
          "Don't know",
          "No",
          "Yes",
          "No",
          "No",
          "Yes",
          "No",
          "Yes",
          "Don't know",
          "No",
          "Yes",
          "No",
          "No",
          "No",
          "Don't know",
          "Don't know",
          "Don't know",
          "Don't know",
          "Don't know",
          "Don't know",
          "Don't know",
          "Don't know",
          "Don't know",
          "No",
          "Don't know",
          "Don't know",
          "Yes",
          "Don't know",
          "No",
          "Yes",
          "Yes",
          "Yes",
          "Don't know",
          "Don't know",
          "Don't know",
          "Yes",
          "Don't know",
          "Don't know",
          "Don't know",
          "No",
          "Don't know",
          "Yes",
          "Don't know",
          "Don't know",
          "Don't know",
          "Yes",
          "Yes",
          "Don't know",
          "Don't know",
          "Yes",
          "No",
          "Don't know",
          "Yes",
          "Don't know",
          "Yes",
          "Yes",
          "No",
          "No",
          "Don't know",
          "Yes",
          "Yes",
          "Don't know",
          "No",
          "Don't know",
          "No",
          "No",
          "No",
          "Don't know",
          "Yes",
          "Don't know",
          "Yes",
          "Yes",
          "Don't know",
          "No",
          "Yes",
          "Yes",
          "Yes",
          "Don't know",
          "Yes",
          "No",
          "Yes",
          "Yes",
          "Don't know",
          "Yes",
          "Don't know",
          "Yes",
          "No",
          "Don't know",
          "No",
          "No",
          "Yes",
          "No",
          "Yes",
          "Don't know",
          "Yes",
          "Yes",
          "Yes",
          "Yes",
          "Yes",
          "Don't know",
          "Don't know",
          "Yes",
          "Yes",
          "No",
          "Don't know",
          "Don't know",
          "Don't know",
          "No",
          "Don't know",
          "Don't know",
          "Don't know",
          "No",
          "Yes",
          "Don't know",
          "Don't know",
          "Yes",
          "Yes",
          "Yes",
          "Yes",
          "Don't know",
          "No",
          "Yes",
          "No",
          "Yes",
          "No",
          "Don't know",
          "Yes",
          "No",
          "No",
          "Don't know",
          "Don't know",
          "Don't know",
          "Yes",
          "No",
          "Yes",
          "Don't know",
          "Yes",
          "Don't know",
          "Don't know",
          "Don't know",
          "Don't know",
          "Yes",
          "No",
          "Don't know",
          "Yes",
          "Don't know",
          "Yes",
          "Yes",
          "Don't know",
          "Yes",
          "Don't know",
          "No",
          "Don't know",
          "No",
          "No",
          "Yes",
          "No",
          "No",
          "Don't know",
          "Don't know",
          "Don't know",
          "Don't know",
          "Don't know",
          "Yes",
          "Yes",
          "Yes",
          "No",
          "Yes",
          "Yes",
          "Don't know",
          "Don't know",
          "Yes",
          "No",
          "Yes",
          "Don't know",
          "Don't know",
          "Yes",
          "Don't know",
          "Don't know",
          "Yes",
          "No",
          "No",
          "Yes",
          "Yes",
          "No",
          "Don't know",
          "No",
          "Yes",
          "No",
          "No",
          "No",
          "No",
          "Don't know",
          "No",
          "No",
          "No",
          "Don't know",
          "Yes",
          "No",
          "Yes",
          "Don't know",
          "Don't know",
          "Don't know",
          "Yes",
          "Don't know",
          "Yes",
          "Don't know",
          "No",
          "Don't know",
          "Yes",
          "No",
          "Don't know",
          "No",
          "No",
          "Don't know",
          "Don't know",
          "Don't know",
          "Yes",
          "Don't know",
          "Don't know",
          "Don't know",
          "Don't know",
          "Don't know",
          "Don't know",
          "Don't know",
          "No",
          "No",
          "Don't know",
          "Don't know",
          "No",
          "Don't know",
          "No",
          "No",
          "Don't know",
          "Yes",
          "Yes",
          "No",
          "No",
          "Don't know",
          "No",
          "Yes",
          "Don't know",
          "No"
         ],
         "xaxis": "x",
         "yaxis": "y"
        }
       ],
       "layout": {
        "barmode": "group",
        "height": 400,
        "legend": {
         "title": {
          "text": "treatment"
         },
         "tracegroupgap": 0
        },
        "margin": {
         "b": 20,
         "l": 20,
         "r": 20,
         "t": 20
        },
        "paper_bgcolor": "LightSteelBlue",
        "template": {
         "data": {
          "bar": [
           {
            "error_x": {
             "color": "#2a3f5f"
            },
            "error_y": {
             "color": "#2a3f5f"
            },
            "marker": {
             "line": {
              "color": "#E5ECF6",
              "width": 0.5
             },
             "pattern": {
              "fillmode": "overlay",
              "size": 10,
              "solidity": 0.2
             }
            },
            "type": "bar"
           }
          ],
          "barpolar": [
           {
            "marker": {
             "line": {
              "color": "#E5ECF6",
              "width": 0.5
             },
             "pattern": {
              "fillmode": "overlay",
              "size": 10,
              "solidity": 0.2
             }
            },
            "type": "barpolar"
           }
          ],
          "carpet": [
           {
            "aaxis": {
             "endlinecolor": "#2a3f5f",
             "gridcolor": "white",
             "linecolor": "white",
             "minorgridcolor": "white",
             "startlinecolor": "#2a3f5f"
            },
            "baxis": {
             "endlinecolor": "#2a3f5f",
             "gridcolor": "white",
             "linecolor": "white",
             "minorgridcolor": "white",
             "startlinecolor": "#2a3f5f"
            },
            "type": "carpet"
           }
          ],
          "choropleth": [
           {
            "colorbar": {
             "outlinewidth": 0,
             "ticks": ""
            },
            "type": "choropleth"
           }
          ],
          "contour": [
           {
            "colorbar": {
             "outlinewidth": 0,
             "ticks": ""
            },
            "colorscale": [
             [
              0,
              "#0d0887"
             ],
             [
              0.1111111111111111,
              "#46039f"
             ],
             [
              0.2222222222222222,
              "#7201a8"
             ],
             [
              0.3333333333333333,
              "#9c179e"
             ],
             [
              0.4444444444444444,
              "#bd3786"
             ],
             [
              0.5555555555555556,
              "#d8576b"
             ],
             [
              0.6666666666666666,
              "#ed7953"
             ],
             [
              0.7777777777777778,
              "#fb9f3a"
             ],
             [
              0.8888888888888888,
              "#fdca26"
             ],
             [
              1,
              "#f0f921"
             ]
            ],
            "type": "contour"
           }
          ],
          "contourcarpet": [
           {
            "colorbar": {
             "outlinewidth": 0,
             "ticks": ""
            },
            "type": "contourcarpet"
           }
          ],
          "heatmap": [
           {
            "colorbar": {
             "outlinewidth": 0,
             "ticks": ""
            },
            "colorscale": [
             [
              0,
              "#0d0887"
             ],
             [
              0.1111111111111111,
              "#46039f"
             ],
             [
              0.2222222222222222,
              "#7201a8"
             ],
             [
              0.3333333333333333,
              "#9c179e"
             ],
             [
              0.4444444444444444,
              "#bd3786"
             ],
             [
              0.5555555555555556,
              "#d8576b"
             ],
             [
              0.6666666666666666,
              "#ed7953"
             ],
             [
              0.7777777777777778,
              "#fb9f3a"
             ],
             [
              0.8888888888888888,
              "#fdca26"
             ],
             [
              1,
              "#f0f921"
             ]
            ],
            "type": "heatmap"
           }
          ],
          "heatmapgl": [
           {
            "colorbar": {
             "outlinewidth": 0,
             "ticks": ""
            },
            "colorscale": [
             [
              0,
              "#0d0887"
             ],
             [
              0.1111111111111111,
              "#46039f"
             ],
             [
              0.2222222222222222,
              "#7201a8"
             ],
             [
              0.3333333333333333,
              "#9c179e"
             ],
             [
              0.4444444444444444,
              "#bd3786"
             ],
             [
              0.5555555555555556,
              "#d8576b"
             ],
             [
              0.6666666666666666,
              "#ed7953"
             ],
             [
              0.7777777777777778,
              "#fb9f3a"
             ],
             [
              0.8888888888888888,
              "#fdca26"
             ],
             [
              1,
              "#f0f921"
             ]
            ],
            "type": "heatmapgl"
           }
          ],
          "histogram": [
           {
            "marker": {
             "pattern": {
              "fillmode": "overlay",
              "size": 10,
              "solidity": 0.2
             }
            },
            "type": "histogram"
           }
          ],
          "histogram2d": [
           {
            "colorbar": {
             "outlinewidth": 0,
             "ticks": ""
            },
            "colorscale": [
             [
              0,
              "#0d0887"
             ],
             [
              0.1111111111111111,
              "#46039f"
             ],
             [
              0.2222222222222222,
              "#7201a8"
             ],
             [
              0.3333333333333333,
              "#9c179e"
             ],
             [
              0.4444444444444444,
              "#bd3786"
             ],
             [
              0.5555555555555556,
              "#d8576b"
             ],
             [
              0.6666666666666666,
              "#ed7953"
             ],
             [
              0.7777777777777778,
              "#fb9f3a"
             ],
             [
              0.8888888888888888,
              "#fdca26"
             ],
             [
              1,
              "#f0f921"
             ]
            ],
            "type": "histogram2d"
           }
          ],
          "histogram2dcontour": [
           {
            "colorbar": {
             "outlinewidth": 0,
             "ticks": ""
            },
            "colorscale": [
             [
              0,
              "#0d0887"
             ],
             [
              0.1111111111111111,
              "#46039f"
             ],
             [
              0.2222222222222222,
              "#7201a8"
             ],
             [
              0.3333333333333333,
              "#9c179e"
             ],
             [
              0.4444444444444444,
              "#bd3786"
             ],
             [
              0.5555555555555556,
              "#d8576b"
             ],
             [
              0.6666666666666666,
              "#ed7953"
             ],
             [
              0.7777777777777778,
              "#fb9f3a"
             ],
             [
              0.8888888888888888,
              "#fdca26"
             ],
             [
              1,
              "#f0f921"
             ]
            ],
            "type": "histogram2dcontour"
           }
          ],
          "mesh3d": [
           {
            "colorbar": {
             "outlinewidth": 0,
             "ticks": ""
            },
            "type": "mesh3d"
           }
          ],
          "parcoords": [
           {
            "line": {
             "colorbar": {
              "outlinewidth": 0,
              "ticks": ""
             }
            },
            "type": "parcoords"
           }
          ],
          "pie": [
           {
            "automargin": true,
            "type": "pie"
           }
          ],
          "scatter": [
           {
            "fillpattern": {
             "fillmode": "overlay",
             "size": 10,
             "solidity": 0.2
            },
            "type": "scatter"
           }
          ],
          "scatter3d": [
           {
            "line": {
             "colorbar": {
              "outlinewidth": 0,
              "ticks": ""
             }
            },
            "marker": {
             "colorbar": {
              "outlinewidth": 0,
              "ticks": ""
             }
            },
            "type": "scatter3d"
           }
          ],
          "scattercarpet": [
           {
            "marker": {
             "colorbar": {
              "outlinewidth": 0,
              "ticks": ""
             }
            },
            "type": "scattercarpet"
           }
          ],
          "scattergeo": [
           {
            "marker": {
             "colorbar": {
              "outlinewidth": 0,
              "ticks": ""
             }
            },
            "type": "scattergeo"
           }
          ],
          "scattergl": [
           {
            "marker": {
             "colorbar": {
              "outlinewidth": 0,
              "ticks": ""
             }
            },
            "type": "scattergl"
           }
          ],
          "scattermapbox": [
           {
            "marker": {
             "colorbar": {
              "outlinewidth": 0,
              "ticks": ""
             }
            },
            "type": "scattermapbox"
           }
          ],
          "scatterpolar": [
           {
            "marker": {
             "colorbar": {
              "outlinewidth": 0,
              "ticks": ""
             }
            },
            "type": "scatterpolar"
           }
          ],
          "scatterpolargl": [
           {
            "marker": {
             "colorbar": {
              "outlinewidth": 0,
              "ticks": ""
             }
            },
            "type": "scatterpolargl"
           }
          ],
          "scatterternary": [
           {
            "marker": {
             "colorbar": {
              "outlinewidth": 0,
              "ticks": ""
             }
            },
            "type": "scatterternary"
           }
          ],
          "surface": [
           {
            "colorbar": {
             "outlinewidth": 0,
             "ticks": ""
            },
            "colorscale": [
             [
              0,
              "#0d0887"
             ],
             [
              0.1111111111111111,
              "#46039f"
             ],
             [
              0.2222222222222222,
              "#7201a8"
             ],
             [
              0.3333333333333333,
              "#9c179e"
             ],
             [
              0.4444444444444444,
              "#bd3786"
             ],
             [
              0.5555555555555556,
              "#d8576b"
             ],
             [
              0.6666666666666666,
              "#ed7953"
             ],
             [
              0.7777777777777778,
              "#fb9f3a"
             ],
             [
              0.8888888888888888,
              "#fdca26"
             ],
             [
              1,
              "#f0f921"
             ]
            ],
            "type": "surface"
           }
          ],
          "table": [
           {
            "cells": {
             "fill": {
              "color": "#EBF0F8"
             },
             "line": {
              "color": "white"
             }
            },
            "header": {
             "fill": {
              "color": "#C8D4E3"
             },
             "line": {
              "color": "white"
             }
            },
            "type": "table"
           }
          ]
         },
         "layout": {
          "annotationdefaults": {
           "arrowcolor": "#2a3f5f",
           "arrowhead": 0,
           "arrowwidth": 1
          },
          "autotypenumbers": "strict",
          "coloraxis": {
           "colorbar": {
            "outlinewidth": 0,
            "ticks": ""
           }
          },
          "colorscale": {
           "diverging": [
            [
             0,
             "#8e0152"
            ],
            [
             0.1,
             "#c51b7d"
            ],
            [
             0.2,
             "#de77ae"
            ],
            [
             0.3,
             "#f1b6da"
            ],
            [
             0.4,
             "#fde0ef"
            ],
            [
             0.5,
             "#f7f7f7"
            ],
            [
             0.6,
             "#e6f5d0"
            ],
            [
             0.7,
             "#b8e186"
            ],
            [
             0.8,
             "#7fbc41"
            ],
            [
             0.9,
             "#4d9221"
            ],
            [
             1,
             "#276419"
            ]
           ],
           "sequential": [
            [
             0,
             "#0d0887"
            ],
            [
             0.1111111111111111,
             "#46039f"
            ],
            [
             0.2222222222222222,
             "#7201a8"
            ],
            [
             0.3333333333333333,
             "#9c179e"
            ],
            [
             0.4444444444444444,
             "#bd3786"
            ],
            [
             0.5555555555555556,
             "#d8576b"
            ],
            [
             0.6666666666666666,
             "#ed7953"
            ],
            [
             0.7777777777777778,
             "#fb9f3a"
            ],
            [
             0.8888888888888888,
             "#fdca26"
            ],
            [
             1,
             "#f0f921"
            ]
           ],
           "sequentialminus": [
            [
             0,
             "#0d0887"
            ],
            [
             0.1111111111111111,
             "#46039f"
            ],
            [
             0.2222222222222222,
             "#7201a8"
            ],
            [
             0.3333333333333333,
             "#9c179e"
            ],
            [
             0.4444444444444444,
             "#bd3786"
            ],
            [
             0.5555555555555556,
             "#d8576b"
            ],
            [
             0.6666666666666666,
             "#ed7953"
            ],
            [
             0.7777777777777778,
             "#fb9f3a"
            ],
            [
             0.8888888888888888,
             "#fdca26"
            ],
            [
             1,
             "#f0f921"
            ]
           ]
          },
          "colorway": [
           "#636efa",
           "#EF553B",
           "#00cc96",
           "#ab63fa",
           "#FFA15A",
           "#19d3f3",
           "#FF6692",
           "#B6E880",
           "#FF97FF",
           "#FECB52"
          ],
          "font": {
           "color": "#2a3f5f"
          },
          "geo": {
           "bgcolor": "white",
           "lakecolor": "white",
           "landcolor": "#E5ECF6",
           "showlakes": true,
           "showland": true,
           "subunitcolor": "white"
          },
          "hoverlabel": {
           "align": "left"
          },
          "hovermode": "closest",
          "mapbox": {
           "style": "light"
          },
          "paper_bgcolor": "white",
          "plot_bgcolor": "#E5ECF6",
          "polar": {
           "angularaxis": {
            "gridcolor": "white",
            "linecolor": "white",
            "ticks": ""
           },
           "bgcolor": "#E5ECF6",
           "radialaxis": {
            "gridcolor": "white",
            "linecolor": "white",
            "ticks": ""
           }
          },
          "scene": {
           "xaxis": {
            "backgroundcolor": "#E5ECF6",
            "gridcolor": "white",
            "gridwidth": 2,
            "linecolor": "white",
            "showbackground": true,
            "ticks": "",
            "zerolinecolor": "white"
           },
           "yaxis": {
            "backgroundcolor": "#E5ECF6",
            "gridcolor": "white",
            "gridwidth": 2,
            "linecolor": "white",
            "showbackground": true,
            "ticks": "",
            "zerolinecolor": "white"
           },
           "zaxis": {
            "backgroundcolor": "#E5ECF6",
            "gridcolor": "white",
            "gridwidth": 2,
            "linecolor": "white",
            "showbackground": true,
            "ticks": "",
            "zerolinecolor": "white"
           }
          },
          "shapedefaults": {
           "line": {
            "color": "#2a3f5f"
           }
          },
          "ternary": {
           "aaxis": {
            "gridcolor": "white",
            "linecolor": "white",
            "ticks": ""
           },
           "baxis": {
            "gridcolor": "white",
            "linecolor": "white",
            "ticks": ""
           },
           "bgcolor": "#E5ECF6",
           "caxis": {
            "gridcolor": "white",
            "linecolor": "white",
            "ticks": ""
           }
          },
          "title": {
           "x": 0.05
          },
          "xaxis": {
           "automargin": true,
           "gridcolor": "white",
           "linecolor": "white",
           "ticks": "",
           "title": {
            "standoff": 15
           },
           "zerolinecolor": "white",
           "zerolinewidth": 2
          },
          "yaxis": {
           "automargin": true,
           "gridcolor": "white",
           "linecolor": "white",
           "ticks": "",
           "title": {
            "standoff": 15
           },
           "zerolinecolor": "white",
           "zerolinewidth": 2
          }
         }
        },
        "width": 800,
        "xaxis": {
         "anchor": "y",
         "domain": [
          0,
          1
         ],
         "title": {
          "text": "benefits"
         }
        },
        "yaxis": {
         "anchor": "x",
         "domain": [
          0,
          1
         ],
         "title": {
          "text": "count"
         }
        }
       }
      }
     },
     "metadata": {},
     "output_type": "display_data"
    }
   ],
   "source": [
    "fig = px.histogram(data, x = 'benefits',color='treatment',barmode='group', width=800, height=400)\n",
    "fig.update_layout(\n",
    "    margin=dict(l=20, r=20, t=20, b=20),\n",
    "    paper_bgcolor=\"LightSteelBlue\",\n",
    ")\n",
    "\n",
    "fig.show()"
   ]
  },
  {
   "cell_type": "markdown",
   "metadata": {},
   "source": [
    "General insight\n",
    "\n",
    "Here we observe that 38% of the respondents stated that their company provides them with benefits related to mental-health. Additionally, a not so insignificant number of 32% had no knowledge of whether their company provided such benefits.\n",
    "Coming to the second graph,we see that for the people who responded with \"Yes\", around 64% of them said that they were seeking treatment. So we can see the employer resources are utilized to a larger extent, which is expected.\n",
    "The worker retention rate and job satisfaction and productivity would compenstate for the extra cost for such programs.\n",
    "Surprisingly, for the participants who responded with \"No\", 48% of them sought out mental health treatment."
   ]
  },
  {
   "cell_type": "markdown",
   "metadata": {},
   "source": [
    "Does your employer provide resources to learn more about mental health issues and how to seek help?"
   ]
  },
  {
   "cell_type": "code",
   "execution_count": 212,
   "metadata": {},
   "outputs": [
    {
     "data": {
      "text/plain": [
       "<AxesSubplot: xlabel='seek_help', ylabel='count'>"
      ]
     },
     "execution_count": 212,
     "metadata": {},
     "output_type": "execute_result"
    },
    {
     "data": {
      "image/png": "[encoded data removed]",
      "text/plain": [
       "<Figure size 640x480 with 1 Axes>"
      ]
     },
     "metadata": {},
     "output_type": "display_data"
    }
   ],
   "source": [
    "sns.set(rc={'axes.facecolor':'lightsteelblue', 'figure.facecolor':'cyan'})\n",
    "sns.countplot(data = data , x = 'seek_help', palette=['#432371',\"#FAAE7B\",\"#ff9f9b\"])"
   ]
  },
  {
   "cell_type": "code",
   "execution_count": 213,
   "metadata": {},
   "outputs": [
    {
     "data": {
      "application/vnd.plotly.v1+json": {
       "config": {
        "plotlyServerURL": "https://plot.ly"
       },
       "data": [
        {
         "alignmentgroup": "True",
         "bingroup": "x",
         "hovertemplate": "treatment=Yes<br>seek_help=%{x}<br>count=%{y}<extra></extra>",
         "legendgroup": "Yes",
         "marker": {
          "color": "#636efa",
          "pattern": {
           "shape": ""
          }
         },
         "name": "Yes",
         "offsetgroup": "Yes",
         "orientation": "v",
         "showlegend": true,
         "type": "histogram",
         "x": [
          "Yes",
          "No",
          "No",
          "No",
          "No",
          "No",
          "No",
          "Don't know",
          "Don't know",
          "No",
          "No",
          "Don't know",
          "Yes",
          "Don't know",
          "Don't know",
          "Don't know",
          "No",
          "Yes",
          "No",
          "No",
          "Yes",
          "No",
          "No",
          "No",
          "Yes",
          "Don't know",
          "No",
          "No",
          "No",
          "No",
          "Don't know",
          "Yes",
          "No",
          "No",
          "Yes",
          "No",
          "Don't know",
          "No",
          "No",
          "Don't know",
          "No",
          "No",
          "No",
          "No",
          "Yes",
          "No",
          "No",
          "Yes",
          "Don't know",
          "Yes",
          "Yes",
          "No",
          "Don't know",
          "No",
          "Yes",
          "No",
          "No",
          "No",
          "No",
          "Don't know",
          "Yes",
          "Yes",
          "Yes",
          "Yes",
          "Don't know",
          "Don't know",
          "No",
          "No",
          "Yes",
          "No",
          "Yes",
          "Don't know",
          "No",
          "No",
          "No",
          "Don't know",
          "No",
          "Don't know",
          "Don't know",
          "No",
          "No",
          "No",
          "No",
          "No",
          "No",
          "Yes",
          "No",
          "No",
          "No",
          "No",
          "No",
          "No",
          "Don't know",
          "Don't know",
          "No",
          "Don't know",
          "No",
          "No",
          "Yes",
          "Don't know",
          "Don't know",
          "Don't know",
          "Yes",
          "Yes",
          "No",
          "Yes",
          "Yes",
          "Don't know",
          "No",
          "Don't know",
          "Don't know",
          "Don't know",
          "Don't know",
          "No",
          "No",
          "Yes",
          "No",
          "No",
          "Don't know",
          "No",
          "Don't know",
          "No",
          "Don't know",
          "Yes",
          "Don't know",
          "No",
          "No",
          "Don't know",
          "No",
          "Don't know",
          "Don't know",
          "Don't know",
          "Don't know",
          "Yes",
          "Yes",
          "Don't know",
          "Yes",
          "Yes",
          "Don't know",
          "No",
          "Don't know",
          "Yes",
          "No",
          "Don't know",
          "Yes",
          "Yes",
          "Don't know",
          "Yes",
          "No",
          "Yes",
          "No",
          "Don't know",
          "No",
          "Don't know",
          "No",
          "No",
          "Yes",
          "Don't know",
          "Yes",
          "Yes",
          "Don't know",
          "No",
          "Yes",
          "No",
          "Don't know",
          "Don't know",
          "Yes",
          "No",
          "Don't know",
          "No",
          "Don't know",
          "No",
          "Yes",
          "Yes",
          "Yes",
          "No",
          "Don't know",
          "No",
          "No",
          "Yes",
          "Yes",
          "Don't know",
          "Yes",
          "No",
          "No",
          "No",
          "Don't know",
          "No",
          "No",
          "Yes",
          "No",
          "Don't know",
          "Don't know",
          "Don't know",
          "No",
          "No",
          "No",
          "No",
          "Yes",
          "No",
          "Don't know",
          "No",
          "Don't know",
          "No",
          "Don't know",
          "No",
          "No",
          "Don't know",
          "Don't know",
          "No",
          "No",
          "No",
          "No",
          "Don't know",
          "Yes",
          "Yes",
          "No",
          "No",
          "No",
          "Yes",
          "No",
          "No",
          "No",
          "Don't know",
          "Don't know",
          "No",
          "No",
          "No",
          "No",
          "Yes",
          "Yes",
          "Yes",
          "Yes",
          "No",
          "Don't know",
          "Yes",
          "Don't know",
          "No",
          "No",
          "No",
          "No",
          "Don't know",
          "No",
          "No",
          "No",
          "Yes",
          "No",
          "No",
          "Yes",
          "No",
          "Yes",
          "Yes",
          "Yes",
          "Yes",
          "Yes",
          "No",
          "No",
          "No",
          "Yes",
          "No",
          "Yes",
          "Don't know",
          "Yes",
          "No",
          "Yes",
          "Don't know",
          "Don't know",
          "No",
          "No",
          "Don't know",
          "No",
          "Yes",
          "No",
          "No",
          "No",
          "No",
          "Don't know",
          "Don't know",
          "Don't know",
          "Don't know",
          "No",
          "Don't know",
          "Yes",
          "No",
          "No",
          "Yes",
          "No",
          "No",
          "No",
          "Yes",
          "No",
          "No",
          "No",
          "No",
          "No",
          "No",
          "Yes",
          "No",
          "Don't know",
          "No",
          "Yes",
          "No",
          "Yes",
          "No",
          "No",
          "No",
          "Yes",
          "No",
          "Yes",
          "No",
          "No",
          "Don't know",
          "No",
          "No",
          "Don't know",
          "Don't know",
          "No",
          "No",
          "No",
          "Yes",
          "No",
          "No",
          "Don't know",
          "No",
          "Yes",
          "Don't know",
          "No",
          "Don't know",
          "No",
          "Yes",
          "No",
          "Yes",
          "No",
          "Don't know",
          "Don't know",
          "Yes",
          "Yes",
          "Don't know",
          "No",
          "No",
          "Yes",
          "Don't know",
          "No",
          "Yes",
          "No",
          "Don't know",
          "No",
          "Don't know",
          "No",
          "No",
          "Don't know",
          "No",
          "No",
          "No",
          "No",
          "No",
          "Don't know",
          "No",
          "No",
          "Don't know",
          "No",
          "Don't know",
          "Yes",
          "No",
          "Don't know",
          "Don't know",
          "Don't know",
          "Don't know",
          "No",
          "Yes",
          "No",
          "No",
          "Don't know",
          "Yes",
          "No",
          "No",
          "No",
          "No",
          "Yes",
          "Yes",
          "Don't know",
          "No",
          "Don't know",
          "Yes",
          "Don't know",
          "Yes",
          "Don't know",
          "No",
          "No",
          "Don't know",
          "Don't know",
          "Don't know",
          "No",
          "No",
          "Yes",
          "No",
          "No",
          "No",
          "Yes",
          "No",
          "Yes",
          "No",
          "Don't know",
          "No",
          "No",
          "No",
          "No",
          "No",
          "No",
          "No",
          "No",
          "Don't know",
          "No",
          "Don't know",
          "No",
          "No",
          "No",
          "No",
          "No",
          "Don't know",
          "No",
          "Yes",
          "No",
          "Yes",
          "No",
          "Don't know",
          "Don't know",
          "Don't know",
          "Don't know",
          "No",
          "No",
          "Don't know",
          "No",
          "No",
          "No",
          "Yes",
          "Yes",
          "No",
          "Don't know",
          "Yes",
          "No",
          "Yes",
          "No",
          "Yes",
          "No",
          "No",
          "No",
          "Don't know",
          "Yes",
          "No",
          "No",
          "Yes",
          "Yes",
          "No",
          "Yes",
          "No",
          "Don't know",
          "Don't know",
          "Yes",
          "Yes",
          "Don't know",
          "Yes",
          "Don't know",
          "Don't know",
          "No",
          "Yes",
          "Yes",
          "Don't know",
          "No",
          "No",
          "No",
          "Don't know",
          "No",
          "Yes",
          "Don't know",
          "No",
          "Yes",
          "No",
          "No",
          "Yes",
          "No",
          "Don't know",
          "No",
          "No",
          "No",
          "Yes",
          "Don't know",
          "No",
          "Yes",
          "Don't know",
          "No",
          "No",
          "Don't know",
          "Don't know",
          "No",
          "Don't know",
          "No",
          "Yes",
          "No",
          "Yes",
          "No",
          "Yes",
          "Don't know",
          "Don't know",
          "No",
          "No",
          "No",
          "Yes",
          "No",
          "No",
          "No",
          "No",
          "Yes",
          "Yes",
          "No",
          "No",
          "Don't know",
          "Don't know",
          "Yes",
          "No",
          "No",
          "No",
          "No",
          "No",
          "No",
          "No",
          "Yes",
          "Don't know",
          "Yes",
          "Don't know",
          "No",
          "No",
          "Yes",
          "No",
          "Don't know",
          "Yes",
          "No",
          "Don't know",
          "Don't know",
          "No",
          "Don't know",
          "Yes",
          "No",
          "No",
          "Don't know",
          "No",
          "Don't know",
          "No",
          "Don't know",
          "Don't know",
          "Don't know",
          "No",
          "Don't know",
          "Don't know",
          "Don't know",
          "Yes",
          "Yes",
          "Yes",
          "Don't know",
          "Don't know",
          "No",
          "Don't know",
          "Yes",
          "No",
          "No",
          "No",
          "No",
          "No",
          "Don't know",
          "No",
          "Don't know",
          "No",
          "Yes",
          "Yes",
          "Don't know",
          "No",
          "Don't know",
          "No",
          "No",
          "Don't know",
          "No",
          "Yes",
          "Don't know",
          "Yes",
          "No",
          "No",
          "No",
          "No",
          "Yes",
          "Yes",
          "No",
          "No",
          "No",
          "No",
          "Yes",
          "No",
          "No",
          "Don't know",
          "No",
          "No",
          "No",
          "No",
          "No",
          "No",
          "No",
          "Yes",
          "No",
          "Yes",
          "No",
          "Don't know",
          "Yes",
          "Yes",
          "No",
          "No",
          "Yes",
          "No",
          "Yes",
          "No",
          "Don't know",
          "Don't know",
          "Don't know",
          "Yes",
          "No",
          "No",
          "Don't know",
          "Yes",
          "Yes",
          "No",
          "Don't know",
          "No",
          "Yes",
          "No",
          "No",
          "No",
          "No",
          "No",
          "No"
         ],
         "xaxis": "x",
         "yaxis": "y"
        },
        {
         "alignmentgroup": "True",
         "bingroup": "x",
         "hovertemplate": "treatment=No<br>seek_help=%{x}<br>count=%{y}<extra></extra>",
         "legendgroup": "No",
         "marker": {
          "color": "#EF553B",
          "pattern": {
           "shape": ""
          }
         },
         "name": "No",
         "offsetgroup": "No",
         "orientation": "v",
         "showlegend": true,
         "type": "histogram",
         "x": [
          "Don't know",
          "No",
          "Don't know",
          "Don't know",
          "No",
          "Don't know",
          "No",
          "Don't know",
          "Don't know",
          "Don't know",
          "No",
          "No",
          "Don't know",
          "No",
          "No",
          "No",
          "No",
          "No",
          "Don't know",
          "Yes",
          "No",
          "No",
          "No",
          "No",
          "Don't know",
          "Don't know",
          "No",
          "No",
          "No",
          "No",
          "Yes",
          "No",
          "No",
          "Yes",
          "Yes",
          "Don't know",
          "No",
          "No",
          "Don't know",
          "No",
          "Don't know",
          "Don't know",
          "No",
          "Yes",
          "No",
          "Don't know",
          "Yes",
          "Don't know",
          "No",
          "No",
          "No",
          "Don't know",
          "Yes",
          "No",
          "No",
          "Don't know",
          "Don't know",
          "Don't know",
          "Don't know",
          "Don't know",
          "No",
          "No",
          "Don't know",
          "Don't know",
          "Don't know",
          "No",
          "Yes",
          "Don't know",
          "Yes",
          "No",
          "No",
          "Yes",
          "No",
          "No",
          "No",
          "Don't know",
          "No",
          "No",
          "No",
          "Don't know",
          "No",
          "Don't know",
          "Yes",
          "Don't know",
          "No",
          "No",
          "Don't know",
          "Yes",
          "No",
          "No",
          "Don't know",
          "No",
          "Yes",
          "No",
          "No",
          "No",
          "No",
          "No",
          "Don't know",
          "Don't know",
          "Don't know",
          "Yes",
          "No",
          "No",
          "No",
          "Don't know",
          "No",
          "Don't know",
          "No",
          "No",
          "No",
          "No",
          "No",
          "No",
          "No",
          "No",
          "No",
          "Don't know",
          "Don't know",
          "No",
          "Yes",
          "No",
          "Don't know",
          "No",
          "No",
          "No",
          "No",
          "Don't know",
          "No",
          "No",
          "Yes",
          "Don't know",
          "Don't know",
          "Don't know",
          "No",
          "No",
          "No",
          "No",
          "Don't know",
          "No",
          "Don't know",
          "Don't know",
          "Don't know",
          "No",
          "Yes",
          "No",
          "No",
          "No",
          "Don't know",
          "No",
          "No",
          "Yes",
          "No",
          "Yes",
          "No",
          "No",
          "Don't know",
          "No",
          "No",
          "Don't know",
          "No",
          "Don't know",
          "Don't know",
          "Don't know",
          "Yes",
          "Yes",
          "Don't know",
          "No",
          "Don't know",
          "Yes",
          "Don't know",
          "Don't know",
          "Don't know",
          "Yes",
          "No",
          "Yes",
          "Don't know",
          "Yes",
          "No",
          "Yes",
          "No",
          "No",
          "Don't know",
          "No",
          "Don't know",
          "Yes",
          "Don't know",
          "No",
          "Don't know",
          "Don't know",
          "No",
          "Don't know",
          "No",
          "Don't know",
          "No",
          "No",
          "No",
          "Yes",
          "Yes",
          "No",
          "Don't know",
          "No",
          "Don't know",
          "No",
          "No",
          "No",
          "Don't know",
          "Yes",
          "Don't know",
          "No",
          "No",
          "Don't know",
          "Don't know",
          "No",
          "No",
          "No",
          "Yes",
          "Don't know",
          "No",
          "Yes",
          "No",
          "No",
          "Don't know",
          "Don't know",
          "Don't know",
          "No",
          "Don't know",
          "No",
          "Don't know",
          "Don't know",
          "Don't know",
          "No",
          "No",
          "No",
          "No",
          "No",
          "Don't know",
          "Yes",
          "No",
          "No",
          "No",
          "No",
          "No",
          "Don't know",
          "No",
          "Don't know",
          "Don't know",
          "No",
          "No",
          "Don't know",
          "No",
          "No",
          "Don't know",
          "Don't know",
          "No",
          "Don't know",
          "Yes",
          "No",
          "Don't know",
          "No",
          "Don't know",
          "Yes",
          "Don't know",
          "Yes",
          "Don't know",
          "No",
          "Don't know",
          "Don't know",
          "No",
          "No",
          "Don't know",
          "No",
          "No",
          "No",
          "No",
          "Don't know",
          "Yes",
          "No",
          "No",
          "Yes",
          "Don't know",
          "Don't know",
          "No",
          "Don't know",
          "No",
          "Don't know",
          "Yes",
          "No",
          "Don't know",
          "No",
          "No",
          "No",
          "Don't know",
          "No",
          "No",
          "No",
          "No",
          "Yes",
          "Don't know",
          "Don't know",
          "Don't know",
          "Yes",
          "Yes",
          "Don't know",
          "No",
          "Don't know",
          "No",
          "No",
          "No",
          "No",
          "No",
          "No",
          "No",
          "Don't know",
          "Don't know",
          "No",
          "No",
          "No",
          "No",
          "No",
          "No",
          "No",
          "No",
          "Yes",
          "No",
          "No",
          "Yes",
          "No",
          "Yes",
          "Yes",
          "No",
          "No",
          "No",
          "Don't know",
          "Yes",
          "Don't know",
          "Don't know",
          "No",
          "No",
          "Don't know",
          "Don't know",
          "No",
          "No",
          "Don't know",
          "Don't know",
          "Yes",
          "Don't know",
          "No",
          "No",
          "No",
          "No",
          "No",
          "No",
          "Don't know",
          "Don't know",
          "No",
          "No",
          "No",
          "Don't know",
          "Don't know",
          "Don't know",
          "No",
          "Don't know",
          "No",
          "Don't know",
          "Don't know",
          "Yes",
          "Yes",
          "No",
          "No",
          "Don't know",
          "No",
          "No",
          "No",
          "No",
          "Don't know",
          "No",
          "No",
          "Yes",
          "No",
          "No",
          "Yes",
          "Yes",
          "No",
          "Don't know",
          "No",
          "No",
          "Yes",
          "No",
          "Yes",
          "No",
          "No",
          "No",
          "Don't know",
          "No",
          "Don't know",
          "Don't know",
          "Don't know",
          "Yes",
          "No",
          "No",
          "No",
          "No",
          "Don't know",
          "No",
          "No",
          "No",
          "No",
          "No",
          "No",
          "Yes",
          "Don't know",
          "Don't know",
          "Don't know",
          "Yes",
          "No",
          "Don't know",
          "Don't know",
          "No",
          "Don't know",
          "Yes",
          "No",
          "Don't know",
          "No",
          "Yes",
          "Don't know",
          "Don't know",
          "No",
          "Yes",
          "No",
          "Don't know",
          "No",
          "Don't know",
          "Yes",
          "Don't know",
          "No",
          "No",
          "No",
          "Yes",
          "Yes",
          "No",
          "No",
          "Don't know",
          "No",
          "No",
          "No",
          "Don't know",
          "Yes",
          "Don't know",
          "No",
          "No",
          "Don't know",
          "Yes",
          "Don't know",
          "Don't know",
          "Don't know",
          "No",
          "Yes",
          "No",
          "Yes",
          "Yes",
          "Don't know",
          "Yes",
          "Don't know",
          "Yes",
          "No",
          "Don't know",
          "No",
          "No",
          "Yes",
          "No",
          "Yes",
          "Don't know",
          "Don't know",
          "No",
          "Don't know",
          "Yes",
          "No",
          "Don't know",
          "Yes",
          "Yes",
          "Yes",
          "No",
          "Don't know",
          "Don't know",
          "No",
          "No",
          "No",
          "Don't know",
          "No",
          "No",
          "Yes",
          "No",
          "Don't know",
          "Yes",
          "No",
          "No",
          "No",
          "No",
          "No",
          "Yes",
          "No",
          "Yes",
          "No",
          "Don't know",
          "Don't know",
          "No",
          "No",
          "Don't know",
          "No",
          "No",
          "Yes",
          "Don't know",
          "Don't know",
          "Don't know",
          "Yes",
          "No",
          "No",
          "No",
          "No",
          "Yes",
          "No",
          "No",
          "Yes",
          "No",
          "No",
          "Don't know",
          "No",
          "Don't know",
          "Don't know",
          "No",
          "Don't know",
          "No",
          "No",
          "Yes",
          "No",
          "No",
          "Don't know",
          "Don't know",
          "Don't know",
          "No",
          "No",
          "Don't know",
          "Don't know",
          "Yes",
          "No",
          "Yes",
          "Yes",
          "No",
          "No",
          "Yes",
          "No",
          "Don't know",
          "Don't know",
          "Don't know",
          "Yes",
          "No",
          "No",
          "No",
          "No",
          "No",
          "Don't know",
          "No",
          "No",
          "Don't know",
          "No",
          "No",
          "No",
          "Yes",
          "Yes",
          "No",
          "Don't know",
          "No",
          "No",
          "Yes",
          "No",
          "Don't know",
          "No",
          "Yes",
          "No",
          "Don't know",
          "Don't know",
          "Yes",
          "No",
          "Don't know",
          "No",
          "No",
          "No",
          "Yes",
          "No",
          "No",
          "Don't know",
          "No",
          "Don't know",
          "Don't know",
          "No",
          "Yes",
          "No",
          "Don't know",
          "No",
          "No",
          "Don't know",
          "No",
          "No",
          "No",
          "No",
          "No",
          "No",
          "No",
          "Yes",
          "No",
          "No",
          "No",
          "Don't know",
          "Yes",
          "No",
          "No",
          "No",
          "Don't know",
          "Yes",
          "Yes",
          "No"
         ],
         "xaxis": "x",
         "yaxis": "y"
        }
       ],
       "layout": {
        "barmode": "group",
        "height": 400,
        "legend": {
         "title": {
          "text": "treatment"
         },
         "tracegroupgap": 0
        },
        "margin": {
         "b": 20,
         "l": 20,
         "r": 20,
         "t": 20
        },
        "paper_bgcolor": "LightSteelBlue",
        "template": {
         "data": {
          "bar": [
           {
            "error_x": {
             "color": "#2a3f5f"
            },
            "error_y": {
             "color": "#2a3f5f"
            },
            "marker": {
             "line": {
              "color": "#E5ECF6",
              "width": 0.5
             },
             "pattern": {
              "fillmode": "overlay",
              "size": 10,
              "solidity": 0.2
             }
            },
            "type": "bar"
           }
          ],
          "barpolar": [
           {
            "marker": {
             "line": {
              "color": "#E5ECF6",
              "width": 0.5
             },
             "pattern": {
              "fillmode": "overlay",
              "size": 10,
              "solidity": 0.2
             }
            },
            "type": "barpolar"
           }
          ],
          "carpet": [
           {
            "aaxis": {
             "endlinecolor": "#2a3f5f",
             "gridcolor": "white",
             "linecolor": "white",
             "minorgridcolor": "white",
             "startlinecolor": "#2a3f5f"
            },
            "baxis": {
             "endlinecolor": "#2a3f5f",
             "gridcolor": "white",
             "linecolor": "white",
             "minorgridcolor": "white",
             "startlinecolor": "#2a3f5f"
            },
            "type": "carpet"
           }
          ],
          "choropleth": [
           {
            "colorbar": {
             "outlinewidth": 0,
             "ticks": ""
            },
            "type": "choropleth"
           }
          ],
          "contour": [
           {
            "colorbar": {
             "outlinewidth": 0,
             "ticks": ""
            },
            "colorscale": [
             [
              0,
              "#0d0887"
             ],
             [
              0.1111111111111111,
              "#46039f"
             ],
             [
              0.2222222222222222,
              "#7201a8"
             ],
             [
              0.3333333333333333,
              "#9c179e"
             ],
             [
              0.4444444444444444,
              "#bd3786"
             ],
             [
              0.5555555555555556,
              "#d8576b"
             ],
             [
              0.6666666666666666,
              "#ed7953"
             ],
             [
              0.7777777777777778,
              "#fb9f3a"
             ],
             [
              0.8888888888888888,
              "#fdca26"
             ],
             [
              1,
              "#f0f921"
             ]
            ],
            "type": "contour"
           }
          ],
          "contourcarpet": [
           {
            "colorbar": {
             "outlinewidth": 0,
             "ticks": ""
            },
            "type": "contourcarpet"
           }
          ],
          "heatmap": [
           {
            "colorbar": {
             "outlinewidth": 0,
             "ticks": ""
            },
            "colorscale": [
             [
              0,
              "#0d0887"
             ],
             [
              0.1111111111111111,
              "#46039f"
             ],
             [
              0.2222222222222222,
              "#7201a8"
             ],
             [
              0.3333333333333333,
              "#9c179e"
             ],
             [
              0.4444444444444444,
              "#bd3786"
             ],
             [
              0.5555555555555556,
              "#d8576b"
             ],
             [
              0.6666666666666666,
              "#ed7953"
             ],
             [
              0.7777777777777778,
              "#fb9f3a"
             ],
             [
              0.8888888888888888,
              "#fdca26"
             ],
             [
              1,
              "#f0f921"
             ]
            ],
            "type": "heatmap"
           }
          ],
          "heatmapgl": [
           {
            "colorbar": {
             "outlinewidth": 0,
             "ticks": ""
            },
            "colorscale": [
             [
              0,
              "#0d0887"
             ],
             [
              0.1111111111111111,
              "#46039f"
             ],
             [
              0.2222222222222222,
              "#7201a8"
             ],
             [
              0.3333333333333333,
              "#9c179e"
             ],
             [
              0.4444444444444444,
              "#bd3786"
             ],
             [
              0.5555555555555556,
              "#d8576b"
             ],
             [
              0.6666666666666666,
              "#ed7953"
             ],
             [
              0.7777777777777778,
              "#fb9f3a"
             ],
             [
              0.8888888888888888,
              "#fdca26"
             ],
             [
              1,
              "#f0f921"
             ]
            ],
            "type": "heatmapgl"
           }
          ],
          "histogram": [
           {
            "marker": {
             "pattern": {
              "fillmode": "overlay",
              "size": 10,
              "solidity": 0.2
             }
            },
            "type": "histogram"
           }
          ],
          "histogram2d": [
           {
            "colorbar": {
             "outlinewidth": 0,
             "ticks": ""
            },
            "colorscale": [
             [
              0,
              "#0d0887"
             ],
             [
              0.1111111111111111,
              "#46039f"
             ],
             [
              0.2222222222222222,
              "#7201a8"
             ],
             [
              0.3333333333333333,
              "#9c179e"
             ],
             [
              0.4444444444444444,
              "#bd3786"
             ],
             [
              0.5555555555555556,
              "#d8576b"
             ],
             [
              0.6666666666666666,
              "#ed7953"
             ],
             [
              0.7777777777777778,
              "#fb9f3a"
             ],
             [
              0.8888888888888888,
              "#fdca26"
             ],
             [
              1,
              "#f0f921"
             ]
            ],
            "type": "histogram2d"
           }
          ],
          "histogram2dcontour": [
           {
            "colorbar": {
             "outlinewidth": 0,
             "ticks": ""
            },
            "colorscale": [
             [
              0,
              "#0d0887"
             ],
             [
              0.1111111111111111,
              "#46039f"
             ],
             [
              0.2222222222222222,
              "#7201a8"
             ],
             [
              0.3333333333333333,
              "#9c179e"
             ],
             [
              0.4444444444444444,
              "#bd3786"
             ],
             [
              0.5555555555555556,
              "#d8576b"
             ],
             [
              0.6666666666666666,
              "#ed7953"
             ],
             [
              0.7777777777777778,
              "#fb9f3a"
             ],
             [
              0.8888888888888888,
              "#fdca26"
             ],
             [
              1,
              "#f0f921"
             ]
            ],
            "type": "histogram2dcontour"
           }
          ],
          "mesh3d": [
           {
            "colorbar": {
             "outlinewidth": 0,
             "ticks": ""
            },
            "type": "mesh3d"
           }
          ],
          "parcoords": [
           {
            "line": {
             "colorbar": {
              "outlinewidth": 0,
              "ticks": ""
             }
            },
            "type": "parcoords"
           }
          ],
          "pie": [
           {
            "automargin": true,
            "type": "pie"
           }
          ],
          "scatter": [
           {
            "fillpattern": {
             "fillmode": "overlay",
             "size": 10,
             "solidity": 0.2
            },
            "type": "scatter"
           }
          ],
          "scatter3d": [
           {
            "line": {
             "colorbar": {
              "outlinewidth": 0,
              "ticks": ""
             }
            },
            "marker": {
             "colorbar": {
              "outlinewidth": 0,
              "ticks": ""
             }
            },
            "type": "scatter3d"
           }
          ],
          "scattercarpet": [
           {
            "marker": {
             "colorbar": {
              "outlinewidth": 0,
              "ticks": ""
             }
            },
            "type": "scattercarpet"
           }
          ],
          "scattergeo": [
           {
            "marker": {
             "colorbar": {
              "outlinewidth": 0,
              "ticks": ""
             }
            },
            "type": "scattergeo"
           }
          ],
          "scattergl": [
           {
            "marker": {
             "colorbar": {
              "outlinewidth": 0,
              "ticks": ""
             }
            },
            "type": "scattergl"
           }
          ],
          "scattermapbox": [
           {
            "marker": {
             "colorbar": {
              "outlinewidth": 0,
              "ticks": ""
             }
            },
            "type": "scattermapbox"
           }
          ],
          "scatterpolar": [
           {
            "marker": {
             "colorbar": {
              "outlinewidth": 0,
              "ticks": ""
             }
            },
            "type": "scatterpolar"
           }
          ],
          "scatterpolargl": [
           {
            "marker": {
             "colorbar": {
              "outlinewidth": 0,
              "ticks": ""
             }
            },
            "type": "scatterpolargl"
           }
          ],
          "scatterternary": [
           {
            "marker": {
             "colorbar": {
              "outlinewidth": 0,
              "ticks": ""
             }
            },
            "type": "scatterternary"
           }
          ],
          "surface": [
           {
            "colorbar": {
             "outlinewidth": 0,
             "ticks": ""
            },
            "colorscale": [
             [
              0,
              "#0d0887"
             ],
             [
              0.1111111111111111,
              "#46039f"
             ],
             [
              0.2222222222222222,
              "#7201a8"
             ],
             [
              0.3333333333333333,
              "#9c179e"
             ],
             [
              0.4444444444444444,
              "#bd3786"
             ],
             [
              0.5555555555555556,
              "#d8576b"
             ],
             [
              0.6666666666666666,
              "#ed7953"
             ],
             [
              0.7777777777777778,
              "#fb9f3a"
             ],
             [
              0.8888888888888888,
              "#fdca26"
             ],
             [
              1,
              "#f0f921"
             ]
            ],
            "type": "surface"
           }
          ],
          "table": [
           {
            "cells": {
             "fill": {
              "color": "#EBF0F8"
             },
             "line": {
              "color": "white"
             }
            },
            "header": {
             "fill": {
              "color": "#C8D4E3"
             },
             "line": {
              "color": "white"
             }
            },
            "type": "table"
           }
          ]
         },
         "layout": {
          "annotationdefaults": {
           "arrowcolor": "#2a3f5f",
           "arrowhead": 0,
           "arrowwidth": 1
          },
          "autotypenumbers": "strict",
          "coloraxis": {
           "colorbar": {
            "outlinewidth": 0,
            "ticks": ""
           }
          },
          "colorscale": {
           "diverging": [
            [
             0,
             "#8e0152"
            ],
            [
             0.1,
             "#c51b7d"
            ],
            [
             0.2,
             "#de77ae"
            ],
            [
             0.3,
             "#f1b6da"
            ],
            [
             0.4,
             "#fde0ef"
            ],
            [
             0.5,
             "#f7f7f7"
            ],
            [
             0.6,
             "#e6f5d0"
            ],
            [
             0.7,
             "#b8e186"
            ],
            [
             0.8,
             "#7fbc41"
            ],
            [
             0.9,
             "#4d9221"
            ],
            [
             1,
             "#276419"
            ]
           ],
           "sequential": [
            [
             0,
             "#0d0887"
            ],
            [
             0.1111111111111111,
             "#46039f"
            ],
            [
             0.2222222222222222,
             "#7201a8"
            ],
            [
             0.3333333333333333,
             "#9c179e"
            ],
            [
             0.4444444444444444,
             "#bd3786"
            ],
            [
             0.5555555555555556,
             "#d8576b"
            ],
            [
             0.6666666666666666,
             "#ed7953"
            ],
            [
             0.7777777777777778,
             "#fb9f3a"
            ],
            [
             0.8888888888888888,
             "#fdca26"
            ],
            [
             1,
             "#f0f921"
            ]
           ],
           "sequentialminus": [
            [
             0,
             "#0d0887"
            ],
            [
             0.1111111111111111,
             "#46039f"
            ],
            [
             0.2222222222222222,
             "#7201a8"
            ],
            [
             0.3333333333333333,
             "#9c179e"
            ],
            [
             0.4444444444444444,
             "#bd3786"
            ],
            [
             0.5555555555555556,
             "#d8576b"
            ],
            [
             0.6666666666666666,
             "#ed7953"
            ],
            [
             0.7777777777777778,
             "#fb9f3a"
            ],
            [
             0.8888888888888888,
             "#fdca26"
            ],
            [
             1,
             "#f0f921"
            ]
           ]
          },
          "colorway": [
           "#636efa",
           "#EF553B",
           "#00cc96",
           "#ab63fa",
           "#FFA15A",
           "#19d3f3",
           "#FF6692",
           "#B6E880",
           "#FF97FF",
           "#FECB52"
          ],
          "font": {
           "color": "#2a3f5f"
          },
          "geo": {
           "bgcolor": "white",
           "lakecolor": "white",
           "landcolor": "#E5ECF6",
           "showlakes": true,
           "showland": true,
           "subunitcolor": "white"
          },
          "hoverlabel": {
           "align": "left"
          },
          "hovermode": "closest",
          "mapbox": {
           "style": "light"
          },
          "paper_bgcolor": "white",
          "plot_bgcolor": "#E5ECF6",
          "polar": {
           "angularaxis": {
            "gridcolor": "white",
            "linecolor": "white",
            "ticks": ""
           },
           "bgcolor": "#E5ECF6",
           "radialaxis": {
            "gridcolor": "white",
            "linecolor": "white",
            "ticks": ""
           }
          },
          "scene": {
           "xaxis": {
            "backgroundcolor": "#E5ECF6",
            "gridcolor": "white",
            "gridwidth": 2,
            "linecolor": "white",
            "showbackground": true,
            "ticks": "",
            "zerolinecolor": "white"
           },
           "yaxis": {
            "backgroundcolor": "#E5ECF6",
            "gridcolor": "white",
            "gridwidth": 2,
            "linecolor": "white",
            "showbackground": true,
            "ticks": "",
            "zerolinecolor": "white"
           },
           "zaxis": {
            "backgroundcolor": "#E5ECF6",
            "gridcolor": "white",
            "gridwidth": 2,
            "linecolor": "white",
            "showbackground": true,
            "ticks": "",
            "zerolinecolor": "white"
           }
          },
          "shapedefaults": {
           "line": {
            "color": "#2a3f5f"
           }
          },
          "ternary": {
           "aaxis": {
            "gridcolor": "white",
            "linecolor": "white",
            "ticks": ""
           },
           "baxis": {
            "gridcolor": "white",
            "linecolor": "white",
            "ticks": ""
           },
           "bgcolor": "#E5ECF6",
           "caxis": {
            "gridcolor": "white",
            "linecolor": "white",
            "ticks": ""
           }
          },
          "title": {
           "x": 0.05
          },
          "xaxis": {
           "automargin": true,
           "gridcolor": "white",
           "linecolor": "white",
           "ticks": "",
           "title": {
            "standoff": 15
           },
           "zerolinecolor": "white",
           "zerolinewidth": 2
          },
          "yaxis": {
           "automargin": true,
           "gridcolor": "white",
           "linecolor": "white",
           "ticks": "",
           "title": {
            "standoff": 15
           },
           "zerolinecolor": "white",
           "zerolinewidth": 2
          }
         }
        },
        "width": 800,
        "xaxis": {
         "anchor": "y",
         "domain": [
          0,
          1
         ],
         "title": {
          "text": "seek_help"
         }
        },
        "yaxis": {
         "anchor": "x",
         "domain": [
          0,
          1
         ],
         "title": {
          "text": "count"
         }
        }
       }
      }
     },
     "metadata": {},
     "output_type": "display_data"
    }
   ],
   "source": [
    "fig = px.histogram(data, x = 'seek_help',color='treatment',barmode='group', width=800, height=400)\n",
    "fig.update_layout(\n",
    "    margin=dict(l=20, r=20, t=20, b=20),\n",
    "    paper_bgcolor=\"LightSteelBlue\",\n",
    ")\n",
    "\n",
    "fig.show()"
   ]
  },
  {
   "cell_type": "markdown",
   "metadata": {},
   "source": [
    "General insight\n",
    "\n",
    "The majority of companies do not provide any resources. Furthermore, many participants do not know whether their employer provides these resources. Those that do provide it, show a majority of participants partaking in treatment.\n",
    "This insight is important, especially as a member of Human Rerources. Providing the correct resources to your employess makes a difference."
   ]
  },
  {
   "cell_type": "markdown",
   "metadata": {},
   "source": [
    "Is your anonymity protected if you choose to take advantage of mental health or substance abuse treatment resources?"
   ]
  },
  {
   "cell_type": "code",
   "execution_count": 214,
   "metadata": {},
   "outputs": [
    {
     "data": {
      "text/plain": [
       "<AxesSubplot: xlabel='anonymity', ylabel='count'>"
      ]
     },
     "execution_count": 214,
     "metadata": {},
     "output_type": "execute_result"
    },
    {
     "data": {
      "image/png": "[encoded data removed]",
      "text/plain": [
       "<Figure size 640x480 with 1 Axes>"
      ]
     },
     "metadata": {},
     "output_type": "display_data"
    }
   ],
   "source": [
    "sns.set(rc={'axes.facecolor':'mistyrose', 'figure.facecolor':'lightcoral'})\n",
    "sns.countplot(data = data , x = 'anonymity', palette=['#432371',\"#8de5a1\",\"#fffea3\"])"
   ]
  },
  {
   "cell_type": "code",
   "execution_count": 215,
   "metadata": {},
   "outputs": [
    {
     "data": {
      "application/vnd.plotly.v1+json": {
       "config": {
        "plotlyServerURL": "https://plot.ly"
       },
       "data": [
        {
         "alignmentgroup": "True",
         "bingroup": "x",
         "hovertemplate": "treatment=Yes<br>anonymity=%{x}<br>count=%{y}<extra></extra>",
         "legendgroup": "Yes",
         "marker": {
          "color": "#636efa",
          "pattern": {
           "shape": ""
          }
         },
         "name": "Yes",
         "offsetgroup": "Yes",
         "orientation": "v",
         "showlegend": true,
         "type": "histogram",
         "x": [
          "Yes",
          "No",
          "No",
          "No",
          "Don't know",
          "Don't know",
          "Don't know",
          "Don't know",
          "Don't know",
          "No",
          "Don't know",
          "Don't know",
          "Yes",
          "No",
          "Don't know",
          "Don't know",
          "Yes",
          "Yes",
          "Don't know",
          "Don't know",
          "Yes",
          "Don't know",
          "Yes",
          "Don't know",
          "Yes",
          "Don't know",
          "Yes",
          "Yes",
          "Don't know",
          "No",
          "Don't know",
          "Yes",
          "Don't know",
          "Don't know",
          "Yes",
          "Don't know",
          "Don't know",
          "Don't know",
          "Yes",
          "Don't know",
          "Don't know",
          "Don't know",
          "Yes",
          "No",
          "Yes",
          "Don't know",
          "No",
          "Yes",
          "Yes",
          "Yes",
          "Yes",
          "Yes",
          "Yes",
          "Don't know",
          "Yes",
          "Don't know",
          "Don't know",
          "Don't know",
          "Don't know",
          "Don't know",
          "Yes",
          "Don't know",
          "Don't know",
          "Yes",
          "Don't know",
          "Don't know",
          "Don't know",
          "Don't know",
          "Yes",
          "Don't know",
          "Yes",
          "Yes",
          "Don't know",
          "Don't know",
          "Don't know",
          "Yes",
          "Yes",
          "Don't know",
          "Don't know",
          "Yes",
          "Yes",
          "Don't know",
          "Yes",
          "Don't know",
          "Don't know",
          "Yes",
          "Don't know",
          "Don't know",
          "Don't know",
          "Yes",
          "Don't know",
          "No",
          "Yes",
          "Don't know",
          "Yes",
          "Don't know",
          "Yes",
          "Don't know",
          "Don't know",
          "Don't know",
          "Don't know",
          "Don't know",
          "Yes",
          "Yes",
          "Don't know",
          "Yes",
          "Yes",
          "Don't know",
          "Don't know",
          "Yes",
          "Yes",
          "Yes",
          "Don't know",
          "No",
          "Yes",
          "Yes",
          "Yes",
          "Don't know",
          "Don't know",
          "Yes",
          "Yes",
          "Don't know",
          "Don't know",
          "Don't know",
          "Don't know",
          "Yes",
          "Yes",
          "Don't know",
          "Don't know",
          "Don't know",
          "Yes",
          "Don't know",
          "Don't know",
          "Don't know",
          "Don't know",
          "Yes",
          "Yes",
          "Don't know",
          "Don't know",
          "Don't know",
          "Don't know",
          "Don't know",
          "Don't know",
          "Don't know",
          "Yes",
          "Yes",
          "Don't know",
          "Yes",
          "Don't know",
          "Don't know",
          "Don't know",
          "Don't know",
          "Don't know",
          "Don't know",
          "Yes",
          "Don't know",
          "Don't know",
          "Don't know",
          "Yes",
          "Don't know",
          "Yes",
          "Don't know",
          "Yes",
          "Don't know",
          "Don't know",
          "No",
          "Yes",
          "Don't know",
          "Don't know",
          "Yes",
          "Yes",
          "No",
          "Don't know",
          "Yes",
          "Yes",
          "Don't know",
          "Don't know",
          "Yes",
          "Don't know",
          "Yes",
          "Yes",
          "Don't know",
          "Yes",
          "Don't know",
          "Yes",
          "Don't know",
          "Don't know",
          "Don't know",
          "Don't know",
          "Yes",
          "No",
          "Don't know",
          "Don't know",
          "Yes",
          "Don't know",
          "Don't know",
          "Don't know",
          "Don't know",
          "Don't know",
          "Don't know",
          "Don't know",
          "Don't know",
          "Don't know",
          "Don't know",
          "Don't know",
          "Yes",
          "Don't know",
          "Don't know",
          "Don't know",
          "Don't know",
          "Don't know",
          "Yes",
          "Don't know",
          "Don't know",
          "Yes",
          "Yes",
          "Yes",
          "Don't know",
          "Don't know",
          "Don't know",
          "Yes",
          "Don't know",
          "Don't know",
          "Don't know",
          "Don't know",
          "Yes",
          "Don't know",
          "No",
          "Yes",
          "Yes",
          "Yes",
          "Don't know",
          "Don't know",
          "Don't know",
          "Don't know",
          "Yes",
          "Don't know",
          "Don't know",
          "Don't know",
          "Don't know",
          "Yes",
          "Don't know",
          "Don't know",
          "Don't know",
          "Yes",
          "Yes",
          "Yes",
          "Don't know",
          "Don't know",
          "Don't know",
          "Don't know",
          "Don't know",
          "Yes",
          "Yes",
          "Yes",
          "Yes",
          "Yes",
          "Yes",
          "Yes",
          "No",
          "Yes",
          "Don't know",
          "Don't know",
          "No",
          "Don't know",
          "Don't know",
          "Don't know",
          "Don't know",
          "Yes",
          "Don't know",
          "Yes",
          "Don't know",
          "Don't know",
          "Don't know",
          "Yes",
          "Don't know",
          "Don't know",
          "Don't know",
          "Don't know",
          "Don't know",
          "Yes",
          "Yes",
          "Don't know",
          "Don't know",
          "Don't know",
          "Yes",
          "Yes",
          "Don't know",
          "Don't know",
          "Yes",
          "Don't know",
          "Don't know",
          "Don't know",
          "Don't know",
          "No",
          "Don't know",
          "Don't know",
          "Don't know",
          "Don't know",
          "Yes",
          "Yes",
          "Yes",
          "Don't know",
          "Yes",
          "Yes",
          "Don't know",
          "Yes",
          "Don't know",
          "Don't know",
          "Don't know",
          "Yes",
          "Don't know",
          "Don't know",
          "Don't know",
          "Don't know",
          "Don't know",
          "Don't know",
          "Yes",
          "Don't know",
          "No",
          "No",
          "Don't know",
          "Don't know",
          "Don't know",
          "Don't know",
          "Yes",
          "Don't know",
          "Don't know",
          "Don't know",
          "Don't know",
          "Don't know",
          "Don't know",
          "Don't know",
          "Yes",
          "Don't know",
          "Yes",
          "Yes",
          "Yes",
          "Don't know",
          "Yes",
          "No",
          "Yes",
          "Yes",
          "Don't know",
          "Don't know",
          "Don't know",
          "Yes",
          "Don't know",
          "Don't know",
          "No",
          "Don't know",
          "Don't know",
          "No",
          "Yes",
          "Don't know",
          "Don't know",
          "Don't know",
          "Yes",
          "Don't know",
          "Don't know",
          "Don't know",
          "Don't know",
          "Yes",
          "Don't know",
          "Don't know",
          "Don't know",
          "Don't know",
          "Don't know",
          "No",
          "Don't know",
          "Don't know",
          "No",
          "Don't know",
          "Yes",
          "Don't know",
          "Don't know",
          "Yes",
          "Yes",
          "Yes",
          "Don't know",
          "Don't know",
          "Yes",
          "Yes",
          "Yes",
          "Yes",
          "Yes",
          "Don't know",
          "Yes",
          "Yes",
          "Don't know",
          "Don't know",
          "Don't know",
          "Don't know",
          "Don't know",
          "Yes",
          "Don't know",
          "Yes",
          "Don't know",
          "Yes",
          "No",
          "Yes",
          "Don't know",
          "Don't know",
          "Don't know",
          "Don't know",
          "Yes",
          "Yes",
          "Don't know",
          "Don't know",
          "Don't know",
          "Yes",
          "Don't know",
          "Don't know",
          "Yes",
          "Don't know",
          "Yes",
          "Don't know",
          "No",
          "No",
          "Don't know",
          "Don't know",
          "Yes",
          "Don't know",
          "Yes",
          "Don't know",
          "Don't know",
          "Yes",
          "Don't know",
          "Don't know",
          "Don't know",
          "Don't know",
          "Don't know",
          "Yes",
          "Don't know",
          "Don't know",
          "Yes",
          "Yes",
          "Don't know",
          "Don't know",
          "Yes",
          "Don't know",
          "Don't know",
          "Don't know",
          "Don't know",
          "Yes",
          "Don't know",
          "Yes",
          "Don't know",
          "Yes",
          "Don't know",
          "Yes",
          "Yes",
          "Yes",
          "Don't know",
          "Yes",
          "Yes",
          "Don't know",
          "Don't know",
          "Yes",
          "Yes",
          "Don't know",
          "Yes",
          "Yes",
          "Don't know",
          "Yes",
          "Don't know",
          "Don't know",
          "Yes",
          "Yes",
          "No",
          "Don't know",
          "Don't know",
          "Yes",
          "Yes",
          "Don't know",
          "Don't know",
          "Don't know",
          "No",
          "Don't know",
          "Yes",
          "No",
          "Don't know",
          "Don't know",
          "Don't know",
          "Yes",
          "No",
          "Don't know",
          "Don't know",
          "Yes",
          "Yes",
          "Don't know",
          "Yes",
          "Yes",
          "Don't know",
          "Yes",
          "Don't know",
          "Yes",
          "Yes",
          "Yes",
          "Don't know",
          "Don't know",
          "Yes",
          "Don't know",
          "Yes",
          "No",
          "Yes",
          "Don't know",
          "Don't know",
          "Yes",
          "Don't know",
          "Yes",
          "Don't know",
          "Yes",
          "Yes",
          "Don't know",
          "Yes",
          "Yes",
          "Don't know",
          "Yes",
          "Don't know",
          "Yes",
          "Don't know",
          "Don't know",
          "Yes",
          "Don't know",
          "Don't know",
          "Yes",
          "Don't know",
          "Yes",
          "Don't know",
          "Yes",
          "Yes",
          "Don't know",
          "Don't know",
          "Don't know",
          "Yes",
          "Don't know",
          "Yes",
          "Don't know",
          "Don't know",
          "Yes",
          "Yes",
          "No",
          "Don't know",
          "Don't know",
          "No",
          "Don't know",
          "Don't know",
          "Don't know",
          "Don't know",
          "Yes",
          "Yes",
          "Don't know",
          "Don't know",
          "Don't know",
          "Yes",
          "Yes",
          "Don't know",
          "Don't know",
          "Don't know",
          "Don't know",
          "Don't know",
          "Yes",
          "Don't know",
          "Yes",
          "Yes",
          "Yes",
          "Don't know",
          "Don't know",
          "Yes",
          "Don't know",
          "Yes",
          "Don't know",
          "Yes",
          "Don't know",
          "Don't know",
          "Don't know",
          "Don't know",
          "Don't know",
          "Don't know",
          "Yes",
          "Don't know",
          "Don't know",
          "Yes",
          "Don't know",
          "Don't know",
          "Don't know",
          "Yes",
          "Yes",
          "Don't know",
          "Yes",
          "Don't know",
          "Don't know",
          "Yes",
          "Yes",
          "Yes",
          "Don't know",
          "Don't know",
          "Don't know",
          "Don't know",
          "No",
          "Don't know",
          "Don't know",
          "No",
          "Don't know",
          "Yes",
          "Yes",
          "Yes",
          "Don't know",
          "Don't know",
          "No",
          "Don't know",
          "Don't know",
          "Don't know",
          "Yes",
          "Don't know",
          "Yes",
          "Don't know",
          "Don't know",
          "Don't know",
          "Don't know",
          "Yes",
          "Yes",
          "Don't know",
          "Don't know",
          "Don't know",
          "Yes",
          "No",
          "Don't know",
          "Yes",
          "Don't know",
          "Don't know",
          "Yes",
          "Don't know",
          "Yes",
          "Don't know",
          "Yes"
         ],
         "xaxis": "x",
         "yaxis": "y"
        },
        {
         "alignmentgroup": "True",
         "bingroup": "x",
         "hovertemplate": "treatment=No<br>anonymity=%{x}<br>count=%{y}<extra></extra>",
         "legendgroup": "No",
         "marker": {
          "color": "#EF553B",
          "pattern": {
           "shape": ""
          }
         },
         "name": "No",
         "offsetgroup": "No",
         "orientation": "v",
         "showlegend": true,
         "type": "histogram",
         "x": [
          "Don't know",
          "Don't know",
          "Don't know",
          "Don't know",
          "Yes",
          "Don't know",
          "Don't know",
          "Don't know",
          "Don't know",
          "Yes",
          "Yes",
          "Yes",
          "Don't know",
          "Don't know",
          "Don't know",
          "Don't know",
          "Don't know",
          "Don't know",
          "Don't know",
          "Don't know",
          "Don't know",
          "Don't know",
          "Don't know",
          "Don't know",
          "Don't know",
          "Don't know",
          "Don't know",
          "Don't know",
          "Don't know",
          "Yes",
          "Don't know",
          "Don't know",
          "Don't know",
          "Don't know",
          "Don't know",
          "Don't know",
          "Don't know",
          "Don't know",
          "Don't know",
          "Yes",
          "Yes",
          "Don't know",
          "No",
          "Don't know",
          "Yes",
          "Don't know",
          "Don't know",
          "Don't know",
          "Don't know",
          "Don't know",
          "Don't know",
          "Don't know",
          "Yes",
          "Don't know",
          "Yes",
          "Don't know",
          "Don't know",
          "Don't know",
          "Don't know",
          "Don't know",
          "Yes",
          "Don't know",
          "Don't know",
          "Don't know",
          "Don't know",
          "Yes",
          "Yes",
          "Don't know",
          "Don't know",
          "Don't know",
          "Yes",
          "Yes",
          "Don't know",
          "Don't know",
          "Don't know",
          "Don't know",
          "Yes",
          "Don't know",
          "Yes",
          "Don't know",
          "Don't know",
          "Don't know",
          "Don't know",
          "Don't know",
          "Yes",
          "No",
          "Don't know",
          "Yes",
          "Don't know",
          "Don't know",
          "Don't know",
          "Don't know",
          "Don't know",
          "Don't know",
          "Yes",
          "Don't know",
          "Don't know",
          "Don't know",
          "Don't know",
          "Don't know",
          "Don't know",
          "Yes",
          "Don't know",
          "No",
          "Don't know",
          "Yes",
          "Don't know",
          "Don't know",
          "Don't know",
          "Don't know",
          "Don't know",
          "Don't know",
          "Don't know",
          "Don't know",
          "Yes",
          "Don't know",
          "Don't know",
          "Don't know",
          "Don't know",
          "No",
          "Yes",
          "Don't know",
          "Yes",
          "Don't know",
          "Don't know",
          "Don't know",
          "Don't know",
          "Don't know",
          "Yes",
          "Don't know",
          "Don't know",
          "Don't know",
          "Don't know",
          "Yes",
          "Don't know",
          "Yes",
          "Don't know",
          "Yes",
          "Yes",
          "Yes",
          "Yes",
          "No",
          "Don't know",
          "Don't know",
          "Don't know",
          "Don't know",
          "No",
          "Don't know",
          "Don't know",
          "Don't know",
          "Don't know",
          "Yes",
          "Don't know",
          "Yes",
          "Don't know",
          "Don't know",
          "Don't know",
          "Yes",
          "Don't know",
          "Don't know",
          "No",
          "Don't know",
          "Don't know",
          "Don't know",
          "Don't know",
          "Don't know",
          "Don't know",
          "Don't know",
          "Don't know",
          "Don't know",
          "Don't know",
          "Don't know",
          "Don't know",
          "Yes",
          "Don't know",
          "Yes",
          "Don't know",
          "Yes",
          "Don't know",
          "Yes",
          "Yes",
          "Don't know",
          "Don't know",
          "Don't know",
          "Yes",
          "Yes",
          "Don't know",
          "Don't know",
          "Don't know",
          "Don't know",
          "Don't know",
          "Don't know",
          "Don't know",
          "Don't know",
          "Don't know",
          "Yes",
          "Don't know",
          "Yes",
          "Yes",
          "Don't know",
          "Don't know",
          "No",
          "Don't know",
          "Don't know",
          "Don't know",
          "Don't know",
          "Don't know",
          "Yes",
          "Don't know",
          "Don't know",
          "Don't know",
          "Don't know",
          "Don't know",
          "Don't know",
          "Don't know",
          "Don't know",
          "Yes",
          "Don't know",
          "Don't know",
          "Yes",
          "Don't know",
          "Don't know",
          "Don't know",
          "Don't know",
          "Yes",
          "Don't know",
          "Don't know",
          "Don't know",
          "Don't know",
          "Don't know",
          "Yes",
          "Yes",
          "Don't know",
          "Yes",
          "Don't know",
          "Don't know",
          "Don't know",
          "Don't know",
          "Don't know",
          "Don't know",
          "Don't know",
          "Don't know",
          "Don't know",
          "Don't know",
          "Don't know",
          "Don't know",
          "Don't know",
          "Yes",
          "Don't know",
          "Yes",
          "Don't know",
          "Don't know",
          "Don't know",
          "Don't know",
          "No",
          "Don't know",
          "Don't know",
          "Don't know",
          "Yes",
          "No",
          "Don't know",
          "Yes",
          "Don't know",
          "Don't know",
          "Yes",
          "Don't know",
          "Don't know",
          "Yes",
          "Don't know",
          "No",
          "Don't know",
          "Don't know",
          "Don't know",
          "Don't know",
          "Don't know",
          "Don't know",
          "Yes",
          "Don't know",
          "Don't know",
          "Yes",
          "Don't know",
          "Don't know",
          "Don't know",
          "Yes",
          "Don't know",
          "Don't know",
          "Don't know",
          "Don't know",
          "Don't know",
          "Don't know",
          "Yes",
          "Yes",
          "Don't know",
          "Yes",
          "Yes",
          "Don't know",
          "Yes",
          "Don't know",
          "Don't know",
          "Don't know",
          "Don't know",
          "Don't know",
          "Don't know",
          "Yes",
          "Don't know",
          "Don't know",
          "Don't know",
          "Don't know",
          "Don't know",
          "Don't know",
          "Don't know",
          "Don't know",
          "Don't know",
          "Don't know",
          "Don't know",
          "Don't know",
          "Don't know",
          "Yes",
          "No",
          "Don't know",
          "Yes",
          "Yes",
          "Don't know",
          "Yes",
          "Don't know",
          "Don't know",
          "Don't know",
          "Don't know",
          "Don't know",
          "Don't know",
          "Don't know",
          "No",
          "Don't know",
          "Don't know",
          "Yes",
          "Don't know",
          "Don't know",
          "Don't know",
          "Yes",
          "Don't know",
          "Don't know",
          "Don't know",
          "Don't know",
          "Don't know",
          "Don't know",
          "Don't know",
          "Don't know",
          "Don't know",
          "Don't know",
          "Yes",
          "Don't know",
          "Don't know",
          "Yes",
          "Yes",
          "Don't know",
          "Don't know",
          "Don't know",
          "Don't know",
          "Don't know",
          "Don't know",
          "Don't know",
          "Don't know",
          "Don't know",
          "Don't know",
          "Don't know",
          "Don't know",
          "Yes",
          "Yes",
          "Yes",
          "Don't know",
          "Don't know",
          "Don't know",
          "Don't know",
          "No",
          "Don't know",
          "Don't know",
          "Don't know",
          "Don't know",
          "Yes",
          "Don't know",
          "Don't know",
          "Yes",
          "Yes",
          "Don't know",
          "Yes",
          "No",
          "Don't know",
          "Yes",
          "Yes",
          "Yes",
          "Yes",
          "Yes",
          "Yes",
          "Don't know",
          "Don't know",
          "Don't know",
          "Don't know",
          "Don't know",
          "Don't know",
          "Don't know",
          "Don't know",
          "Don't know",
          "Yes",
          "Don't know",
          "Don't know",
          "Don't know",
          "Don't know",
          "Don't know",
          "Yes",
          "Don't know",
          "Yes",
          "Don't know",
          "Don't know",
          "Don't know",
          "Don't know",
          "Don't know",
          "Don't know",
          "Don't know",
          "No",
          "Don't know",
          "Don't know",
          "No",
          "Don't know",
          "Don't know",
          "Yes",
          "Don't know",
          "Don't know",
          "Don't know",
          "Yes",
          "Don't know",
          "Don't know",
          "Yes",
          "Don't know",
          "Yes",
          "Yes",
          "Yes",
          "Don't know",
          "Don't know",
          "Yes",
          "Yes",
          "Yes",
          "Don't know",
          "Don't know",
          "No",
          "Don't know",
          "Yes",
          "Don't know",
          "Yes",
          "Don't know",
          "Yes",
          "Yes",
          "Don't know",
          "Don't know",
          "Yes",
          "Don't know",
          "Don't know",
          "Don't know",
          "Don't know",
          "Yes",
          "Don't know",
          "Don't know",
          "Don't know",
          "Don't know",
          "Don't know",
          "Yes",
          "Yes",
          "Don't know",
          "Yes",
          "Yes",
          "Don't know",
          "Yes",
          "Yes",
          "Don't know",
          "Don't know",
          "Don't know",
          "Don't know",
          "Don't know",
          "Yes",
          "Don't know",
          "Don't know",
          "Don't know",
          "Don't know",
          "Yes",
          "Don't know",
          "Don't know",
          "Don't know",
          "Yes",
          "Don't know",
          "Don't know",
          "Don't know",
          "Don't know",
          "Yes",
          "Don't know",
          "Don't know",
          "Yes",
          "Yes",
          "No",
          "Yes",
          "Don't know",
          "No",
          "Yes",
          "Yes",
          "Don't know",
          "Yes",
          "Don't know",
          "Don't know",
          "Don't know",
          "Don't know",
          "Don't know",
          "Don't know",
          "Don't know",
          "Yes",
          "Yes",
          "Don't know",
          "Don't know",
          "Yes",
          "Yes",
          "Don't know",
          "Don't know",
          "Don't know",
          "Don't know",
          "Don't know",
          "Don't know",
          "Don't know",
          "Don't know",
          "Don't know",
          "Don't know",
          "Don't know",
          "Don't know",
          "Don't know",
          "Don't know",
          "Yes",
          "Don't know",
          "Don't know",
          "Yes",
          "Don't know",
          "Don't know",
          "Don't know",
          "Don't know",
          "Don't know",
          "No",
          "Yes",
          "Don't know",
          "Don't know",
          "Yes",
          "Don't know",
          "Don't know",
          "Don't know",
          "Don't know",
          "Yes",
          "Don't know",
          "Yes",
          "Don't know",
          "Yes",
          "Don't know",
          "Don't know",
          "Don't know",
          "Don't know",
          "Don't know",
          "No",
          "Don't know",
          "Don't know",
          "Yes",
          "Don't know",
          "Yes",
          "Yes",
          "Yes",
          "Don't know",
          "No",
          "No",
          "Don't know",
          "Don't know",
          "Don't know",
          "Yes",
          "Yes",
          "Don't know",
          "Don't know",
          "Don't know",
          "Yes",
          "Don't know",
          "Don't know",
          "Don't know",
          "Don't know",
          "Don't know",
          "Don't know",
          "Don't know",
          "No",
          "Don't know",
          "Don't know",
          "Don't know",
          "Don't know",
          "Don't know",
          "Don't know",
          "Don't know",
          "Don't know",
          "Yes",
          "Yes",
          "Don't know",
          "Yes",
          "Don't know",
          "No",
          "Don't know",
          "Don't know",
          "Don't know",
          "Don't know",
          "Don't know",
          "Don't know",
          "Don't know",
          "Don't know",
          "Don't know",
          "No",
          "Don't know",
          "Don't know",
          "Don't know",
          "Yes",
          "Yes",
          "Yes",
          "Don't know",
          "Don't know",
          "Don't know",
          "Don't know",
          "Don't know"
         ],
         "xaxis": "x",
         "yaxis": "y"
        }
       ],
       "layout": {
        "barmode": "group",
        "height": 400,
        "legend": {
         "title": {
          "text": "treatment"
         },
         "tracegroupgap": 0
        },
        "margin": {
         "b": 20,
         "l": 20,
         "r": 20,
         "t": 20
        },
        "paper_bgcolor": "LightSteelBlue",
        "template": {
         "data": {
          "bar": [
           {
            "error_x": {
             "color": "#2a3f5f"
            },
            "error_y": {
             "color": "#2a3f5f"
            },
            "marker": {
             "line": {
              "color": "#E5ECF6",
              "width": 0.5
             },
             "pattern": {
              "fillmode": "overlay",
              "size": 10,
              "solidity": 0.2
             }
            },
            "type": "bar"
           }
          ],
          "barpolar": [
           {
            "marker": {
             "line": {
              "color": "#E5ECF6",
              "width": 0.5
             },
             "pattern": {
              "fillmode": "overlay",
              "size": 10,
              "solidity": 0.2
             }
            },
            "type": "barpolar"
           }
          ],
          "carpet": [
           {
            "aaxis": {
             "endlinecolor": "#2a3f5f",
             "gridcolor": "white",
             "linecolor": "white",
             "minorgridcolor": "white",
             "startlinecolor": "#2a3f5f"
            },
            "baxis": {
             "endlinecolor": "#2a3f5f",
             "gridcolor": "white",
             "linecolor": "white",
             "minorgridcolor": "white",
             "startlinecolor": "#2a3f5f"
            },
            "type": "carpet"
           }
          ],
          "choropleth": [
           {
            "colorbar": {
             "outlinewidth": 0,
             "ticks": ""
            },
            "type": "choropleth"
           }
          ],
          "contour": [
           {
            "colorbar": {
             "outlinewidth": 0,
             "ticks": ""
            },
            "colorscale": [
             [
              0,
              "#0d0887"
             ],
             [
              0.1111111111111111,
              "#46039f"
             ],
             [
              0.2222222222222222,
              "#7201a8"
             ],
             [
              0.3333333333333333,
              "#9c179e"
             ],
             [
              0.4444444444444444,
              "#bd3786"
             ],
             [
              0.5555555555555556,
              "#d8576b"
             ],
             [
              0.6666666666666666,
              "#ed7953"
             ],
             [
              0.7777777777777778,
              "#fb9f3a"
             ],
             [
              0.8888888888888888,
              "#fdca26"
             ],
             [
              1,
              "#f0f921"
             ]
            ],
            "type": "contour"
           }
          ],
          "contourcarpet": [
           {
            "colorbar": {
             "outlinewidth": 0,
             "ticks": ""
            },
            "type": "contourcarpet"
           }
          ],
          "heatmap": [
           {
            "colorbar": {
             "outlinewidth": 0,
             "ticks": ""
            },
            "colorscale": [
             [
              0,
              "#0d0887"
             ],
             [
              0.1111111111111111,
              "#46039f"
             ],
             [
              0.2222222222222222,
              "#7201a8"
             ],
             [
              0.3333333333333333,
              "#9c179e"
             ],
             [
              0.4444444444444444,
              "#bd3786"
             ],
             [
              0.5555555555555556,
              "#d8576b"
             ],
             [
              0.6666666666666666,
              "#ed7953"
             ],
             [
              0.7777777777777778,
              "#fb9f3a"
             ],
             [
              0.8888888888888888,
              "#fdca26"
             ],
             [
              1,
              "#f0f921"
             ]
            ],
            "type": "heatmap"
           }
          ],
          "heatmapgl": [
           {
            "colorbar": {
             "outlinewidth": 0,
             "ticks": ""
            },
            "colorscale": [
             [
              0,
              "#0d0887"
             ],
             [
              0.1111111111111111,
              "#46039f"
             ],
             [
              0.2222222222222222,
              "#7201a8"
             ],
             [
              0.3333333333333333,
              "#9c179e"
             ],
             [
              0.4444444444444444,
              "#bd3786"
             ],
             [
              0.5555555555555556,
              "#d8576b"
             ],
             [
              0.6666666666666666,
              "#ed7953"
             ],
             [
              0.7777777777777778,
              "#fb9f3a"
             ],
             [
              0.8888888888888888,
              "#fdca26"
             ],
             [
              1,
              "#f0f921"
             ]
            ],
            "type": "heatmapgl"
           }
          ],
          "histogram": [
           {
            "marker": {
             "pattern": {
              "fillmode": "overlay",
              "size": 10,
              "solidity": 0.2
             }
            },
            "type": "histogram"
           }
          ],
          "histogram2d": [
           {
            "colorbar": {
             "outlinewidth": 0,
             "ticks": ""
            },
            "colorscale": [
             [
              0,
              "#0d0887"
             ],
             [
              0.1111111111111111,
              "#46039f"
             ],
             [
              0.2222222222222222,
              "#7201a8"
             ],
             [
              0.3333333333333333,
              "#9c179e"
             ],
             [
              0.4444444444444444,
              "#bd3786"
             ],
             [
              0.5555555555555556,
              "#d8576b"
             ],
             [
              0.6666666666666666,
              "#ed7953"
             ],
             [
              0.7777777777777778,
              "#fb9f3a"
             ],
             [
              0.8888888888888888,
              "#fdca26"
             ],
             [
              1,
              "#f0f921"
             ]
            ],
            "type": "histogram2d"
           }
          ],
          "histogram2dcontour": [
           {
            "colorbar": {
             "outlinewidth": 0,
             "ticks": ""
            },
            "colorscale": [
             [
              0,
              "#0d0887"
             ],
             [
              0.1111111111111111,
              "#46039f"
             ],
             [
              0.2222222222222222,
              "#7201a8"
             ],
             [
              0.3333333333333333,
              "#9c179e"
             ],
             [
              0.4444444444444444,
              "#bd3786"
             ],
             [
              0.5555555555555556,
              "#d8576b"
             ],
             [
              0.6666666666666666,
              "#ed7953"
             ],
             [
              0.7777777777777778,
              "#fb9f3a"
             ],
             [
              0.8888888888888888,
              "#fdca26"
             ],
             [
              1,
              "#f0f921"
             ]
            ],
            "type": "histogram2dcontour"
           }
          ],
          "mesh3d": [
           {
            "colorbar": {
             "outlinewidth": 0,
             "ticks": ""
            },
            "type": "mesh3d"
           }
          ],
          "parcoords": [
           {
            "line": {
             "colorbar": {
              "outlinewidth": 0,
              "ticks": ""
             }
            },
            "type": "parcoords"
           }
          ],
          "pie": [
           {
            "automargin": true,
            "type": "pie"
           }
          ],
          "scatter": [
           {
            "fillpattern": {
             "fillmode": "overlay",
             "size": 10,
             "solidity": 0.2
            },
            "type": "scatter"
           }
          ],
          "scatter3d": [
           {
            "line": {
             "colorbar": {
              "outlinewidth": 0,
              "ticks": ""
             }
            },
            "marker": {
             "colorbar": {
              "outlinewidth": 0,
              "ticks": ""
             }
            },
            "type": "scatter3d"
           }
          ],
          "scattercarpet": [
           {
            "marker": {
             "colorbar": {
              "outlinewidth": 0,
              "ticks": ""
             }
            },
            "type": "scattercarpet"
           }
          ],
          "scattergeo": [
           {
            "marker": {
             "colorbar": {
              "outlinewidth": 0,
              "ticks": ""
             }
            },
            "type": "scattergeo"
           }
          ],
          "scattergl": [
           {
            "marker": {
             "colorbar": {
              "outlinewidth": 0,
              "ticks": ""
             }
            },
            "type": "scattergl"
           }
          ],
          "scattermapbox": [
           {
            "marker": {
             "colorbar": {
              "outlinewidth": 0,
              "ticks": ""
             }
            },
            "type": "scattermapbox"
           }
          ],
          "scatterpolar": [
           {
            "marker": {
             "colorbar": {
              "outlinewidth": 0,
              "ticks": ""
             }
            },
            "type": "scatterpolar"
           }
          ],
          "scatterpolargl": [
           {
            "marker": {
             "colorbar": {
              "outlinewidth": 0,
              "ticks": ""
             }
            },
            "type": "scatterpolargl"
           }
          ],
          "scatterternary": [
           {
            "marker": {
             "colorbar": {
              "outlinewidth": 0,
              "ticks": ""
             }
            },
            "type": "scatterternary"
           }
          ],
          "surface": [
           {
            "colorbar": {
             "outlinewidth": 0,
             "ticks": ""
            },
            "colorscale": [
             [
              0,
              "#0d0887"
             ],
             [
              0.1111111111111111,
              "#46039f"
             ],
             [
              0.2222222222222222,
              "#7201a8"
             ],
             [
              0.3333333333333333,
              "#9c179e"
             ],
             [
              0.4444444444444444,
              "#bd3786"
             ],
             [
              0.5555555555555556,
              "#d8576b"
             ],
             [
              0.6666666666666666,
              "#ed7953"
             ],
             [
              0.7777777777777778,
              "#fb9f3a"
             ],
             [
              0.8888888888888888,
              "#fdca26"
             ],
             [
              1,
              "#f0f921"
             ]
            ],
            "type": "surface"
           }
          ],
          "table": [
           {
            "cells": {
             "fill": {
              "color": "#EBF0F8"
             },
             "line": {
              "color": "white"
             }
            },
            "header": {
             "fill": {
              "color": "#C8D4E3"
             },
             "line": {
              "color": "white"
             }
            },
            "type": "table"
           }
          ]
         },
         "layout": {
          "annotationdefaults": {
           "arrowcolor": "#2a3f5f",
           "arrowhead": 0,
           "arrowwidth": 1
          },
          "autotypenumbers": "strict",
          "coloraxis": {
           "colorbar": {
            "outlinewidth": 0,
            "ticks": ""
           }
          },
          "colorscale": {
           "diverging": [
            [
             0,
             "#8e0152"
            ],
            [
             0.1,
             "#c51b7d"
            ],
            [
             0.2,
             "#de77ae"
            ],
            [
             0.3,
             "#f1b6da"
            ],
            [
             0.4,
             "#fde0ef"
            ],
            [
             0.5,
             "#f7f7f7"
            ],
            [
             0.6,
             "#e6f5d0"
            ],
            [
             0.7,
             "#b8e186"
            ],
            [
             0.8,
             "#7fbc41"
            ],
            [
             0.9,
             "#4d9221"
            ],
            [
             1,
             "#276419"
            ]
           ],
           "sequential": [
            [
             0,
             "#0d0887"
            ],
            [
             0.1111111111111111,
             "#46039f"
            ],
            [
             0.2222222222222222,
             "#7201a8"
            ],
            [
             0.3333333333333333,
             "#9c179e"
            ],
            [
             0.4444444444444444,
             "#bd3786"
            ],
            [
             0.5555555555555556,
             "#d8576b"
            ],
            [
             0.6666666666666666,
             "#ed7953"
            ],
            [
             0.7777777777777778,
             "#fb9f3a"
            ],
            [
             0.8888888888888888,
             "#fdca26"
            ],
            [
             1,
             "#f0f921"
            ]
           ],
           "sequentialminus": [
            [
             0,
             "#0d0887"
            ],
            [
             0.1111111111111111,
             "#46039f"
            ],
            [
             0.2222222222222222,
             "#7201a8"
            ],
            [
             0.3333333333333333,
             "#9c179e"
            ],
            [
             0.4444444444444444,
             "#bd3786"
            ],
            [
             0.5555555555555556,
             "#d8576b"
            ],
            [
             0.6666666666666666,
             "#ed7953"
            ],
            [
             0.7777777777777778,
             "#fb9f3a"
            ],
            [
             0.8888888888888888,
             "#fdca26"
            ],
            [
             1,
             "#f0f921"
            ]
           ]
          },
          "colorway": [
           "#636efa",
           "#EF553B",
           "#00cc96",
           "#ab63fa",
           "#FFA15A",
           "#19d3f3",
           "#FF6692",
           "#B6E880",
           "#FF97FF",
           "#FECB52"
          ],
          "font": {
           "color": "#2a3f5f"
          },
          "geo": {
           "bgcolor": "white",
           "lakecolor": "white",
           "landcolor": "#E5ECF6",
           "showlakes": true,
           "showland": true,
           "subunitcolor": "white"
          },
          "hoverlabel": {
           "align": "left"
          },
          "hovermode": "closest",
          "mapbox": {
           "style": "light"
          },
          "paper_bgcolor": "white",
          "plot_bgcolor": "#E5ECF6",
          "polar": {
           "angularaxis": {
            "gridcolor": "white",
            "linecolor": "white",
            "ticks": ""
           },
           "bgcolor": "#E5ECF6",
           "radialaxis": {
            "gridcolor": "white",
            "linecolor": "white",
            "ticks": ""
           }
          },
          "scene": {
           "xaxis": {
            "backgroundcolor": "#E5ECF6",
            "gridcolor": "white",
            "gridwidth": 2,
            "linecolor": "white",
            "showbackground": true,
            "ticks": "",
            "zerolinecolor": "white"
           },
           "yaxis": {
            "backgroundcolor": "#E5ECF6",
            "gridcolor": "white",
            "gridwidth": 2,
            "linecolor": "white",
            "showbackground": true,
            "ticks": "",
            "zerolinecolor": "white"
           },
           "zaxis": {
            "backgroundcolor": "#E5ECF6",
            "gridcolor": "white",
            "gridwidth": 2,
            "linecolor": "white",
            "showbackground": true,
            "ticks": "",
            "zerolinecolor": "white"
           }
          },
          "shapedefaults": {
           "line": {
            "color": "#2a3f5f"
           }
          },
          "ternary": {
           "aaxis": {
            "gridcolor": "white",
            "linecolor": "white",
            "ticks": ""
           },
           "baxis": {
            "gridcolor": "white",
            "linecolor": "white",
            "ticks": ""
           },
           "bgcolor": "#E5ECF6",
           "caxis": {
            "gridcolor": "white",
            "linecolor": "white",
            "ticks": ""
           }
          },
          "title": {
           "x": 0.05
          },
          "xaxis": {
           "automargin": true,
           "gridcolor": "white",
           "linecolor": "white",
           "ticks": "",
           "title": {
            "standoff": 15
           },
           "zerolinecolor": "white",
           "zerolinewidth": 2
          },
          "yaxis": {
           "automargin": true,
           "gridcolor": "white",
           "linecolor": "white",
           "ticks": "",
           "title": {
            "standoff": 15
           },
           "zerolinecolor": "white",
           "zerolinewidth": 2
          }
         }
        },
        "width": 800,
        "xaxis": {
         "anchor": "y",
         "domain": [
          0,
          1
         ],
         "title": {
          "text": "anonymity"
         }
        },
        "yaxis": {
         "anchor": "x",
         "domain": [
          0,
          1
         ],
         "title": {
          "text": "count"
         }
        }
       }
      }
     },
     "metadata": {},
     "output_type": "display_data"
    }
   ],
   "source": [
    "fig = px.histogram(data, x = 'anonymity',color='treatment',barmode='group', width=800, height=400)\n",
    "fig.update_layout(\n",
    "    margin=dict(l=20, r=20, t=20, b=20),\n",
    "    paper_bgcolor=\"LightSteelBlue\",\n",
    ")\n",
    "\n",
    "fig.show()"
   ]
  },
  {
   "cell_type": "markdown",
   "metadata": {},
   "source": [
    "General Insight\n",
    "\n",
    "The majority of people do not know if their anonymity is protected should they decide to partake in treatment.\n",
    "Those who responded with \"Yes\" show an increased rate of seeking out treatment. It is therefore important to create the type of environment that fosters trust.\n",
    "Also, only 65 respondents said \"No\". This is a good sign.\n",
    "More needs to be done to clarify the anonimity of those seeking support and help."
   ]
  },
  {
   "cell_type": "markdown",
   "metadata": {},
   "source": [
    "How easy is it for you to take medical leave for a mental health condition?"
   ]
  },
  {
   "cell_type": "code",
   "execution_count": 216,
   "metadata": {},
   "outputs": [
    {
     "data": {
      "application/vnd.plotly.v1+json": {
       "config": {
        "plotlyServerURL": "https://plot.ly"
       },
       "data": [
        {
         "alignmentgroup": "True",
         "bingroup": "x",
         "hovertemplate": "treatment=Yes<br>leave=%{x}<br>count=%{y}<extra></extra>",
         "legendgroup": "Yes",
         "marker": {
          "color": "#636efa",
          "pattern": {
           "shape": ""
          }
         },
         "name": "Yes",
         "offsetgroup": "Yes",
         "orientation": "v",
         "showlegend": true,
         "type": "histogram",
         "x": [
          "Somewhat easy",
          "Somewhat difficult",
          "Somewhat difficult",
          "Very difficult",
          "Don't know",
          "Somewhat difficult",
          "Somewhat easy",
          "Very easy",
          "Don't know",
          "Somewhat difficult",
          "Don't know",
          "Don't know",
          "Don't know",
          "Very easy",
          "Don't know",
          "Somewhat difficult",
          "Somewhat easy",
          "Very easy",
          "Don't know",
          "Very easy",
          "Very easy",
          "Don't know",
          "Very difficult",
          "Don't know",
          "Somewhat easy",
          "Don't know",
          "Very difficult",
          "Don't know",
          "Don't know",
          "Somewhat difficult",
          "Don't know",
          "Very easy",
          "Very easy",
          "Somewhat difficult",
          "Very easy",
          "Very difficult",
          "Don't know",
          "Don't know",
          "Very difficult",
          "Don't know",
          "Don't know",
          "Somewhat easy",
          "Somewhat easy",
          "Very difficult",
          "Somewhat easy",
          "Somewhat easy",
          "Don't know",
          "Somewhat difficult",
          "Don't know",
          "Somewhat easy",
          "Very easy",
          "Very easy",
          "Very easy",
          "Very difficult",
          "Don't know",
          "Somewhat easy",
          "Very easy",
          "Don't know",
          "Somewhat easy",
          "Don't know",
          "Very difficult",
          "Somewhat easy",
          "Somewhat easy",
          "Somewhat difficult",
          "Somewhat difficult",
          "Don't know",
          "Somewhat difficult",
          "Very easy",
          "Somewhat easy",
          "Don't know",
          "Very difficult",
          "Somewhat easy",
          "Don't know",
          "Very difficult",
          "Somewhat easy",
          "Very easy",
          "Somewhat difficult",
          "Don't know",
          "Very difficult",
          "Somewhat easy",
          "Somewhat easy",
          "Somewhat easy",
          "Don't know",
          "Don't know",
          "Very easy",
          "Somewhat easy",
          "Very difficult",
          "Somewhat difficult",
          "Somewhat difficult",
          "Somewhat easy",
          "Don't know",
          "Don't know",
          "Very easy",
          "Very difficult",
          "Very difficult",
          "Somewhat difficult",
          "Very difficult",
          "Don't know",
          "Don't know",
          "Don't know",
          "Very difficult",
          "Don't know",
          "Somewhat easy",
          "Don't know",
          "Somewhat difficult",
          "Somewhat easy",
          "Don't know",
          "Don't know",
          "Don't know",
          "Don't know",
          "Somewhat easy",
          "Very easy",
          "Don't know",
          "Very difficult",
          "Don't know",
          "Don't know",
          "Very difficult",
          "Very easy",
          "Very easy",
          "Don't know",
          "Don't know",
          "Don't know",
          "Very easy",
          "Somewhat easy",
          "Don't know",
          "Somewhat difficult",
          "Somewhat easy",
          "Don't know",
          "Don't know",
          "Somewhat easy",
          "Don't know",
          "Don't know",
          "Very easy",
          "Don't know",
          "Don't know",
          "Somewhat easy",
          "Somewhat easy",
          "Somewhat easy",
          "Don't know",
          "Somewhat easy",
          "Somewhat difficult",
          "Don't know",
          "Somewhat easy",
          "Don't know",
          "Somewhat easy",
          "Somewhat easy",
          "Don't know",
          "Don't know",
          "Don't know",
          "Don't know",
          "Somewhat difficult",
          "Don't know",
          "Very difficult",
          "Don't know",
          "Don't know",
          "Don't know",
          "Don't know",
          "Don't know",
          "Don't know",
          "Don't know",
          "Don't know",
          "Don't know",
          "Don't know",
          "Somewhat easy",
          "Somewhat difficult",
          "Don't know",
          "Don't know",
          "Don't know",
          "Somewhat difficult",
          "Very easy",
          "Don't know",
          "Very easy",
          "Somewhat difficult",
          "Very easy",
          "Somewhat easy",
          "Somewhat easy",
          "Don't know",
          "Don't know",
          "Don't know",
          "Very difficult",
          "Don't know",
          "Somewhat easy",
          "Don't know",
          "Don't know",
          "Somewhat easy",
          "Don't know",
          "Don't know",
          "Very difficult",
          "Somewhat difficult",
          "Don't know",
          "Very difficult",
          "Somewhat easy",
          "Very easy",
          "Somewhat easy",
          "Somewhat difficult",
          "Don't know",
          "Very difficult",
          "Very easy",
          "Don't know",
          "Somewhat easy",
          "Very difficult",
          "Don't know",
          "Somewhat difficult",
          "Somewhat difficult",
          "Don't know",
          "Very easy",
          "Very easy",
          "Somewhat easy",
          "Don't know",
          "Somewhat difficult",
          "Very easy",
          "Somewhat easy",
          "Somewhat difficult",
          "Don't know",
          "Somewhat easy",
          "Don't know",
          "Very easy",
          "Somewhat difficult",
          "Don't know",
          "Don't know",
          "Very easy",
          "Very difficult",
          "Don't know",
          "Don't know",
          "Somewhat easy",
          "Somewhat easy",
          "Don't know",
          "Very difficult",
          "Don't know",
          "Very easy",
          "Somewhat easy",
          "Don't know",
          "Don't know",
          "Somewhat difficult",
          "Don't know",
          "Somewhat easy",
          "Don't know",
          "Don't know",
          "Somewhat easy",
          "Don't know",
          "Very easy",
          "Don't know",
          "Don't know",
          "Somewhat difficult",
          "Somewhat difficult",
          "Very easy",
          "Don't know",
          "Don't know",
          "Don't know",
          "Don't know",
          "Very easy",
          "Very easy",
          "Don't know",
          "Don't know",
          "Very easy",
          "Very easy",
          "Very easy",
          "Somewhat difficult",
          "Very easy",
          "Somewhat difficult",
          "Very easy",
          "Don't know",
          "Somewhat easy",
          "Somewhat difficult",
          "Somewhat easy",
          "Don't know",
          "Don't know",
          "Somewhat difficult",
          "Somewhat easy",
          "Don't know",
          "Somewhat difficult",
          "Somewhat difficult",
          "Very easy",
          "Don't know",
          "Somewhat easy",
          "Somewhat easy",
          "Don't know",
          "Somewhat easy",
          "Don't know",
          "Don't know",
          "Somewhat difficult",
          "Don't know",
          "Somewhat easy",
          "Don't know",
          "Don't know",
          "Somewhat easy",
          "Somewhat difficult",
          "Don't know",
          "Don't know",
          "Somewhat difficult",
          "Don't know",
          "Somewhat easy",
          "Somewhat easy",
          "Don't know",
          "Somewhat difficult",
          "Don't know",
          "Don't know",
          "Somewhat difficult",
          "Somewhat difficult",
          "Somewhat difficult",
          "Somewhat difficult",
          "Somewhat easy",
          "Somewhat difficult",
          "Very difficult",
          "Very easy",
          "Very easy",
          "Somewhat easy",
          "Don't know",
          "Somewhat difficult",
          "Somewhat difficult",
          "Somewhat easy",
          "Don't know",
          "Don't know",
          "Don't know",
          "Somewhat easy",
          "Very easy",
          "Somewhat easy",
          "Somewhat easy",
          "Somewhat difficult",
          "Somewhat difficult",
          "Don't know",
          "Don't know",
          "Don't know",
          "Very easy",
          "Very easy",
          "Don't know",
          "Very difficult",
          "Don't know",
          "Don't know",
          "Very easy",
          "Somewhat easy",
          "Don't know",
          "Somewhat difficult",
          "Somewhat easy",
          "Don't know",
          "Somewhat easy",
          "Somewhat easy",
          "Very easy",
          "Somewhat easy",
          "Very easy",
          "Very difficult",
          "Don't know",
          "Somewhat easy",
          "Somewhat easy",
          "Don't know",
          "Very easy",
          "Very easy",
          "Very difficult",
          "Somewhat difficult",
          "Very difficult",
          "Don't know",
          "Don't know",
          "Very difficult",
          "Very difficult",
          "Don't know",
          "Don't know",
          "Don't know",
          "Very easy",
          "Very easy",
          "Somewhat easy",
          "Very difficult",
          "Don't know",
          "Very easy",
          "Somewhat difficult",
          "Don't know",
          "Don't know",
          "Don't know",
          "Somewhat difficult",
          "Don't know",
          "Don't know",
          "Very easy",
          "Very difficult",
          "Somewhat easy",
          "Somewhat easy",
          "Don't know",
          "Don't know",
          "Very easy",
          "Somewhat easy",
          "Very easy",
          "Don't know",
          "Don't know",
          "Somewhat difficult",
          "Very easy",
          "Don't know",
          "Don't know",
          "Somewhat easy",
          "Don't know",
          "Somewhat difficult",
          "Very difficult",
          "Very difficult",
          "Don't know",
          "Very easy",
          "Very easy",
          "Somewhat difficult",
          "Don't know",
          "Somewhat difficult",
          "Very difficult",
          "Don't know",
          "Very difficult",
          "Very easy",
          "Very easy",
          "Somewhat easy",
          "Don't know",
          "Somewhat easy",
          "Don't know",
          "Don't know",
          "Very easy",
          "Don't know",
          "Don't know",
          "Somewhat difficult",
          "Very easy",
          "Very difficult",
          "Somewhat difficult",
          "Don't know",
          "Very easy",
          "Very easy",
          "Somewhat easy",
          "Don't know",
          "Don't know",
          "Somewhat difficult",
          "Very difficult",
          "Somewhat easy",
          "Somewhat easy",
          "Somewhat easy",
          "Somewhat difficult",
          "Very difficult",
          "Very easy",
          "Don't know",
          "Don't know",
          "Don't know",
          "Very difficult",
          "Don't know",
          "Somewhat difficult",
          "Don't know",
          "Very difficult",
          "Very easy",
          "Somewhat difficult",
          "Don't know",
          "Don't know",
          "Don't know",
          "Somewhat easy",
          "Don't know",
          "Very easy",
          "Somewhat easy",
          "Somewhat easy",
          "Somewhat difficult",
          "Somewhat difficult",
          "Don't know",
          "Somewhat difficult",
          "Don't know",
          "Somewhat difficult",
          "Somewhat difficult",
          "Very difficult",
          "Very difficult",
          "Very difficult",
          "Very difficult",
          "Don't know",
          "Don't know",
          "Somewhat easy",
          "Somewhat difficult",
          "Don't know",
          "Very difficult",
          "Somewhat easy",
          "Somewhat easy",
          "Don't know",
          "Somewhat easy",
          "Very difficult",
          "Very easy",
          "Very easy",
          "Somewhat easy",
          "Very difficult",
          "Don't know",
          "Somewhat easy",
          "Very easy",
          "Don't know",
          "Somewhat difficult",
          "Somewhat easy",
          "Very difficult",
          "Very easy",
          "Very easy",
          "Very difficult",
          "Don't know",
          "Somewhat easy",
          "Don't know",
          "Somewhat easy",
          "Somewhat easy",
          "Don't know",
          "Very easy",
          "Very easy",
          "Very easy",
          "Don't know",
          "Very easy",
          "Somewhat easy",
          "Don't know",
          "Very easy",
          "Don't know",
          "Very easy",
          "Very easy",
          "Somewhat easy",
          "Don't know",
          "Don't know",
          "Somewhat easy",
          "Don't know",
          "Don't know",
          "Very difficult",
          "Don't know",
          "Somewhat easy",
          "Don't know",
          "Don't know",
          "Don't know",
          "Don't know",
          "Somewhat easy",
          "Very difficult",
          "Somewhat difficult",
          "Don't know",
          "Very easy",
          "Very easy",
          "Don't know",
          "Very easy",
          "Somewhat easy",
          "Very difficult",
          "Somewhat easy",
          "Somewhat easy",
          "Don't know",
          "Don't know",
          "Somewhat easy",
          "Don't know",
          "Don't know",
          "Very difficult",
          "Don't know",
          "Very difficult",
          "Very easy",
          "Very difficult",
          "Somewhat difficult",
          "Somewhat easy",
          "Somewhat easy",
          "Somewhat difficult",
          "Don't know",
          "Don't know",
          "Very difficult",
          "Don't know",
          "Very easy",
          "Very difficult",
          "Very easy",
          "Somewhat difficult",
          "Very difficult",
          "Somewhat easy",
          "Don't know",
          "Very easy",
          "Don't know",
          "Very easy",
          "Somewhat easy",
          "Very easy",
          "Very easy",
          "Don't know",
          "Somewhat easy",
          "Very easy",
          "Don't know",
          "Very easy",
          "Don't know",
          "Don't know",
          "Don't know",
          "Very easy",
          "Don't know",
          "Somewhat easy",
          "Somewhat easy",
          "Very easy",
          "Somewhat easy",
          "Don't know",
          "Very difficult",
          "Very easy",
          "Very easy",
          "Somewhat easy",
          "Somewhat difficult",
          "Don't know",
          "Somewhat easy",
          "Somewhat easy",
          "Don't know",
          "Don't know",
          "Somewhat easy",
          "Don't know",
          "Don't know",
          "Don't know",
          "Somewhat easy",
          "Very difficult",
          "Don't know",
          "Don't know",
          "Don't know",
          "Don't know",
          "Somewhat easy",
          "Don't know",
          "Very difficult",
          "Don't know",
          "Don't know",
          "Don't know",
          "Don't know",
          "Somewhat difficult",
          "Very difficult",
          "Don't know",
          "Somewhat easy",
          "Don't know",
          "Don't know",
          "Somewhat easy",
          "Very easy",
          "Somewhat difficult",
          "Somewhat difficult",
          "Don't know",
          "Very easy",
          "Don't know",
          "Don't know",
          "Somewhat easy",
          "Somewhat easy",
          "Don't know",
          "Somewhat easy",
          "Very easy",
          "Don't know",
          "Very easy",
          "Don't know",
          "Don't know",
          "Don't know",
          "Somewhat easy",
          "Somewhat easy",
          "Somewhat easy",
          "Somewhat easy",
          "Don't know",
          "Don't know",
          "Don't know",
          "Very difficult",
          "Don't know",
          "Very easy",
          "Don't know",
          "Somewhat easy",
          "Don't know",
          "Somewhat easy",
          "Somewhat difficult",
          "Somewhat difficult",
          "Don't know"
         ],
         "xaxis": "x",
         "yaxis": "y"
        },
        {
         "alignmentgroup": "True",
         "bingroup": "x",
         "hovertemplate": "treatment=No<br>leave=%{x}<br>count=%{y}<extra></extra>",
         "legendgroup": "No",
         "marker": {
          "color": "#EF553B",
          "pattern": {
           "shape": ""
          }
         },
         "name": "No",
         "offsetgroup": "No",
         "orientation": "v",
         "showlegend": true,
         "type": "histogram",
         "x": [
          "Don't know",
          "Somewhat difficult",
          "Don't know",
          "Don't know",
          "Don't know",
          "Don't know",
          "Don't know",
          "Don't know",
          "Somewhat easy",
          "Very easy",
          "Somewhat easy",
          "Somewhat difficult",
          "Don't know",
          "Very difficult",
          "Don't know",
          "Somewhat difficult",
          "Very easy",
          "Somewhat easy",
          "Don't know",
          "Somewhat difficult",
          "Somewhat difficult",
          "Don't know",
          "Don't know",
          "Don't know",
          "Don't know",
          "Don't know",
          "Don't know",
          "Don't know",
          "Somewhat easy",
          "Somewhat easy",
          "Somewhat easy",
          "Very easy",
          "Somewhat easy",
          "Don't know",
          "Don't know",
          "Don't know",
          "Don't know",
          "Don't know",
          "Somewhat easy",
          "Somewhat difficult",
          "Somewhat easy",
          "Don't know",
          "Somewhat difficult",
          "Don't know",
          "Somewhat difficult",
          "Very easy",
          "Don't know",
          "Very easy",
          "Don't know",
          "Don't know",
          "Don't know",
          "Don't know",
          "Somewhat easy",
          "Somewhat easy",
          "Somewhat easy",
          "Don't know",
          "Somewhat easy",
          "Don't know",
          "Very easy",
          "Somewhat easy",
          "Somewhat easy",
          "Don't know",
          "Don't know",
          "Don't know",
          "Very easy",
          "Very difficult",
          "Very easy",
          "Don't know",
          "Don't know",
          "Very easy",
          "Don't know",
          "Don't know",
          "Don't know",
          "Somewhat easy",
          "Very difficult",
          "Don't know",
          "Somewhat easy",
          "Don't know",
          "Very easy",
          "Somewhat easy",
          "Somewhat easy",
          "Don't know",
          "Don't know",
          "Don't know",
          "Don't know",
          "Somewhat easy",
          "Don't know",
          "Somewhat easy",
          "Very easy",
          "Don't know",
          "Don't know",
          "Don't know",
          "Don't know",
          "Don't know",
          "Somewhat easy",
          "Very easy",
          "Very difficult",
          "Very difficult",
          "Very easy",
          "Don't know",
          "Don't know",
          "Somewhat easy",
          "Very easy",
          "Don't know",
          "Somewhat easy",
          "Somewhat easy",
          "Don't know",
          "Somewhat easy",
          "Somewhat easy",
          "Don't know",
          "Don't know",
          "Very difficult",
          "Somewhat easy",
          "Don't know",
          "Somewhat easy",
          "Somewhat easy",
          "Very difficult",
          "Very easy",
          "Don't know",
          "Very easy",
          "Somewhat easy",
          "Don't know",
          "Very easy",
          "Very easy",
          "Somewhat easy",
          "Don't know",
          "Don't know",
          "Don't know",
          "Very easy",
          "Very difficult",
          "Somewhat difficult",
          "Very easy",
          "Don't know",
          "Somewhat easy",
          "Somewhat difficult",
          "Somewhat difficult",
          "Don't know",
          "Somewhat difficult",
          "Somewhat easy",
          "Very easy",
          "Somewhat easy",
          "Very easy",
          "Don't know",
          "Somewhat difficult",
          "Somewhat easy",
          "Don't know",
          "Very difficult",
          "Somewhat easy",
          "Very easy",
          "Very easy",
          "Somewhat difficult",
          "Very easy",
          "Somewhat easy",
          "Don't know",
          "Don't know",
          "Somewhat easy",
          "Don't know",
          "Don't know",
          "Don't know",
          "Very easy",
          "Somewhat easy",
          "Don't know",
          "Don't know",
          "Don't know",
          "Don't know",
          "Don't know",
          "Don't know",
          "Don't know",
          "Don't know",
          "Don't know",
          "Very easy",
          "Don't know",
          "Don't know",
          "Very easy",
          "Somewhat easy",
          "Somewhat easy",
          "Don't know",
          "Somewhat easy",
          "Don't know",
          "Very easy",
          "Somewhat easy",
          "Don't know",
          "Very easy",
          "Very easy",
          "Don't know",
          "Very easy",
          "Don't know",
          "Very difficult",
          "Very easy",
          "Don't know",
          "Don't know",
          "Don't know",
          "Don't know",
          "Very easy",
          "Somewhat easy",
          "Very easy",
          "Somewhat difficult",
          "Very easy",
          "Somewhat easy",
          "Don't know",
          "Somewhat easy",
          "Very difficult",
          "Don't know",
          "Don't know",
          "Very difficult",
          "Don't know",
          "Don't know",
          "Very easy",
          "Don't know",
          "Somewhat easy",
          "Don't know",
          "Don't know",
          "Somewhat easy",
          "Don't know",
          "Somewhat easy",
          "Don't know",
          "Don't know",
          "Don't know",
          "Don't know",
          "Somewhat easy",
          "Somewhat easy",
          "Don't know",
          "Don't know",
          "Don't know",
          "Very easy",
          "Don't know",
          "Somewhat easy",
          "Don't know",
          "Don't know",
          "Don't know",
          "Don't know",
          "Somewhat easy",
          "Somewhat easy",
          "Don't know",
          "Don't know",
          "Don't know",
          "Don't know",
          "Very easy",
          "Somewhat easy",
          "Somewhat difficult",
          "Don't know",
          "Very difficult",
          "Very difficult",
          "Very easy",
          "Don't know",
          "Don't know",
          "Don't know",
          "Very easy",
          "Don't know",
          "Don't know",
          "Don't know",
          "Somewhat difficult",
          "Don't know",
          "Somewhat easy",
          "Don't know",
          "Don't know",
          "Don't know",
          "Very difficult",
          "Don't know",
          "Somewhat easy",
          "Don't know",
          "Very easy",
          "Don't know",
          "Don't know",
          "Don't know",
          "Don't know",
          "Don't know",
          "Somewhat easy",
          "Don't know",
          "Very difficult",
          "Very easy",
          "Don't know",
          "Don't know",
          "Don't know",
          "Very easy",
          "Very easy",
          "Don't know",
          "Somewhat easy",
          "Don't know",
          "Very easy",
          "Don't know",
          "Don't know",
          "Very easy",
          "Very easy",
          "Somewhat difficult",
          "Somewhat easy",
          "Don't know",
          "Don't know",
          "Somewhat easy",
          "Don't know",
          "Very easy",
          "Very difficult",
          "Don't know",
          "Very easy",
          "Don't know",
          "Somewhat easy",
          "Don't know",
          "Don't know",
          "Don't know",
          "Don't know",
          "Don't know",
          "Don't know",
          "Very easy",
          "Don't know",
          "Don't know",
          "Don't know",
          "Don't know",
          "Don't know",
          "Don't know",
          "Very easy",
          "Don't know",
          "Somewhat easy",
          "Very easy",
          "Don't know",
          "Don't know",
          "Somewhat easy",
          "Don't know",
          "Very difficult",
          "Very easy",
          "Somewhat easy",
          "Very easy",
          "Very easy",
          "Very easy",
          "Somewhat difficult",
          "Don't know",
          "Very easy",
          "Somewhat easy",
          "Don't know",
          "Don't know",
          "Don't know",
          "Don't know",
          "Somewhat difficult",
          "Don't know",
          "Somewhat easy",
          "Somewhat easy",
          "Don't know",
          "Don't know",
          "Somewhat difficult",
          "Very easy",
          "Very easy",
          "Don't know",
          "Don't know",
          "Don't know",
          "Somewhat difficult",
          "Don't know",
          "Somewhat easy",
          "Don't know",
          "Don't know",
          "Don't know",
          "Very easy",
          "Don't know",
          "Don't know",
          "Somewhat easy",
          "Somewhat easy",
          "Somewhat easy",
          "Don't know",
          "Somewhat easy",
          "Very difficult",
          "Don't know",
          "Somewhat difficult",
          "Don't know",
          "Don't know",
          "Don't know",
          "Somewhat easy",
          "Don't know",
          "Very easy",
          "Don't know",
          "Somewhat easy",
          "Somewhat easy",
          "Very easy",
          "Don't know",
          "Don't know",
          "Somewhat difficult",
          "Don't know",
          "Very easy",
          "Don't know",
          "Don't know",
          "Very easy",
          "Don't know",
          "Somewhat easy",
          "Very easy",
          "Don't know",
          "Don't know",
          "Very difficult",
          "Very easy",
          "Somewhat difficult",
          "Very easy",
          "Very easy",
          "Very easy",
          "Very easy",
          "Somewhat easy",
          "Somewhat easy",
          "Somewhat easy",
          "Somewhat easy",
          "Somewhat easy",
          "Don't know",
          "Don't know",
          "Don't know",
          "Don't know",
          "Don't know",
          "Don't know",
          "Don't know",
          "Somewhat easy",
          "Somewhat easy",
          "Somewhat easy",
          "Somewhat easy",
          "Don't know",
          "Don't know",
          "Very easy",
          "Don't know",
          "Very easy",
          "Somewhat easy",
          "Don't know",
          "Very easy",
          "Don't know",
          "Don't know",
          "Don't know",
          "Don't know",
          "Very difficult",
          "Don't know",
          "Don't know",
          "Very difficult",
          "Don't know",
          "Somewhat easy",
          "Very easy",
          "Don't know",
          "Very difficult",
          "Very easy",
          "Somewhat difficult",
          "Somewhat difficult",
          "Don't know",
          "Somewhat difficult",
          "Don't know",
          "Don't know",
          "Don't know",
          "Somewhat easy",
          "Very difficult",
          "Don't know",
          "Very easy",
          "Very easy",
          "Somewhat easy",
          "Don't know",
          "Don't know",
          "Somewhat difficult",
          "Very difficult",
          "Somewhat easy",
          "Don't know",
          "Don't know",
          "Don't know",
          "Very easy",
          "Somewhat easy",
          "Don't know",
          "Somewhat easy",
          "Very easy",
          "Don't know",
          "Somewhat difficult",
          "Don't know",
          "Somewhat easy",
          "Very easy",
          "Don't know",
          "Don't know",
          "Don't know",
          "Very difficult",
          "Somewhat difficult",
          "Somewhat easy",
          "Somewhat easy",
          "Somewhat easy",
          "Very easy",
          "Somewhat difficult",
          "Don't know",
          "Somewhat easy",
          "Very easy",
          "Somewhat easy",
          "Very easy",
          "Don't know",
          "Don't know",
          "Somewhat easy",
          "Don't know",
          "Very easy",
          "Very easy",
          "Don't know",
          "Don't know",
          "Don't know",
          "Don't know",
          "Don't know",
          "Very easy",
          "Somewhat easy",
          "Don't know",
          "Very easy",
          "Don't know",
          "Very difficult",
          "Don't know",
          "Somewhat easy",
          "Don't know",
          "Somewhat easy",
          "Somewhat easy",
          "Somewhat easy",
          "Very easy",
          "Somewhat difficult",
          "Somewhat difficult",
          "Somewhat easy",
          "Somewhat easy",
          "Very easy",
          "Very easy",
          "Somewhat easy",
          "Don't know",
          "Don't know",
          "Don't know",
          "Very easy",
          "Don't know",
          "Don't know",
          "Don't know",
          "Somewhat easy",
          "Somewhat difficult",
          "Don't know",
          "Don't know",
          "Very easy",
          "Somewhat easy",
          "Somewhat easy",
          "Somewhat easy",
          "Somewhat easy",
          "Don't know",
          "Somewhat easy",
          "Don't know",
          "Don't know",
          "Don't know",
          "Don't know",
          "Don't know",
          "Don't know",
          "Don't know",
          "Don't know",
          "Don't know",
          "Very easy",
          "Don't know",
          "Don't know",
          "Somewhat easy",
          "Somewhat difficult",
          "Very easy",
          "Don't know",
          "Don't know",
          "Very easy",
          "Somewhat difficult",
          "Somewhat easy",
          "Somewhat difficult",
          "Don't know",
          "Very difficult",
          "Don't know",
          "Don't know",
          "Don't know",
          "Very easy",
          "Don't know",
          "Very easy",
          "Somewhat easy",
          "Somewhat easy",
          "Don't know",
          "Don't know",
          "Don't know",
          "Somewhat easy",
          "Don't know",
          "Very easy",
          "Don't know",
          "Somewhat easy",
          "Don't know",
          "Don't know",
          "Don't know",
          "Somewhat easy",
          "Somewhat easy",
          "Don't know",
          "Somewhat difficult",
          "Somewhat difficult",
          "Somewhat difficult",
          "Don't know",
          "Somewhat easy",
          "Don't know",
          "Somewhat difficult",
          "Don't know",
          "Don't know",
          "Don't know",
          "Very easy",
          "Very easy",
          "Very easy",
          "Don't know",
          "Don't know",
          "Don't know",
          "Don't know",
          "Don't know",
          "Very difficult",
          "Don't know",
          "Don't know",
          "Very difficult",
          "Somewhat difficult",
          "Don't know",
          "Somewhat easy",
          "Don't know",
          "Don't know",
          "Very easy",
          "Don't know",
          "Somewhat easy",
          "Don't know",
          "Don't know",
          "Don't know",
          "Don't know",
          "Somewhat easy",
          "Somewhat easy",
          "Somewhat easy",
          "Don't know",
          "Don't know",
          "Very difficult",
          "Somewhat easy",
          "Don't know",
          "Somewhat difficult",
          "Somewhat easy",
          "Somewhat easy",
          "Somewhat easy",
          "Don't know",
          "Don't know",
          "Don't know",
          "Don't know",
          "Don't know",
          "Somewhat easy",
          "Somewhat easy",
          "Don't know"
         ],
         "xaxis": "x",
         "yaxis": "y"
        }
       ],
       "layout": {
        "barmode": "group",
        "height": 400,
        "legend": {
         "title": {
          "text": "treatment"
         },
         "tracegroupgap": 0
        },
        "margin": {
         "b": 20,
         "l": 20,
         "r": 20,
         "t": 20
        },
        "paper_bgcolor": "LightSteelBlue",
        "template": {
         "data": {
          "bar": [
           {
            "error_x": {
             "color": "#2a3f5f"
            },
            "error_y": {
             "color": "#2a3f5f"
            },
            "marker": {
             "line": {
              "color": "#E5ECF6",
              "width": 0.5
             },
             "pattern": {
              "fillmode": "overlay",
              "size": 10,
              "solidity": 0.2
             }
            },
            "type": "bar"
           }
          ],
          "barpolar": [
           {
            "marker": {
             "line": {
              "color": "#E5ECF6",
              "width": 0.5
             },
             "pattern": {
              "fillmode": "overlay",
              "size": 10,
              "solidity": 0.2
             }
            },
            "type": "barpolar"
           }
          ],
          "carpet": [
           {
            "aaxis": {
             "endlinecolor": "#2a3f5f",
             "gridcolor": "white",
             "linecolor": "white",
             "minorgridcolor": "white",
             "startlinecolor": "#2a3f5f"
            },
            "baxis": {
             "endlinecolor": "#2a3f5f",
             "gridcolor": "white",
             "linecolor": "white",
             "minorgridcolor": "white",
             "startlinecolor": "#2a3f5f"
            },
            "type": "carpet"
           }
          ],
          "choropleth": [
           {
            "colorbar": {
             "outlinewidth": 0,
             "ticks": ""
            },
            "type": "choropleth"
           }
          ],
          "contour": [
           {
            "colorbar": {
             "outlinewidth": 0,
             "ticks": ""
            },
            "colorscale": [
             [
              0,
              "#0d0887"
             ],
             [
              0.1111111111111111,
              "#46039f"
             ],
             [
              0.2222222222222222,
              "#7201a8"
             ],
             [
              0.3333333333333333,
              "#9c179e"
             ],
             [
              0.4444444444444444,
              "#bd3786"
             ],
             [
              0.5555555555555556,
              "#d8576b"
             ],
             [
              0.6666666666666666,
              "#ed7953"
             ],
             [
              0.7777777777777778,
              "#fb9f3a"
             ],
             [
              0.8888888888888888,
              "#fdca26"
             ],
             [
              1,
              "#f0f921"
             ]
            ],
            "type": "contour"
           }
          ],
          "contourcarpet": [
           {
            "colorbar": {
             "outlinewidth": 0,
             "ticks": ""
            },
            "type": "contourcarpet"
           }
          ],
          "heatmap": [
           {
            "colorbar": {
             "outlinewidth": 0,
             "ticks": ""
            },
            "colorscale": [
             [
              0,
              "#0d0887"
             ],
             [
              0.1111111111111111,
              "#46039f"
             ],
             [
              0.2222222222222222,
              "#7201a8"
             ],
             [
              0.3333333333333333,
              "#9c179e"
             ],
             [
              0.4444444444444444,
              "#bd3786"
             ],
             [
              0.5555555555555556,
              "#d8576b"
             ],
             [
              0.6666666666666666,
              "#ed7953"
             ],
             [
              0.7777777777777778,
              "#fb9f3a"
             ],
             [
              0.8888888888888888,
              "#fdca26"
             ],
             [
              1,
              "#f0f921"
             ]
            ],
            "type": "heatmap"
           }
          ],
          "heatmapgl": [
           {
            "colorbar": {
             "outlinewidth": 0,
             "ticks": ""
            },
            "colorscale": [
             [
              0,
              "#0d0887"
             ],
             [
              0.1111111111111111,
              "#46039f"
             ],
             [
              0.2222222222222222,
              "#7201a8"
             ],
             [
              0.3333333333333333,
              "#9c179e"
             ],
             [
              0.4444444444444444,
              "#bd3786"
             ],
             [
              0.5555555555555556,
              "#d8576b"
             ],
             [
              0.6666666666666666,
              "#ed7953"
             ],
             [
              0.7777777777777778,
              "#fb9f3a"
             ],
             [
              0.8888888888888888,
              "#fdca26"
             ],
             [
              1,
              "#f0f921"
             ]
            ],
            "type": "heatmapgl"
           }
          ],
          "histogram": [
           {
            "marker": {
             "pattern": {
              "fillmode": "overlay",
              "size": 10,
              "solidity": 0.2
             }
            },
            "type": "histogram"
           }
          ],
          "histogram2d": [
           {
            "colorbar": {
             "outlinewidth": 0,
             "ticks": ""
            },
            "colorscale": [
             [
              0,
              "#0d0887"
             ],
             [
              0.1111111111111111,
              "#46039f"
             ],
             [
              0.2222222222222222,
              "#7201a8"
             ],
             [
              0.3333333333333333,
              "#9c179e"
             ],
             [
              0.4444444444444444,
              "#bd3786"
             ],
             [
              0.5555555555555556,
              "#d8576b"
             ],
             [
              0.6666666666666666,
              "#ed7953"
             ],
             [
              0.7777777777777778,
              "#fb9f3a"
             ],
             [
              0.8888888888888888,
              "#fdca26"
             ],
             [
              1,
              "#f0f921"
             ]
            ],
            "type": "histogram2d"
           }
          ],
          "histogram2dcontour": [
           {
            "colorbar": {
             "outlinewidth": 0,
             "ticks": ""
            },
            "colorscale": [
             [
              0,
              "#0d0887"
             ],
             [
              0.1111111111111111,
              "#46039f"
             ],
             [
              0.2222222222222222,
              "#7201a8"
             ],
             [
              0.3333333333333333,
              "#9c179e"
             ],
             [
              0.4444444444444444,
              "#bd3786"
             ],
             [
              0.5555555555555556,
              "#d8576b"
             ],
             [
              0.6666666666666666,
              "#ed7953"
             ],
             [
              0.7777777777777778,
              "#fb9f3a"
             ],
             [
              0.8888888888888888,
              "#fdca26"
             ],
             [
              1,
              "#f0f921"
             ]
            ],
            "type": "histogram2dcontour"
           }
          ],
          "mesh3d": [
           {
            "colorbar": {
             "outlinewidth": 0,
             "ticks": ""
            },
            "type": "mesh3d"
           }
          ],
          "parcoords": [
           {
            "line": {
             "colorbar": {
              "outlinewidth": 0,
              "ticks": ""
             }
            },
            "type": "parcoords"
           }
          ],
          "pie": [
           {
            "automargin": true,
            "type": "pie"
           }
          ],
          "scatter": [
           {
            "fillpattern": {
             "fillmode": "overlay",
             "size": 10,
             "solidity": 0.2
            },
            "type": "scatter"
           }
          ],
          "scatter3d": [
           {
            "line": {
             "colorbar": {
              "outlinewidth": 0,
              "ticks": ""
             }
            },
            "marker": {
             "colorbar": {
              "outlinewidth": 0,
              "ticks": ""
             }
            },
            "type": "scatter3d"
           }
          ],
          "scattercarpet": [
           {
            "marker": {
             "colorbar": {
              "outlinewidth": 0,
              "ticks": ""
             }
            },
            "type": "scattercarpet"
           }
          ],
          "scattergeo": [
           {
            "marker": {
             "colorbar": {
              "outlinewidth": 0,
              "ticks": ""
             }
            },
            "type": "scattergeo"
           }
          ],
          "scattergl": [
           {
            "marker": {
             "colorbar": {
              "outlinewidth": 0,
              "ticks": ""
             }
            },
            "type": "scattergl"
           }
          ],
          "scattermapbox": [
           {
            "marker": {
             "colorbar": {
              "outlinewidth": 0,
              "ticks": ""
             }
            },
            "type": "scattermapbox"
           }
          ],
          "scatterpolar": [
           {
            "marker": {
             "colorbar": {
              "outlinewidth": 0,
              "ticks": ""
             }
            },
            "type": "scatterpolar"
           }
          ],
          "scatterpolargl": [
           {
            "marker": {
             "colorbar": {
              "outlinewidth": 0,
              "ticks": ""
             }
            },
            "type": "scatterpolargl"
           }
          ],
          "scatterternary": [
           {
            "marker": {
             "colorbar": {
              "outlinewidth": 0,
              "ticks": ""
             }
            },
            "type": "scatterternary"
           }
          ],
          "surface": [
           {
            "colorbar": {
             "outlinewidth": 0,
             "ticks": ""
            },
            "colorscale": [
             [
              0,
              "#0d0887"
             ],
             [
              0.1111111111111111,
              "#46039f"
             ],
             [
              0.2222222222222222,
              "#7201a8"
             ],
             [
              0.3333333333333333,
              "#9c179e"
             ],
             [
              0.4444444444444444,
              "#bd3786"
             ],
             [
              0.5555555555555556,
              "#d8576b"
             ],
             [
              0.6666666666666666,
              "#ed7953"
             ],
             [
              0.7777777777777778,
              "#fb9f3a"
             ],
             [
              0.8888888888888888,
              "#fdca26"
             ],
             [
              1,
              "#f0f921"
             ]
            ],
            "type": "surface"
           }
          ],
          "table": [
           {
            "cells": {
             "fill": {
              "color": "#EBF0F8"
             },
             "line": {
              "color": "white"
             }
            },
            "header": {
             "fill": {
              "color": "#C8D4E3"
             },
             "line": {
              "color": "white"
             }
            },
            "type": "table"
           }
          ]
         },
         "layout": {
          "annotationdefaults": {
           "arrowcolor": "#2a3f5f",
           "arrowhead": 0,
           "arrowwidth": 1
          },
          "autotypenumbers": "strict",
          "coloraxis": {
           "colorbar": {
            "outlinewidth": 0,
            "ticks": ""
           }
          },
          "colorscale": {
           "diverging": [
            [
             0,
             "#8e0152"
            ],
            [
             0.1,
             "#c51b7d"
            ],
            [
             0.2,
             "#de77ae"
            ],
            [
             0.3,
             "#f1b6da"
            ],
            [
             0.4,
             "#fde0ef"
            ],
            [
             0.5,
             "#f7f7f7"
            ],
            [
             0.6,
             "#e6f5d0"
            ],
            [
             0.7,
             "#b8e186"
            ],
            [
             0.8,
             "#7fbc41"
            ],
            [
             0.9,
             "#4d9221"
            ],
            [
             1,
             "#276419"
            ]
           ],
           "sequential": [
            [
             0,
             "#0d0887"
            ],
            [
             0.1111111111111111,
             "#46039f"
            ],
            [
             0.2222222222222222,
             "#7201a8"
            ],
            [
             0.3333333333333333,
             "#9c179e"
            ],
            [
             0.4444444444444444,
             "#bd3786"
            ],
            [
             0.5555555555555556,
             "#d8576b"
            ],
            [
             0.6666666666666666,
             "#ed7953"
            ],
            [
             0.7777777777777778,
             "#fb9f3a"
            ],
            [
             0.8888888888888888,
             "#fdca26"
            ],
            [
             1,
             "#f0f921"
            ]
           ],
           "sequentialminus": [
            [
             0,
             "#0d0887"
            ],
            [
             0.1111111111111111,
             "#46039f"
            ],
            [
             0.2222222222222222,
             "#7201a8"
            ],
            [
             0.3333333333333333,
             "#9c179e"
            ],
            [
             0.4444444444444444,
             "#bd3786"
            ],
            [
             0.5555555555555556,
             "#d8576b"
            ],
            [
             0.6666666666666666,
             "#ed7953"
            ],
            [
             0.7777777777777778,
             "#fb9f3a"
            ],
            [
             0.8888888888888888,
             "#fdca26"
            ],
            [
             1,
             "#f0f921"
            ]
           ]
          },
          "colorway": [
           "#636efa",
           "#EF553B",
           "#00cc96",
           "#ab63fa",
           "#FFA15A",
           "#19d3f3",
           "#FF6692",
           "#B6E880",
           "#FF97FF",
           "#FECB52"
          ],
          "font": {
           "color": "#2a3f5f"
          },
          "geo": {
           "bgcolor": "white",
           "lakecolor": "white",
           "landcolor": "#E5ECF6",
           "showlakes": true,
           "showland": true,
           "subunitcolor": "white"
          },
          "hoverlabel": {
           "align": "left"
          },
          "hovermode": "closest",
          "mapbox": {
           "style": "light"
          },
          "paper_bgcolor": "white",
          "plot_bgcolor": "#E5ECF6",
          "polar": {
           "angularaxis": {
            "gridcolor": "white",
            "linecolor": "white",
            "ticks": ""
           },
           "bgcolor": "#E5ECF6",
           "radialaxis": {
            "gridcolor": "white",
            "linecolor": "white",
            "ticks": ""
           }
          },
          "scene": {
           "xaxis": {
            "backgroundcolor": "#E5ECF6",
            "gridcolor": "white",
            "gridwidth": 2,
            "linecolor": "white",
            "showbackground": true,
            "ticks": "",
            "zerolinecolor": "white"
           },
           "yaxis": {
            "backgroundcolor": "#E5ECF6",
            "gridcolor": "white",
            "gridwidth": 2,
            "linecolor": "white",
            "showbackground": true,
            "ticks": "",
            "zerolinecolor": "white"
           },
           "zaxis": {
            "backgroundcolor": "#E5ECF6",
            "gridcolor": "white",
            "gridwidth": 2,
            "linecolor": "white",
            "showbackground": true,
            "ticks": "",
            "zerolinecolor": "white"
           }
          },
          "shapedefaults": {
           "line": {
            "color": "#2a3f5f"
           }
          },
          "ternary": {
           "aaxis": {
            "gridcolor": "white",
            "linecolor": "white",
            "ticks": ""
           },
           "baxis": {
            "gridcolor": "white",
            "linecolor": "white",
            "ticks": ""
           },
           "bgcolor": "#E5ECF6",
           "caxis": {
            "gridcolor": "white",
            "linecolor": "white",
            "ticks": ""
           }
          },
          "title": {
           "x": 0.05
          },
          "xaxis": {
           "automargin": true,
           "gridcolor": "white",
           "linecolor": "white",
           "ticks": "",
           "title": {
            "standoff": 15
           },
           "zerolinecolor": "white",
           "zerolinewidth": 2
          },
          "yaxis": {
           "automargin": true,
           "gridcolor": "white",
           "linecolor": "white",
           "ticks": "",
           "title": {
            "standoff": 15
           },
           "zerolinecolor": "white",
           "zerolinewidth": 2
          }
         }
        },
        "width": 800,
        "xaxis": {
         "anchor": "y",
         "domain": [
          0,
          1
         ],
         "title": {
          "text": "leave"
         }
        },
        "yaxis": {
         "anchor": "x",
         "domain": [
          0,
          1
         ],
         "title": {
          "text": "count"
         }
        }
       }
      }
     },
     "metadata": {},
     "output_type": "display_data"
    }
   ],
   "source": [
    "fig = px.histogram(data, x = 'leave',color='treatment',barmode='group', width=800, height=400)\n",
    "fig.update_layout(\n",
    "    margin=dict(l=20, r=20, t=20, b=20),\n",
    "    paper_bgcolor=\"LightSteelBlue\",\n",
    ")\n",
    "\n",
    "fig.show()"
   ]
  },
  {
   "cell_type": "markdown",
   "metadata": {},
   "source": [
    "General Insight\n",
    "\n",
    "This is interesting, because it shows 2 things I did not expect.\n",
    "Frist, the ratio of treatment-seekers to no-treatment, for those who find it easy to take medical leave, is almost exactly even.\n",
    "Second, those who find it difficult to seek medical leave, are more likely to seek treatment. Are those factors related?"
   ]
  },
  {
   "cell_type": "markdown",
   "metadata": {},
   "source": [
    "Do you think that discussing a mental health issue with your employer would have negative consequences?"
   ]
  },
  {
   "cell_type": "code",
   "execution_count": 217,
   "metadata": {},
   "outputs": [
    {
     "data": {
      "text/plain": [
       "<AxesSubplot: xlabel='mental_health_consequence', ylabel='count'>"
      ]
     },
     "execution_count": 217,
     "metadata": {},
     "output_type": "execute_result"
    },
    {
     "data": {
      "image/png": "[encoded data removed]",
      "text/plain": [
       "<Figure size 640x480 with 1 Axes>"
      ]
     },
     "metadata": {},
     "output_type": "display_data"
    }
   ],
   "source": [
    "sns.set(rc={'axes.facecolor':'lightskyblue', 'figure.facecolor':'darkcyan'})\n",
    "sns.countplot(data = data , x = 'mental_health_consequence', palette=['#ff9f9b',\"#d0bbff\",\"#8de5a1\"] )"
   ]
  },
  {
   "cell_type": "code",
   "execution_count": 218,
   "metadata": {},
   "outputs": [
    {
     "data": {
      "text/plain": [
       "No       0.389198\n",
       "Maybe    0.378872\n",
       "Yes      0.231930\n",
       "Name: mental_health_consequence, dtype: float64"
      ]
     },
     "execution_count": 218,
     "metadata": {},
     "output_type": "execute_result"
    }
   ],
   "source": [
    "data['mental_health_consequence'].value_counts(normalize = True)"
   ]
  },
  {
   "cell_type": "code",
   "execution_count": 219,
   "metadata": {},
   "outputs": [
    {
     "data": {
      "application/vnd.plotly.v1+json": {
       "config": {
        "plotlyServerURL": "https://plot.ly"
       },
       "data": [
        {
         "alignmentgroup": "True",
         "bingroup": "x",
         "hovertemplate": "treatment=Yes<br>mental_health_consequence=%{x}<br>count=%{y}<extra></extra>",
         "legendgroup": "Yes",
         "marker": {
          "color": "#636efa",
          "pattern": {
           "shape": ""
          }
         },
         "name": "Yes",
         "offsetgroup": "Yes",
         "orientation": "v",
         "showlegend": true,
         "type": "histogram",
         "x": [
          "No",
          "Yes",
          "Maybe",
          "Maybe",
          "No",
          "Yes",
          "No",
          "Maybe",
          "Maybe",
          "Maybe",
          "Maybe",
          "Maybe",
          "No",
          "Yes",
          "No",
          "No",
          "Maybe",
          "Maybe",
          "Maybe",
          "No",
          "No",
          "Maybe",
          "Maybe",
          "No",
          "No",
          "Maybe",
          "Maybe",
          "Maybe",
          "No",
          "Yes",
          "Yes",
          "No",
          "No",
          "Yes",
          "Maybe",
          "Maybe",
          "Yes",
          "Maybe",
          "No",
          "Maybe",
          "No",
          "Maybe",
          "No",
          "Yes",
          "No",
          "No",
          "Maybe",
          "Maybe",
          "Yes",
          "No",
          "No",
          "No",
          "No",
          "Maybe",
          "Yes",
          "Yes",
          "Maybe",
          "No",
          "No",
          "Maybe",
          "Yes",
          "Maybe",
          "Yes",
          "Yes",
          "Maybe",
          "No",
          "Maybe",
          "Maybe",
          "Maybe",
          "Yes",
          "No",
          "No",
          "Maybe",
          "Yes",
          "No",
          "No",
          "No",
          "Yes",
          "Yes",
          "Maybe",
          "Maybe",
          "Maybe",
          "No",
          "Maybe",
          "No",
          "Maybe",
          "Maybe",
          "Yes",
          "No",
          "Maybe",
          "Yes",
          "Yes",
          "No",
          "No",
          "No",
          "Maybe",
          "Yes",
          "Maybe",
          "Maybe",
          "Maybe",
          "Yes",
          "Maybe",
          "No",
          "No",
          "Maybe",
          "No",
          "Yes",
          "Maybe",
          "Maybe",
          "Maybe",
          "Maybe",
          "No",
          "Maybe",
          "Yes",
          "Maybe",
          "No",
          "Maybe",
          "No",
          "Maybe",
          "Maybe",
          "No",
          "Yes",
          "Maybe",
          "Maybe",
          "Yes",
          "Yes",
          "Maybe",
          "Maybe",
          "No",
          "Maybe",
          "Maybe",
          "No",
          "No",
          "Yes",
          "No",
          "No",
          "Yes",
          "No",
          "Maybe",
          "Maybe",
          "Yes",
          "No",
          "Maybe",
          "Yes",
          "Maybe",
          "No",
          "Yes",
          "Maybe",
          "Maybe",
          "No",
          "Yes",
          "Yes",
          "No",
          "Yes",
          "No",
          "No",
          "No",
          "Maybe",
          "No",
          "Maybe",
          "No",
          "Maybe",
          "Maybe",
          "Yes",
          "No",
          "Maybe",
          "No",
          "Maybe",
          "Maybe",
          "No",
          "No",
          "Yes",
          "Maybe",
          "No",
          "Maybe",
          "Yes",
          "Maybe",
          "Yes",
          "Maybe",
          "Maybe",
          "Maybe",
          "No",
          "No",
          "No",
          "No",
          "Yes",
          "Maybe",
          "Yes",
          "Yes",
          "Maybe",
          "Yes",
          "Maybe",
          "No",
          "Maybe",
          "Maybe",
          "Maybe",
          "Maybe",
          "Maybe",
          "Yes",
          "Yes",
          "Yes",
          "Yes",
          "No",
          "No",
          "Yes",
          "No",
          "No",
          "No",
          "Maybe",
          "Yes",
          "Yes",
          "Yes",
          "Maybe",
          "Maybe",
          "No",
          "Maybe",
          "No",
          "Yes",
          "No",
          "Maybe",
          "No",
          "Yes",
          "Yes",
          "Yes",
          "Yes",
          "Maybe",
          "Maybe",
          "Yes",
          "Yes",
          "No",
          "Maybe",
          "Yes",
          "Maybe",
          "Yes",
          "No",
          "Yes",
          "Maybe",
          "Maybe",
          "Maybe",
          "Yes",
          "No",
          "No",
          "Maybe",
          "Yes",
          "Yes",
          "No",
          "Maybe",
          "Yes",
          "Maybe",
          "No",
          "No",
          "No",
          "Yes",
          "No",
          "Maybe",
          "Yes",
          "Maybe",
          "Maybe",
          "Maybe",
          "Yes",
          "No",
          "Maybe",
          "No",
          "Yes",
          "Yes",
          "Maybe",
          "No",
          "Maybe",
          "No",
          "Yes",
          "Yes",
          "Yes",
          "No",
          "Maybe",
          "Maybe",
          "Maybe",
          "Maybe",
          "No",
          "No",
          "No",
          "Maybe",
          "Yes",
          "No",
          "Maybe",
          "Maybe",
          "Maybe",
          "No",
          "Maybe",
          "Maybe",
          "Maybe",
          "Maybe",
          "Maybe",
          "No",
          "Maybe",
          "Yes",
          "Maybe",
          "Maybe",
          "Yes",
          "Yes",
          "Yes",
          "No",
          "No",
          "No",
          "Yes",
          "No",
          "Maybe",
          "Yes",
          "No",
          "Maybe",
          "Yes",
          "No",
          "Yes",
          "Maybe",
          "Yes",
          "Maybe",
          "No",
          "No",
          "No",
          "Yes",
          "Yes",
          "Maybe",
          "Maybe",
          "Maybe",
          "No",
          "Maybe",
          "Maybe",
          "Maybe",
          "No",
          "Yes",
          "No",
          "Maybe",
          "No",
          "Maybe",
          "No",
          "Yes",
          "No",
          "Maybe",
          "No",
          "Maybe",
          "No",
          "No",
          "Maybe",
          "No",
          "Yes",
          "Maybe",
          "No",
          "No",
          "Yes",
          "Yes",
          "Yes",
          "Yes",
          "No",
          "Yes",
          "Yes",
          "Yes",
          "Maybe",
          "Yes",
          "No",
          "No",
          "Maybe",
          "Maybe",
          "No",
          "No",
          "No",
          "Maybe",
          "Maybe",
          "Maybe",
          "Yes",
          "Yes",
          "Maybe",
          "No",
          "Yes",
          "Yes",
          "Maybe",
          "Maybe",
          "Maybe",
          "Maybe",
          "Yes",
          "Yes",
          "No",
          "No",
          "No",
          "No",
          "Maybe",
          "Maybe",
          "No",
          "Maybe",
          "Yes",
          "Yes",
          "Yes",
          "Yes",
          "Maybe",
          "No",
          "Yes",
          "Maybe",
          "No",
          "Yes",
          "Maybe",
          "Maybe",
          "Yes",
          "No",
          "No",
          "Yes",
          "No",
          "Maybe",
          "No",
          "No",
          "No",
          "Yes",
          "Maybe",
          "No",
          "Maybe",
          "No",
          "Maybe",
          "No",
          "No",
          "Maybe",
          "Yes",
          "Yes",
          "No",
          "Yes",
          "Yes",
          "Maybe",
          "No",
          "Maybe",
          "Yes",
          "Maybe",
          "Maybe",
          "Maybe",
          "No",
          "Yes",
          "Maybe",
          "Maybe",
          "Yes",
          "Yes",
          "Maybe",
          "Yes",
          "Yes",
          "Maybe",
          "Maybe",
          "Yes",
          "Maybe",
          "No",
          "No",
          "No",
          "Yes",
          "No",
          "Yes",
          "Maybe",
          "Maybe",
          "Yes",
          "Maybe",
          "Yes",
          "Yes",
          "Maybe",
          "Maybe",
          "Yes",
          "No",
          "Maybe",
          "Maybe",
          "Maybe",
          "Yes",
          "Maybe",
          "Maybe",
          "Yes",
          "No",
          "Maybe",
          "Maybe",
          "No",
          "Yes",
          "Yes",
          "Yes",
          "No",
          "No",
          "No",
          "Yes",
          "Yes",
          "Yes",
          "Maybe",
          "No",
          "Yes",
          "No",
          "Maybe",
          "Maybe",
          "Yes",
          "Yes",
          "Maybe",
          "No",
          "Yes",
          "No",
          "Yes",
          "Maybe",
          "No",
          "Maybe",
          "No",
          "Maybe",
          "Yes",
          "No",
          "No",
          "Yes",
          "Maybe",
          "Maybe",
          "Maybe",
          "No",
          "Yes",
          "No",
          "Yes",
          "Yes",
          "Maybe",
          "Maybe",
          "Maybe",
          "No",
          "No",
          "No",
          "No",
          "No",
          "No",
          "Maybe",
          "No",
          "No",
          "Maybe",
          "Maybe",
          "Maybe",
          "No",
          "Maybe",
          "Maybe",
          "Yes",
          "Maybe",
          "Maybe",
          "Yes",
          "Maybe",
          "Maybe",
          "No",
          "Yes",
          "No",
          "Maybe",
          "No",
          "No",
          "Maybe",
          "Yes",
          "Yes",
          "No",
          "No",
          "No",
          "Maybe",
          "Yes",
          "Maybe",
          "Maybe",
          "No",
          "Yes",
          "No",
          "Maybe",
          "No",
          "Maybe",
          "Yes",
          "Yes",
          "No",
          "Maybe",
          "Maybe",
          "No",
          "Maybe",
          "No",
          "Yes",
          "Yes",
          "Maybe",
          "Maybe",
          "No",
          "Maybe",
          "Maybe",
          "No",
          "No",
          "Maybe",
          "Yes",
          "Maybe",
          "No",
          "Yes",
          "No",
          "No",
          "Yes",
          "Maybe",
          "Maybe",
          "Maybe",
          "Maybe",
          "No",
          "Maybe",
          "Maybe",
          "Maybe",
          "Maybe",
          "Maybe",
          "Maybe",
          "Maybe",
          "Yes",
          "Maybe",
          "Maybe",
          "Maybe",
          "Yes",
          "Yes",
          "Yes",
          "Yes",
          "Yes",
          "No",
          "Maybe",
          "No",
          "Maybe",
          "Maybe",
          "Maybe",
          "Maybe",
          "No",
          "Maybe",
          "No",
          "No",
          "Maybe",
          "No",
          "Yes",
          "No",
          "Maybe",
          "No",
          "No",
          "Yes",
          "Maybe",
          "Maybe",
          "Yes",
          "No",
          "Maybe",
          "Maybe",
          "No",
          "Maybe",
          "Yes",
          "Yes",
          "No",
          "No",
          "No",
          "Yes",
          "No",
          "No",
          "Yes",
          "Maybe"
         ],
         "xaxis": "x",
         "yaxis": "y"
        },
        {
         "alignmentgroup": "True",
         "bingroup": "x",
         "hovertemplate": "treatment=No<br>mental_health_consequence=%{x}<br>count=%{y}<extra></extra>",
         "legendgroup": "No",
         "marker": {
          "color": "#EF553B",
          "pattern": {
           "shape": ""
          }
         },
         "name": "No",
         "offsetgroup": "No",
         "orientation": "v",
         "showlegend": true,
         "type": "histogram",
         "x": [
          "Maybe",
          "No",
          "No",
          "No",
          "No",
          "No",
          "No",
          "No",
          "No",
          "No",
          "No",
          "No",
          "Maybe",
          "Yes",
          "Yes",
          "Yes",
          "Yes",
          "Maybe",
          "No",
          "Yes",
          "Yes",
          "No",
          "No",
          "No",
          "No",
          "Maybe",
          "Maybe",
          "No",
          "No",
          "No",
          "No",
          "Yes",
          "No",
          "Yes",
          "Maybe",
          "Maybe",
          "Maybe",
          "Maybe",
          "No",
          "Maybe",
          "No",
          "Maybe",
          "Yes",
          "No",
          "No",
          "No",
          "No",
          "No",
          "No",
          "Yes",
          "No",
          "No",
          "No",
          "Maybe",
          "No",
          "No",
          "Maybe",
          "Maybe",
          "No",
          "No",
          "No",
          "Maybe",
          "Maybe",
          "Maybe",
          "No",
          "Yes",
          "Maybe",
          "No",
          "Yes",
          "No",
          "Maybe",
          "Yes",
          "No",
          "Maybe",
          "Maybe",
          "No",
          "No",
          "Yes",
          "No",
          "Maybe",
          "No",
          "Yes",
          "No",
          "Maybe",
          "Maybe",
          "Yes",
          "Maybe",
          "Maybe",
          "No",
          "No",
          "No",
          "Yes",
          "No",
          "Maybe",
          "No",
          "Maybe",
          "Maybe",
          "Yes",
          "Maybe",
          "Maybe",
          "Maybe",
          "No",
          "No",
          "Maybe",
          "Maybe",
          "No",
          "Yes",
          "Maybe",
          "No",
          "No",
          "Yes",
          "Yes",
          "Maybe",
          "Maybe",
          "No",
          "Maybe",
          "Yes",
          "No",
          "No",
          "Yes",
          "No",
          "Yes",
          "No",
          "Yes",
          "No",
          "No",
          "No",
          "No",
          "No",
          "No",
          "Yes",
          "Maybe",
          "Maybe",
          "No",
          "Yes",
          "No",
          "No",
          "Maybe",
          "No",
          "No",
          "No",
          "Maybe",
          "No",
          "Yes",
          "No",
          "Yes",
          "Yes",
          "Maybe",
          "No",
          "No",
          "No",
          "No",
          "Maybe",
          "No",
          "Maybe",
          "Maybe",
          "Maybe",
          "Yes",
          "No",
          "No",
          "No",
          "Yes",
          "Maybe",
          "Maybe",
          "No",
          "No",
          "No",
          "No",
          "No",
          "Maybe",
          "No",
          "Maybe",
          "Maybe",
          "No",
          "Maybe",
          "No",
          "Maybe",
          "Maybe",
          "Maybe",
          "No",
          "Maybe",
          "Maybe",
          "No",
          "Maybe",
          "Yes",
          "No",
          "No",
          "Yes",
          "Yes",
          "Maybe",
          "Yes",
          "Maybe",
          "Maybe",
          "No",
          "No",
          "No",
          "Maybe",
          "No",
          "No",
          "No",
          "Yes",
          "Yes",
          "Maybe",
          "Maybe",
          "Maybe",
          "Maybe",
          "No",
          "No",
          "Yes",
          "No",
          "Yes",
          "No",
          "Maybe",
          "No",
          "No",
          "No",
          "No",
          "Maybe",
          "No",
          "No",
          "Maybe",
          "Maybe",
          "No",
          "No",
          "No",
          "Maybe",
          "Maybe",
          "No",
          "Yes",
          "Maybe",
          "Yes",
          "No",
          "Maybe",
          "Yes",
          "Maybe",
          "Maybe",
          "No",
          "Maybe",
          "Yes",
          "Maybe",
          "Maybe",
          "Yes",
          "Maybe",
          "Yes",
          "Maybe",
          "No",
          "Maybe",
          "Maybe",
          "Maybe",
          "No",
          "No",
          "Yes",
          "Maybe",
          "No",
          "Yes",
          "No",
          "No",
          "Maybe",
          "No",
          "Maybe",
          "Maybe",
          "No",
          "Maybe",
          "Maybe",
          "Maybe",
          "Maybe",
          "Maybe",
          "No",
          "No",
          "Yes",
          "No",
          "Yes",
          "Maybe",
          "No",
          "Maybe",
          "No",
          "No",
          "Maybe",
          "Maybe",
          "No",
          "Yes",
          "Maybe",
          "Maybe",
          "No",
          "No",
          "Maybe",
          "No",
          "No",
          "No",
          "No",
          "No",
          "Yes",
          "No",
          "No",
          "Yes",
          "Maybe",
          "Maybe",
          "No",
          "No",
          "Yes",
          "No",
          "No",
          "No",
          "Maybe",
          "Maybe",
          "Yes",
          "Maybe",
          "No",
          "Yes",
          "No",
          "Maybe",
          "Maybe",
          "Yes",
          "No",
          "Maybe",
          "No",
          "No",
          "Yes",
          "No",
          "No",
          "No",
          "No",
          "Maybe",
          "Yes",
          "Yes",
          "No",
          "No",
          "No",
          "No",
          "Yes",
          "Maybe",
          "No",
          "No",
          "No",
          "No",
          "No",
          "Maybe",
          "Maybe",
          "No",
          "Maybe",
          "No",
          "Maybe",
          "No",
          "No",
          "Maybe",
          "No",
          "Maybe",
          "Maybe",
          "Maybe",
          "No",
          "Yes",
          "Maybe",
          "No",
          "No",
          "No",
          "Yes",
          "Maybe",
          "Yes",
          "Maybe",
          "Maybe",
          "Maybe",
          "Yes",
          "Yes",
          "Maybe",
          "No",
          "No",
          "Maybe",
          "Maybe",
          "No",
          "No",
          "No",
          "Maybe",
          "Maybe",
          "No",
          "Maybe",
          "No",
          "Maybe",
          "No",
          "No",
          "No",
          "No",
          "No",
          "Maybe",
          "Yes",
          "No",
          "Maybe",
          "No",
          "No",
          "No",
          "No",
          "Maybe",
          "No",
          "No",
          "No",
          "No",
          "Maybe",
          "No",
          "Maybe",
          "Maybe",
          "No",
          "No",
          "No",
          "No",
          "Maybe",
          "No",
          "Maybe",
          "Maybe",
          "Maybe",
          "Yes",
          "Yes",
          "No",
          "Maybe",
          "No",
          "No",
          "Maybe",
          "Maybe",
          "Maybe",
          "Yes",
          "Yes",
          "No",
          "No",
          "Yes",
          "No",
          "Yes",
          "Maybe",
          "Maybe",
          "Yes",
          "Maybe",
          "No",
          "No",
          "Maybe",
          "No",
          "Yes",
          "No",
          "Maybe",
          "Maybe",
          "Yes",
          "Maybe",
          "No",
          "No",
          "No",
          "Maybe",
          "Maybe",
          "Yes",
          "Maybe",
          "No",
          "No",
          "Maybe",
          "No",
          "Maybe",
          "Maybe",
          "Maybe",
          "Yes",
          "No",
          "Maybe",
          "No",
          "Maybe",
          "No",
          "No",
          "Maybe",
          "Maybe",
          "No",
          "Yes",
          "No",
          "No",
          "No",
          "No",
          "No",
          "No",
          "Yes",
          "Maybe",
          "No",
          "No",
          "No",
          "Yes",
          "Maybe",
          "No",
          "No",
          "No",
          "No",
          "Yes",
          "No",
          "Maybe",
          "Yes",
          "No",
          "No",
          "No",
          "Maybe",
          "No",
          "Maybe",
          "Yes",
          "No",
          "No",
          "No",
          "Maybe",
          "Maybe",
          "Maybe",
          "No",
          "Yes",
          "Yes",
          "No",
          "No",
          "No",
          "Maybe",
          "No",
          "Yes",
          "Yes",
          "No",
          "Maybe",
          "Yes",
          "Yes",
          "Maybe",
          "Maybe",
          "Yes",
          "No",
          "Yes",
          "Maybe",
          "No",
          "Yes",
          "No",
          "No",
          "Maybe",
          "Maybe",
          "Maybe",
          "No",
          "Yes",
          "Maybe",
          "No",
          "Yes",
          "Yes",
          "Maybe",
          "Yes",
          "No",
          "No",
          "No",
          "No",
          "Yes",
          "No",
          "Maybe",
          "Maybe",
          "Maybe",
          "No",
          "Maybe",
          "Maybe",
          "Maybe",
          "Yes",
          "Maybe",
          "Maybe",
          "No",
          "No",
          "Yes",
          "No",
          "Maybe",
          "No",
          "No",
          "Maybe",
          "Maybe",
          "No",
          "Yes",
          "Maybe",
          "Maybe",
          "Maybe",
          "Maybe",
          "Yes",
          "No",
          "Maybe",
          "Maybe",
          "Maybe",
          "Yes",
          "Yes",
          "Maybe",
          "Maybe",
          "Yes",
          "Maybe",
          "No",
          "Maybe",
          "Maybe",
          "Yes",
          "No",
          "No",
          "Yes",
          "Yes",
          "Maybe",
          "Yes",
          "Maybe",
          "Maybe",
          "Yes",
          "Maybe",
          "Yes",
          "Yes",
          "No",
          "No",
          "No",
          "No",
          "Maybe",
          "Maybe",
          "Maybe",
          "No",
          "No",
          "No",
          "Maybe",
          "Maybe",
          "Maybe",
          "Maybe",
          "No",
          "Maybe",
          "Yes",
          "Yes",
          "Maybe",
          "No",
          "Yes",
          "Maybe",
          "Maybe",
          "Maybe",
          "Maybe",
          "Yes",
          "Yes",
          "Maybe",
          "Maybe",
          "No",
          "Maybe",
          "Yes"
         ],
         "xaxis": "x",
         "yaxis": "y"
        }
       ],
       "layout": {
        "barmode": "group",
        "height": 400,
        "legend": {
         "title": {
          "text": "treatment"
         },
         "tracegroupgap": 0
        },
        "margin": {
         "b": 20,
         "l": 20,
         "r": 20,
         "t": 20
        },
        "paper_bgcolor": "LightSteelBlue",
        "template": {
         "data": {
          "bar": [
           {
            "error_x": {
             "color": "#2a3f5f"
            },
            "error_y": {
             "color": "#2a3f5f"
            },
            "marker": {
             "line": {
              "color": "#E5ECF6",
              "width": 0.5
             },
             "pattern": {
              "fillmode": "overlay",
              "size": 10,
              "solidity": 0.2
             }
            },
            "type": "bar"
           }
          ],
          "barpolar": [
           {
            "marker": {
             "line": {
              "color": "#E5ECF6",
              "width": 0.5
             },
             "pattern": {
              "fillmode": "overlay",
              "size": 10,
              "solidity": 0.2
             }
            },
            "type": "barpolar"
           }
          ],
          "carpet": [
           {
            "aaxis": {
             "endlinecolor": "#2a3f5f",
             "gridcolor": "white",
             "linecolor": "white",
             "minorgridcolor": "white",
             "startlinecolor": "#2a3f5f"
            },
            "baxis": {
             "endlinecolor": "#2a3f5f",
             "gridcolor": "white",
             "linecolor": "white",
             "minorgridcolor": "white",
             "startlinecolor": "#2a3f5f"
            },
            "type": "carpet"
           }
          ],
          "choropleth": [
           {
            "colorbar": {
             "outlinewidth": 0,
             "ticks": ""
            },
            "type": "choropleth"
           }
          ],
          "contour": [
           {
            "colorbar": {
             "outlinewidth": 0,
             "ticks": ""
            },
            "colorscale": [
             [
              0,
              "#0d0887"
             ],
             [
              0.1111111111111111,
              "#46039f"
             ],
             [
              0.2222222222222222,
              "#7201a8"
             ],
             [
              0.3333333333333333,
              "#9c179e"
             ],
             [
              0.4444444444444444,
              "#bd3786"
             ],
             [
              0.5555555555555556,
              "#d8576b"
             ],
             [
              0.6666666666666666,
              "#ed7953"
             ],
             [
              0.7777777777777778,
              "#fb9f3a"
             ],
             [
              0.8888888888888888,
              "#fdca26"
             ],
             [
              1,
              "#f0f921"
             ]
            ],
            "type": "contour"
           }
          ],
          "contourcarpet": [
           {
            "colorbar": {
             "outlinewidth": 0,
             "ticks": ""
            },
            "type": "contourcarpet"
           }
          ],
          "heatmap": [
           {
            "colorbar": {
             "outlinewidth": 0,
             "ticks": ""
            },
            "colorscale": [
             [
              0,
              "#0d0887"
             ],
             [
              0.1111111111111111,
              "#46039f"
             ],
             [
              0.2222222222222222,
              "#7201a8"
             ],
             [
              0.3333333333333333,
              "#9c179e"
             ],
             [
              0.4444444444444444,
              "#bd3786"
             ],
             [
              0.5555555555555556,
              "#d8576b"
             ],
             [
              0.6666666666666666,
              "#ed7953"
             ],
             [
              0.7777777777777778,
              "#fb9f3a"
             ],
             [
              0.8888888888888888,
              "#fdca26"
             ],
             [
              1,
              "#f0f921"
             ]
            ],
            "type": "heatmap"
           }
          ],
          "heatmapgl": [
           {
            "colorbar": {
             "outlinewidth": 0,
             "ticks": ""
            },
            "colorscale": [
             [
              0,
              "#0d0887"
             ],
             [
              0.1111111111111111,
              "#46039f"
             ],
             [
              0.2222222222222222,
              "#7201a8"
             ],
             [
              0.3333333333333333,
              "#9c179e"
             ],
             [
              0.4444444444444444,
              "#bd3786"
             ],
             [
              0.5555555555555556,
              "#d8576b"
             ],
             [
              0.6666666666666666,
              "#ed7953"
             ],
             [
              0.7777777777777778,
              "#fb9f3a"
             ],
             [
              0.8888888888888888,
              "#fdca26"
             ],
             [
              1,
              "#f0f921"
             ]
            ],
            "type": "heatmapgl"
           }
          ],
          "histogram": [
           {
            "marker": {
             "pattern": {
              "fillmode": "overlay",
              "size": 10,
              "solidity": 0.2
             }
            },
            "type": "histogram"
           }
          ],
          "histogram2d": [
           {
            "colorbar": {
             "outlinewidth": 0,
             "ticks": ""
            },
            "colorscale": [
             [
              0,
              "#0d0887"
             ],
             [
              0.1111111111111111,
              "#46039f"
             ],
             [
              0.2222222222222222,
              "#7201a8"
             ],
             [
              0.3333333333333333,
              "#9c179e"
             ],
             [
              0.4444444444444444,
              "#bd3786"
             ],
             [
              0.5555555555555556,
              "#d8576b"
             ],
             [
              0.6666666666666666,
              "#ed7953"
             ],
             [
              0.7777777777777778,
              "#fb9f3a"
             ],
             [
              0.8888888888888888,
              "#fdca26"
             ],
             [
              1,
              "#f0f921"
             ]
            ],
            "type": "histogram2d"
           }
          ],
          "histogram2dcontour": [
           {
            "colorbar": {
             "outlinewidth": 0,
             "ticks": ""
            },
            "colorscale": [
             [
              0,
              "#0d0887"
             ],
             [
              0.1111111111111111,
              "#46039f"
             ],
             [
              0.2222222222222222,
              "#7201a8"
             ],
             [
              0.3333333333333333,
              "#9c179e"
             ],
             [
              0.4444444444444444,
              "#bd3786"
             ],
             [
              0.5555555555555556,
              "#d8576b"
             ],
             [
              0.6666666666666666,
              "#ed7953"
             ],
             [
              0.7777777777777778,
              "#fb9f3a"
             ],
             [
              0.8888888888888888,
              "#fdca26"
             ],
             [
              1,
              "#f0f921"
             ]
            ],
            "type": "histogram2dcontour"
           }
          ],
          "mesh3d": [
           {
            "colorbar": {
             "outlinewidth": 0,
             "ticks": ""
            },
            "type": "mesh3d"
           }
          ],
          "parcoords": [
           {
            "line": {
             "colorbar": {
              "outlinewidth": 0,
              "ticks": ""
             }
            },
            "type": "parcoords"
           }
          ],
          "pie": [
           {
            "automargin": true,
            "type": "pie"
           }
          ],
          "scatter": [
           {
            "fillpattern": {
             "fillmode": "overlay",
             "size": 10,
             "solidity": 0.2
            },
            "type": "scatter"
           }
          ],
          "scatter3d": [
           {
            "line": {
             "colorbar": {
              "outlinewidth": 0,
              "ticks": ""
             }
            },
            "marker": {
             "colorbar": {
              "outlinewidth": 0,
              "ticks": ""
             }
            },
            "type": "scatter3d"
           }
          ],
          "scattercarpet": [
           {
            "marker": {
             "colorbar": {
              "outlinewidth": 0,
              "ticks": ""
             }
            },
            "type": "scattercarpet"
           }
          ],
          "scattergeo": [
           {
            "marker": {
             "colorbar": {
              "outlinewidth": 0,
              "ticks": ""
             }
            },
            "type": "scattergeo"
           }
          ],
          "scattergl": [
           {
            "marker": {
             "colorbar": {
              "outlinewidth": 0,
              "ticks": ""
             }
            },
            "type": "scattergl"
           }
          ],
          "scattermapbox": [
           {
            "marker": {
             "colorbar": {
              "outlinewidth": 0,
              "ticks": ""
             }
            },
            "type": "scattermapbox"
           }
          ],
          "scatterpolar": [
           {
            "marker": {
             "colorbar": {
              "outlinewidth": 0,
              "ticks": ""
             }
            },
            "type": "scatterpolar"
           }
          ],
          "scatterpolargl": [
           {
            "marker": {
             "colorbar": {
              "outlinewidth": 0,
              "ticks": ""
             }
            },
            "type": "scatterpolargl"
           }
          ],
          "scatterternary": [
           {
            "marker": {
             "colorbar": {
              "outlinewidth": 0,
              "ticks": ""
             }
            },
            "type": "scatterternary"
           }
          ],
          "surface": [
           {
            "colorbar": {
             "outlinewidth": 0,
             "ticks": ""
            },
            "colorscale": [
             [
              0,
              "#0d0887"
             ],
             [
              0.1111111111111111,
              "#46039f"
             ],
             [
              0.2222222222222222,
              "#7201a8"
             ],
             [
              0.3333333333333333,
              "#9c179e"
             ],
             [
              0.4444444444444444,
              "#bd3786"
             ],
             [
              0.5555555555555556,
              "#d8576b"
             ],
             [
              0.6666666666666666,
              "#ed7953"
             ],
             [
              0.7777777777777778,
              "#fb9f3a"
             ],
             [
              0.8888888888888888,
              "#fdca26"
             ],
             [
              1,
              "#f0f921"
             ]
            ],
            "type": "surface"
           }
          ],
          "table": [
           {
            "cells": {
             "fill": {
              "color": "#EBF0F8"
             },
             "line": {
              "color": "white"
             }
            },
            "header": {
             "fill": {
              "color": "#C8D4E3"
             },
             "line": {
              "color": "white"
             }
            },
            "type": "table"
           }
          ]
         },
         "layout": {
          "annotationdefaults": {
           "arrowcolor": "#2a3f5f",
           "arrowhead": 0,
           "arrowwidth": 1
          },
          "autotypenumbers": "strict",
          "coloraxis": {
           "colorbar": {
            "outlinewidth": 0,
            "ticks": ""
           }
          },
          "colorscale": {
           "diverging": [
            [
             0,
             "#8e0152"
            ],
            [
             0.1,
             "#c51b7d"
            ],
            [
             0.2,
             "#de77ae"
            ],
            [
             0.3,
             "#f1b6da"
            ],
            [
             0.4,
             "#fde0ef"
            ],
            [
             0.5,
             "#f7f7f7"
            ],
            [
             0.6,
             "#e6f5d0"
            ],
            [
             0.7,
             "#b8e186"
            ],
            [
             0.8,
             "#7fbc41"
            ],
            [
             0.9,
             "#4d9221"
            ],
            [
             1,
             "#276419"
            ]
           ],
           "sequential": [
            [
             0,
             "#0d0887"
            ],
            [
             0.1111111111111111,
             "#46039f"
            ],
            [
             0.2222222222222222,
             "#7201a8"
            ],
            [
             0.3333333333333333,
             "#9c179e"
            ],
            [
             0.4444444444444444,
             "#bd3786"
            ],
            [
             0.5555555555555556,
             "#d8576b"
            ],
            [
             0.6666666666666666,
             "#ed7953"
            ],
            [
             0.7777777777777778,
             "#fb9f3a"
            ],
            [
             0.8888888888888888,
             "#fdca26"
            ],
            [
             1,
             "#f0f921"
            ]
           ],
           "sequentialminus": [
            [
             0,
             "#0d0887"
            ],
            [
             0.1111111111111111,
             "#46039f"
            ],
            [
             0.2222222222222222,
             "#7201a8"
            ],
            [
             0.3333333333333333,
             "#9c179e"
            ],
            [
             0.4444444444444444,
             "#bd3786"
            ],
            [
             0.5555555555555556,
             "#d8576b"
            ],
            [
             0.6666666666666666,
             "#ed7953"
            ],
            [
             0.7777777777777778,
             "#fb9f3a"
            ],
            [
             0.8888888888888888,
             "#fdca26"
            ],
            [
             1,
             "#f0f921"
            ]
           ]
          },
          "colorway": [
           "#636efa",
           "#EF553B",
           "#00cc96",
           "#ab63fa",
           "#FFA15A",
           "#19d3f3",
           "#FF6692",
           "#B6E880",
           "#FF97FF",
           "#FECB52"
          ],
          "font": {
           "color": "#2a3f5f"
          },
          "geo": {
           "bgcolor": "white",
           "lakecolor": "white",
           "landcolor": "#E5ECF6",
           "showlakes": true,
           "showland": true,
           "subunitcolor": "white"
          },
          "hoverlabel": {
           "align": "left"
          },
          "hovermode": "closest",
          "mapbox": {
           "style": "light"
          },
          "paper_bgcolor": "white",
          "plot_bgcolor": "#E5ECF6",
          "polar": {
           "angularaxis": {
            "gridcolor": "white",
            "linecolor": "white",
            "ticks": ""
           },
           "bgcolor": "#E5ECF6",
           "radialaxis": {
            "gridcolor": "white",
            "linecolor": "white",
            "ticks": ""
           }
          },
          "scene": {
           "xaxis": {
            "backgroundcolor": "#E5ECF6",
            "gridcolor": "white",
            "gridwidth": 2,
            "linecolor": "white",
            "showbackground": true,
            "ticks": "",
            "zerolinecolor": "white"
           },
           "yaxis": {
            "backgroundcolor": "#E5ECF6",
            "gridcolor": "white",
            "gridwidth": 2,
            "linecolor": "white",
            "showbackground": true,
            "ticks": "",
            "zerolinecolor": "white"
           },
           "zaxis": {
            "backgroundcolor": "#E5ECF6",
            "gridcolor": "white",
            "gridwidth": 2,
            "linecolor": "white",
            "showbackground": true,
            "ticks": "",
            "zerolinecolor": "white"
           }
          },
          "shapedefaults": {
           "line": {
            "color": "#2a3f5f"
           }
          },
          "ternary": {
           "aaxis": {
            "gridcolor": "white",
            "linecolor": "white",
            "ticks": ""
           },
           "baxis": {
            "gridcolor": "white",
            "linecolor": "white",
            "ticks": ""
           },
           "bgcolor": "#E5ECF6",
           "caxis": {
            "gridcolor": "white",
            "linecolor": "white",
            "ticks": ""
           }
          },
          "title": {
           "x": 0.05
          },
          "xaxis": {
           "automargin": true,
           "gridcolor": "white",
           "linecolor": "white",
           "ticks": "",
           "title": {
            "standoff": 15
           },
           "zerolinecolor": "white",
           "zerolinewidth": 2
          },
          "yaxis": {
           "automargin": true,
           "gridcolor": "white",
           "linecolor": "white",
           "ticks": "",
           "title": {
            "standoff": 15
           },
           "zerolinecolor": "white",
           "zerolinewidth": 2
          }
         }
        },
        "width": 800,
        "xaxis": {
         "anchor": "y",
         "domain": [
          0,
          1
         ],
         "title": {
          "text": "mental_health_consequence"
         }
        },
        "yaxis": {
         "anchor": "x",
         "domain": [
          0,
          1
         ],
         "title": {
          "text": "count"
         }
        }
       }
      }
     },
     "metadata": {},
     "output_type": "display_data"
    }
   ],
   "source": [
    "fig = px.histogram(data, x = 'mental_health_consequence',color='treatment',barmode='group', width=800, height=400)\n",
    "fig.update_layout(\n",
    "    margin=dict(l=20, r=20, t=20, b=20),\n",
    "    paper_bgcolor=\"LightSteelBlue\",\n",
    ")\n",
    "\n",
    "fig.show()"
   ]
  },
  {
   "cell_type": "markdown",
   "metadata": {},
   "source": [
    "General Insight\n",
    "\n",
    "This is very telling, as up to 61% of respondents feel as though sharing their mental-health issues could have a negative impact on their career.\n",
    "Interestingly though, within the groups who fear reprucussions, the majority does seek out treatment, while the majority of those who fear no negative reprucussions do not seek out treamtent.\n",
    "Are those factors related? Is the fear and pressure of not revealing yourself pushing employees to seek help? More research needs to be done here."
   ]
  },
  {
   "cell_type": "markdown",
   "metadata": {},
   "source": [
    "Would you be willing to discuss a mental health issue with your coworkers?"
   ]
  },
  {
   "cell_type": "code",
   "execution_count": 220,
   "metadata": {},
   "outputs": [
    {
     "data": {
      "text/plain": [
       "<AxesSubplot: xlabel='coworkers', ylabel='count'>"
      ]
     },
     "execution_count": 220,
     "metadata": {},
     "output_type": "execute_result"
    },
    {
     "data": {
      "image/png": "[encoded data removed]",
      "text/plain": [
       "<Figure size 640x480 with 1 Axes>"
      ]
     },
     "metadata": {},
     "output_type": "display_data"
    }
   ],
   "source": [
    "sns.set(rc={'axes.facecolor':'aquamarine', 'figure.facecolor':'darkcyan'})\n",
    "sns.countplot(data = data , x = 'coworkers', palette=['#fffea3',\"#d0bbff\",\"#ff9f9b\"] )"
   ]
  },
  {
   "cell_type": "code",
   "execution_count": 221,
   "metadata": {},
   "outputs": [
    {
     "data": {
      "text/plain": [
       "Some of them    0.614774\n",
       "No              0.206513\n",
       "Yes             0.178713\n",
       "Name: coworkers, dtype: float64"
      ]
     },
     "execution_count": 221,
     "metadata": {},
     "output_type": "execute_result"
    }
   ],
   "source": [
    "data['coworkers'].value_counts(normalize = True)"
   ]
  },
  {
   "cell_type": "code",
   "execution_count": 222,
   "metadata": {},
   "outputs": [
    {
     "data": {
      "application/vnd.plotly.v1+json": {
       "config": {
        "plotlyServerURL": "https://plot.ly"
       },
       "data": [
        {
         "alignmentgroup": "True",
         "bingroup": "x",
         "hovertemplate": "treatment=Yes<br>coworkers=%{x}<br>count=%{y}<extra></extra>",
         "legendgroup": "Yes",
         "marker": {
          "color": "#636efa",
          "pattern": {
           "shape": ""
          }
         },
         "name": "Yes",
         "offsetgroup": "Yes",
         "orientation": "v",
         "showlegend": true,
         "type": "histogram",
         "x": [
          "Some of them",
          "Some of them",
          "Some of them",
          "Yes",
          "Some of them",
          "Yes",
          "Yes",
          "Some of them",
          "Some of them",
          "Some of them",
          "Some of them",
          "No",
          "Yes",
          "Some of them",
          "Yes",
          "Some of them",
          "Some of them",
          "Some of them",
          "Some of them",
          "Yes",
          "Yes",
          "Some of them",
          "Some of them",
          "No",
          "Some of them",
          "Some of them",
          "No",
          "No",
          "Some of them",
          "No",
          "Some of them",
          "Yes",
          "Some of them",
          "Some of them",
          "Some of them",
          "Some of them",
          "Some of them",
          "Some of them",
          "Yes",
          "Some of them",
          "Some of them",
          "Some of them",
          "Yes",
          "No",
          "Some of them",
          "Some of them",
          "Yes",
          "Some of them",
          "No",
          "Some of them",
          "Yes",
          "Some of them",
          "Yes",
          "Some of them",
          "No",
          "Some of them",
          "Yes",
          "Some of them",
          "Yes",
          "Some of them",
          "Some of them",
          "Some of them",
          "Some of them",
          "Some of them",
          "Some of them",
          "No",
          "Some of them",
          "Some of them",
          "Some of them",
          "Some of them",
          "Some of them",
          "Yes",
          "Some of them",
          "No",
          "Some of them",
          "Yes",
          "Yes",
          "Some of them",
          "No",
          "No",
          "Some of them",
          "Some of them",
          "Some of them",
          "Some of them",
          "Some of them",
          "Some of them",
          "Some of them",
          "No",
          "Some of them",
          "Yes",
          "No",
          "Some of them",
          "Yes",
          "Some of them",
          "Some of them",
          "Some of them",
          "No",
          "Some of them",
          "Some of them",
          "Some of them",
          "No",
          "Some of them",
          "Some of them",
          "Some of them",
          "Some of them",
          "Some of them",
          "No",
          "No",
          "Yes",
          "Some of them",
          "Some of them",
          "Some of them",
          "Some of them",
          "No",
          "Yes",
          "Yes",
          "Some of them",
          "Yes",
          "Yes",
          "Some of them",
          "Some of them",
          "No",
          "Some of them",
          "Some of them",
          "No",
          "No",
          "Yes",
          "Some of them",
          "Some of them",
          "Some of them",
          "Some of them",
          "Yes",
          "Yes",
          "No",
          "Some of them",
          "Yes",
          "Some of them",
          "Some of them",
          "Some of them",
          "Some of them",
          "No",
          "Some of them",
          "Some of them",
          "No",
          "No",
          "Some of them",
          "Some of them",
          "Some of them",
          "No",
          "Yes",
          "No",
          "Some of them",
          "No",
          "No",
          "Some of them",
          "Yes",
          "No",
          "Some of them",
          "No",
          "Some of them",
          "Some of them",
          "Some of them",
          "No",
          "Some of them",
          "Yes",
          "Some of them",
          "Some of them",
          "Some of them",
          "No",
          "Some of them",
          "Yes",
          "Some of them",
          "Yes",
          "Yes",
          "Some of them",
          "Some of them",
          "No",
          "No",
          "Some of them",
          "Some of them",
          "No",
          "Some of them",
          "Some of them",
          "Yes",
          "Yes",
          "Some of them",
          "No",
          "Some of them",
          "Some of them",
          "Some of them",
          "No",
          "No",
          "Yes",
          "Some of them",
          "Some of them",
          "Some of them",
          "Some of them",
          "Some of them",
          "Yes",
          "No",
          "No",
          "No",
          "Some of them",
          "Yes",
          "No",
          "Yes",
          "Yes",
          "Some of them",
          "No",
          "Some of them",
          "No",
          "Some of them",
          "Some of them",
          "Some of them",
          "Yes",
          "Some of them",
          "Yes",
          "Some of them",
          "Some of them",
          "Some of them",
          "Yes",
          "Some of them",
          "Some of them",
          "No",
          "Some of them",
          "Some of them",
          "Some of them",
          "No",
          "Some of them",
          "Some of them",
          "Some of them",
          "Some of them",
          "No",
          "Some of them",
          "Yes",
          "No",
          "Some of them",
          "Some of them",
          "Some of them",
          "Some of them",
          "Yes",
          "Some of them",
          "Some of them",
          "Some of them",
          "Some of them",
          "Yes",
          "No",
          "No",
          "Some of them",
          "Yes",
          "Some of them",
          "Some of them",
          "No",
          "Some of them",
          "Yes",
          "Some of them",
          "Yes",
          "Some of them",
          "Some of them",
          "No",
          "No",
          "Some of them",
          "Yes",
          "Some of them",
          "Some of them",
          "No",
          "Some of them",
          "No",
          "Yes",
          "Some of them",
          "Some of them",
          "Some of them",
          "Some of them",
          "Some of them",
          "Some of them",
          "Some of them",
          "Some of them",
          "Some of them",
          "Some of them",
          "Some of them",
          "Some of them",
          "Yes",
          "Yes",
          "Some of them",
          "Some of them",
          "Yes",
          "Yes",
          "Some of them",
          "Some of them",
          "Some of them",
          "Some of them",
          "Yes",
          "Yes",
          "Some of them",
          "Some of them",
          "Some of them",
          "Some of them",
          "No",
          "Some of them",
          "No",
          "Yes",
          "Some of them",
          "Yes",
          "Some of them",
          "Some of them",
          "Some of them",
          "No",
          "Some of them",
          "No",
          "Some of them",
          "Some of them",
          "Some of them",
          "No",
          "Some of them",
          "Some of them",
          "Some of them",
          "Some of them",
          "Some of them",
          "No",
          "Some of them",
          "Some of them",
          "Some of them",
          "No",
          "Some of them",
          "No",
          "Some of them",
          "Some of them",
          "Some of them",
          "No",
          "Yes",
          "Some of them",
          "Some of them",
          "No",
          "No",
          "No",
          "Some of them",
          "Some of them",
          "Yes",
          "Some of them",
          "No",
          "Yes",
          "Yes",
          "Some of them",
          "No",
          "Yes",
          "Yes",
          "Yes",
          "Some of them",
          "No",
          "Some of them",
          "Some of them",
          "Some of them",
          "No",
          "Yes",
          "Yes",
          "Some of them",
          "No",
          "Some of them",
          "No",
          "Some of them",
          "Some of them",
          "Some of them",
          "Some of them",
          "Some of them",
          "Some of them",
          "Some of them",
          "No",
          "No",
          "Some of them",
          "Yes",
          "Yes",
          "No",
          "Some of them",
          "Some of them",
          "Some of them",
          "Some of them",
          "Yes",
          "Some of them",
          "Some of them",
          "Yes",
          "Yes",
          "Yes",
          "Some of them",
          "Some of them",
          "Some of them",
          "Some of them",
          "Some of them",
          "Some of them",
          "No",
          "Some of them",
          "Some of them",
          "Some of them",
          "Some of them",
          "Some of them",
          "Some of them",
          "Some of them",
          "Some of them",
          "Some of them",
          "Some of them",
          "Some of them",
          "Some of them",
          "Some of them",
          "Some of them",
          "Some of them",
          "Some of them",
          "Some of them",
          "Some of them",
          "Yes",
          "No",
          "Some of them",
          "Some of them",
          "Some of them",
          "Yes",
          "Some of them",
          "Yes",
          "Yes",
          "No",
          "Some of them",
          "Some of them",
          "Yes",
          "Some of them",
          "No",
          "Some of them",
          "Yes",
          "Some of them",
          "No",
          "No",
          "Some of them",
          "Some of them",
          "Some of them",
          "Some of them",
          "Some of them",
          "Some of them",
          "No",
          "Some of them",
          "Some of them",
          "No",
          "No",
          "No",
          "Yes",
          "Some of them",
          "Some of them",
          "Yes",
          "Yes",
          "Some of them",
          "Some of them",
          "Some of them",
          "No",
          "Some of them",
          "Some of them",
          "Some of them",
          "Some of them",
          "Some of them",
          "No",
          "Some of them",
          "No",
          "No",
          "Yes",
          "Some of them",
          "Some of them",
          "Some of them",
          "Some of them",
          "Some of them",
          "Some of them",
          "Some of them",
          "Yes",
          "Some of them",
          "Some of them",
          "Yes",
          "Some of them",
          "Some of them",
          "Some of them",
          "Some of them",
          "Yes",
          "Some of them",
          "Yes",
          "No",
          "Some of them",
          "Some of them",
          "Some of them",
          "No",
          "Yes",
          "Yes",
          "Some of them",
          "Some of them",
          "Some of them",
          "Some of them",
          "Yes",
          "Yes",
          "Some of them",
          "No",
          "Some of them",
          "Yes",
          "Some of them",
          "Yes",
          "Some of them",
          "Some of them",
          "Yes",
          "Some of them",
          "Some of them",
          "Some of them",
          "Some of them",
          "Some of them",
          "Yes",
          "No",
          "Yes",
          "Some of them",
          "No",
          "Some of them",
          "Some of them",
          "Some of them",
          "Some of them",
          "Some of them",
          "Yes",
          "Some of them",
          "Some of them",
          "Some of them",
          "Some of them",
          "Some of them",
          "Some of them",
          "Some of them",
          "Some of them",
          "Yes",
          "Some of them",
          "Some of them",
          "Some of them",
          "No",
          "Some of them",
          "Yes",
          "No",
          "Some of them",
          "Yes",
          "Yes",
          "No",
          "Some of them",
          "Some of them",
          "Yes",
          "Some of them",
          "Some of them",
          "Yes",
          "No",
          "No",
          "No",
          "Yes",
          "Some of them",
          "No",
          "No",
          "Some of them",
          "Yes",
          "No",
          "Some of them",
          "Yes",
          "Yes",
          "Yes",
          "No",
          "No",
          "Some of them",
          "Some of them",
          "Some of them",
          "Some of them",
          "Yes",
          "Some of them",
          "Yes",
          "Some of them",
          "Some of them",
          "Yes",
          "Some of them",
          "No",
          "Some of them",
          "Yes",
          "Some of them",
          "Some of them",
          "No",
          "Some of them",
          "Yes",
          "Some of them",
          "Some of them",
          "No",
          "Some of them",
          "Some of them",
          "Some of them",
          "Some of them",
          "Some of them",
          "Yes",
          "Yes",
          "No",
          "Yes",
          "Some of them",
          "Some of them",
          "Some of them",
          "Some of them",
          "Some of them",
          "Some of them",
          "Some of them",
          "Some of them",
          "Some of them",
          "Some of them",
          "Some of them",
          "No",
          "Some of them",
          "Yes",
          "Some of them",
          "Some of them",
          "Some of them",
          "No",
          "Some of them",
          "Some of them",
          "Yes",
          "Some of them",
          "Some of them",
          "Yes",
          "Some of them",
          "Yes",
          "Some of them",
          "Yes",
          "Some of them",
          "Yes",
          "Yes",
          "No",
          "Yes",
          "Some of them",
          "Some of them",
          "Some of them",
          "Some of them",
          "No",
          "Some of them",
          "No",
          "Some of them",
          "No",
          "Yes",
          "Some of them",
          "Some of them",
          "Some of them",
          "Some of them",
          "Some of them",
          "No",
          "Some of them"
         ],
         "xaxis": "x",
         "yaxis": "y"
        },
        {
         "alignmentgroup": "True",
         "bingroup": "x",
         "hovertemplate": "treatment=No<br>coworkers=%{x}<br>count=%{y}<extra></extra>",
         "legendgroup": "No",
         "marker": {
          "color": "#EF553B",
          "pattern": {
           "shape": ""
          }
         },
         "name": "No",
         "offsetgroup": "No",
         "orientation": "v",
         "showlegend": true,
         "type": "histogram",
         "x": [
          "No",
          "Yes",
          "Some of them",
          "Yes",
          "No",
          "Yes",
          "Yes",
          "Yes",
          "Some of them",
          "Yes",
          "Some of them",
          "Some of them",
          "Some of them",
          "Some of them",
          "Some of them",
          "No",
          "Some of them",
          "Some of them",
          "Some of them",
          "Some of them",
          "No",
          "Some of them",
          "Yes",
          "Yes",
          "Some of them",
          "Some of them",
          "Some of them",
          "No",
          "Yes",
          "Some of them",
          "Yes",
          "No",
          "Some of them",
          "Some of them",
          "Some of them",
          "Some of them",
          "Some of them",
          "Some of them",
          "Some of them",
          "Yes",
          "Some of them",
          "Some of them",
          "No",
          "Yes",
          "Yes",
          "Some of them",
          "Yes",
          "Some of them",
          "Some of them",
          "No",
          "Some of them",
          "Some of them",
          "Some of them",
          "Some of them",
          "Yes",
          "Yes",
          "Some of them",
          "No",
          "Some of them",
          "Some of them",
          "Some of them",
          "No",
          "Some of them",
          "Some of them",
          "Some of them",
          "Some of them",
          "Some of them",
          "Some of them",
          "No",
          "Some of them",
          "No",
          "Some of them",
          "Some of them",
          "No",
          "Yes",
          "Yes",
          "Yes",
          "No",
          "Some of them",
          "Some of them",
          "Some of them",
          "Some of them",
          "Some of them",
          "Some of them",
          "No",
          "No",
          "No",
          "Some of them",
          "Some of them",
          "Yes",
          "Some of them",
          "Some of them",
          "Some of them",
          "Some of them",
          "Yes",
          "Some of them",
          "Yes",
          "No",
          "Some of them",
          "Some of them",
          "No",
          "Some of them",
          "Yes",
          "No",
          "Some of them",
          "Yes",
          "Some of them",
          "Some of them",
          "Some of them",
          "Some of them",
          "No",
          "Some of them",
          "Some of them",
          "Some of them",
          "Some of them",
          "Some of them",
          "No",
          "Yes",
          "Some of them",
          "No",
          "Some of them",
          "Some of them",
          "Some of them",
          "No",
          "Yes",
          "Yes",
          "Some of them",
          "No",
          "Yes",
          "Some of them",
          "No",
          "Some of them",
          "Some of them",
          "Some of them",
          "No",
          "Some of them",
          "Some of them",
          "Some of them",
          "Some of them",
          "Yes",
          "Some of them",
          "Yes",
          "Yes",
          "No",
          "Some of them",
          "Some of them",
          "Some of them",
          "Yes",
          "Some of them",
          "Yes",
          "Some of them",
          "Some of them",
          "Yes",
          "Some of them",
          "Some of them",
          "No",
          "Some of them",
          "No",
          "Some of them",
          "Some of them",
          "Yes",
          "Some of them",
          "Some of them",
          "Some of them",
          "Some of them",
          "Some of them",
          "Some of them",
          "Some of them",
          "Some of them",
          "Some of them",
          "Yes",
          "Some of them",
          "No",
          "Some of them",
          "Some of them",
          "Some of them",
          "No",
          "No",
          "Some of them",
          "Some of them",
          "No",
          "Some of them",
          "Some of them",
          "Some of them",
          "No",
          "Some of them",
          "Yes",
          "Some of them",
          "No",
          "Some of them",
          "No",
          "Some of them",
          "Yes",
          "Some of them",
          "Some of them",
          "Yes",
          "Some of them",
          "Some of them",
          "No",
          "Some of them",
          "Some of them",
          "No",
          "Some of them",
          "No",
          "Some of them",
          "No",
          "Some of them",
          "Some of them",
          "Some of them",
          "Yes",
          "No",
          "Some of them",
          "Some of them",
          "Some of them",
          "Yes",
          "Some of them",
          "Some of them",
          "Some of them",
          "Yes",
          "Some of them",
          "Some of them",
          "Yes",
          "Some of them",
          "Some of them",
          "Some of them",
          "No",
          "No",
          "Some of them",
          "Some of them",
          "Some of them",
          "No",
          "Yes",
          "Some of them",
          "No",
          "Some of them",
          "Some of them",
          "Some of them",
          "Some of them",
          "Some of them",
          "Some of them",
          "Yes",
          "No",
          "Some of them",
          "No",
          "Some of them",
          "Yes",
          "No",
          "Some of them",
          "Some of them",
          "No",
          "Some of them",
          "Some of them",
          "Some of them",
          "Some of them",
          "Some of them",
          "No",
          "Yes",
          "Yes",
          "Some of them",
          "Some of them",
          "No",
          "Yes",
          "Some of them",
          "Some of them",
          "Some of them",
          "No",
          "No",
          "Some of them",
          "Some of them",
          "No",
          "Some of them",
          "No",
          "Some of them",
          "Yes",
          "No",
          "Yes",
          "Some of them",
          "Some of them",
          "Some of them",
          "Some of them",
          "Some of them",
          "Some of them",
          "Some of them",
          "Some of them",
          "Some of them",
          "No",
          "Some of them",
          "No",
          "Yes",
          "Yes",
          "Some of them",
          "Some of them",
          "Some of them",
          "Some of them",
          "Some of them",
          "Yes",
          "Some of them",
          "Some of them",
          "Some of them",
          "No",
          "Yes",
          "Some of them",
          "Yes",
          "No",
          "Some of them",
          "Some of them",
          "Some of them",
          "Yes",
          "No",
          "Some of them",
          "Some of them",
          "Some of them",
          "Some of them",
          "Some of them",
          "Some of them",
          "Some of them",
          "Some of them",
          "Some of them",
          "Yes",
          "Some of them",
          "Some of them",
          "Some of them",
          "Some of them",
          "No",
          "No",
          "Some of them",
          "Yes",
          "No",
          "Some of them",
          "No",
          "Yes",
          "Some of them",
          "Some of them",
          "Some of them",
          "Some of them",
          "Some of them",
          "Some of them",
          "Some of them",
          "Some of them",
          "Some of them",
          "No",
          "No",
          "Some of them",
          "Some of them",
          "No",
          "Some of them",
          "Some of them",
          "Some of them",
          "Some of them",
          "Yes",
          "Some of them",
          "Some of them",
          "Yes",
          "Some of them",
          "Some of them",
          "No",
          "Some of them",
          "No",
          "Some of them",
          "Some of them",
          "Some of them",
          "Some of them",
          "Some of them",
          "Some of them",
          "Yes",
          "Some of them",
          "Some of them",
          "Some of them",
          "Yes",
          "Some of them",
          "Yes",
          "Some of them",
          "Yes",
          "Some of them",
          "Some of them",
          "Yes",
          "Yes",
          "Yes",
          "Yes",
          "Yes",
          "Yes",
          "Some of them",
          "Yes",
          "No",
          "Some of them",
          "Some of them",
          "Some of them",
          "Some of them",
          "Some of them",
          "Some of them",
          "No",
          "No",
          "Some of them",
          "Some of them",
          "Some of them",
          "Some of them",
          "Some of them",
          "No",
          "Some of them",
          "Yes",
          "Yes",
          "Some of them",
          "No",
          "Yes",
          "Some of them",
          "Some of them",
          "Some of them",
          "Some of them",
          "Yes",
          "No",
          "Some of them",
          "Some of them",
          "No",
          "Yes",
          "Some of them",
          "Some of them",
          "Some of them",
          "No",
          "No",
          "Some of them",
          "Some of them",
          "No",
          "Some of them",
          "Some of them",
          "Some of them",
          "Some of them",
          "No",
          "Some of them",
          "Some of them",
          "Yes",
          "Some of them",
          "Some of them",
          "Some of them",
          "Some of them",
          "No",
          "Some of them",
          "Some of them",
          "Some of them",
          "Some of them",
          "Yes",
          "Some of them",
          "Some of them",
          "Some of them",
          "No",
          "Some of them",
          "Some of them",
          "Some of them",
          "Some of them",
          "Some of them",
          "No",
          "Some of them",
          "No",
          "No",
          "Some of them",
          "Some of them",
          "Some of them",
          "No",
          "Some of them",
          "Some of them",
          "Some of them",
          "Some of them",
          "Some of them",
          "Some of them",
          "Some of them",
          "Some of them",
          "Some of them",
          "Some of them",
          "No",
          "Some of them",
          "No",
          "Some of them",
          "Some of them",
          "Some of them",
          "Yes",
          "No",
          "No",
          "Some of them",
          "Yes",
          "Some of them",
          "Some of them",
          "Some of them",
          "Some of them",
          "Some of them",
          "No",
          "Some of them",
          "No",
          "Some of them",
          "Some of them",
          "Yes",
          "Some of them",
          "No",
          "Yes",
          "Some of them",
          "Some of them",
          "Some of them",
          "No",
          "No",
          "Yes",
          "No",
          "No",
          "No",
          "Some of them",
          "Yes",
          "No",
          "Some of them",
          "No",
          "No",
          "No",
          "Yes",
          "Some of them",
          "No",
          "No",
          "No",
          "Some of them",
          "Some of them",
          "Some of them",
          "Some of them",
          "Yes",
          "Some of them",
          "Some of them",
          "Yes",
          "No",
          "Some of them",
          "Some of them",
          "Some of them",
          "No",
          "Some of them",
          "Some of them",
          "Some of them",
          "No",
          "No",
          "Some of them",
          "Some of them",
          "No",
          "Some of them",
          "Some of them",
          "No",
          "Some of them",
          "Some of them",
          "Some of them",
          "Some of them",
          "No",
          "No",
          "No",
          "Some of them",
          "Some of them",
          "No",
          "Some of them",
          "Some of them",
          "Yes",
          "Some of them",
          "Some of them",
          "Some of them",
          "Some of them",
          "Yes",
          "Some of them",
          "Some of them",
          "Yes",
          "Some of them",
          "Some of them",
          "Some of them",
          "Some of them",
          "No",
          "No",
          "No",
          "Some of them",
          "No",
          "No",
          "No",
          "No",
          "Some of them",
          "No",
          "No",
          "No",
          "Yes",
          "No",
          "No",
          "Some of them",
          "Some of them",
          "Yes",
          "Some of them",
          "No",
          "Some of them",
          "No",
          "Yes",
          "Some of them",
          "No",
          "Some of them",
          "No",
          "Some of them",
          "Some of them",
          "Some of them",
          "Some of them",
          "Some of them",
          "No",
          "Some of them",
          "No",
          "Some of them",
          "Some of them",
          "Some of them",
          "Some of them",
          "Some of them",
          "Some of them",
          "Some of them",
          "Some of them",
          "No",
          "Yes",
          "Some of them",
          "Some of them",
          "Some of them",
          "Some of them",
          "Some of them",
          "Some of them",
          "No",
          "Some of them",
          "No",
          "No",
          "Yes",
          "Some of them",
          "No",
          "Some of them",
          "No"
         ],
         "xaxis": "x",
         "yaxis": "y"
        }
       ],
       "layout": {
        "barmode": "group",
        "height": 400,
        "legend": {
         "title": {
          "text": "treatment"
         },
         "tracegroupgap": 0
        },
        "margin": {
         "b": 20,
         "l": 20,
         "r": 20,
         "t": 20
        },
        "paper_bgcolor": "LightSteelBlue",
        "template": {
         "data": {
          "bar": [
           {
            "error_x": {
             "color": "#2a3f5f"
            },
            "error_y": {
             "color": "#2a3f5f"
            },
            "marker": {
             "line": {
              "color": "#E5ECF6",
              "width": 0.5
             },
             "pattern": {
              "fillmode": "overlay",
              "size": 10,
              "solidity": 0.2
             }
            },
            "type": "bar"
           }
          ],
          "barpolar": [
           {
            "marker": {
             "line": {
              "color": "#E5ECF6",
              "width": 0.5
             },
             "pattern": {
              "fillmode": "overlay",
              "size": 10,
              "solidity": 0.2
             }
            },
            "type": "barpolar"
           }
          ],
          "carpet": [
           {
            "aaxis": {
             "endlinecolor": "#2a3f5f",
             "gridcolor": "white",
             "linecolor": "white",
             "minorgridcolor": "white",
             "startlinecolor": "#2a3f5f"
            },
            "baxis": {
             "endlinecolor": "#2a3f5f",
             "gridcolor": "white",
             "linecolor": "white",
             "minorgridcolor": "white",
             "startlinecolor": "#2a3f5f"
            },
            "type": "carpet"
           }
          ],
          "choropleth": [
           {
            "colorbar": {
             "outlinewidth": 0,
             "ticks": ""
            },
            "type": "choropleth"
           }
          ],
          "contour": [
           {
            "colorbar": {
             "outlinewidth": 0,
             "ticks": ""
            },
            "colorscale": [
             [
              0,
              "#0d0887"
             ],
             [
              0.1111111111111111,
              "#46039f"
             ],
             [
              0.2222222222222222,
              "#7201a8"
             ],
             [
              0.3333333333333333,
              "#9c179e"
             ],
             [
              0.4444444444444444,
              "#bd3786"
             ],
             [
              0.5555555555555556,
              "#d8576b"
             ],
             [
              0.6666666666666666,
              "#ed7953"
             ],
             [
              0.7777777777777778,
              "#fb9f3a"
             ],
             [
              0.8888888888888888,
              "#fdca26"
             ],
             [
              1,
              "#f0f921"
             ]
            ],
            "type": "contour"
           }
          ],
          "contourcarpet": [
           {
            "colorbar": {
             "outlinewidth": 0,
             "ticks": ""
            },
            "type": "contourcarpet"
           }
          ],
          "heatmap": [
           {
            "colorbar": {
             "outlinewidth": 0,
             "ticks": ""
            },
            "colorscale": [
             [
              0,
              "#0d0887"
             ],
             [
              0.1111111111111111,
              "#46039f"
             ],
             [
              0.2222222222222222,
              "#7201a8"
             ],
             [
              0.3333333333333333,
              "#9c179e"
             ],
             [
              0.4444444444444444,
              "#bd3786"
             ],
             [
              0.5555555555555556,
              "#d8576b"
             ],
             [
              0.6666666666666666,
              "#ed7953"
             ],
             [
              0.7777777777777778,
              "#fb9f3a"
             ],
             [
              0.8888888888888888,
              "#fdca26"
             ],
             [
              1,
              "#f0f921"
             ]
            ],
            "type": "heatmap"
           }
          ],
          "heatmapgl": [
           {
            "colorbar": {
             "outlinewidth": 0,
             "ticks": ""
            },
            "colorscale": [
             [
              0,
              "#0d0887"
             ],
             [
              0.1111111111111111,
              "#46039f"
             ],
             [
              0.2222222222222222,
              "#7201a8"
             ],
             [
              0.3333333333333333,
              "#9c179e"
             ],
             [
              0.4444444444444444,
              "#bd3786"
             ],
             [
              0.5555555555555556,
              "#d8576b"
             ],
             [
              0.6666666666666666,
              "#ed7953"
             ],
             [
              0.7777777777777778,
              "#fb9f3a"
             ],
             [
              0.8888888888888888,
              "#fdca26"
             ],
             [
              1,
              "#f0f921"
             ]
            ],
            "type": "heatmapgl"
           }
          ],
          "histogram": [
           {
            "marker": {
             "pattern": {
              "fillmode": "overlay",
              "size": 10,
              "solidity": 0.2
             }
            },
            "type": "histogram"
           }
          ],
          "histogram2d": [
           {
            "colorbar": {
             "outlinewidth": 0,
             "ticks": ""
            },
            "colorscale": [
             [
              0,
              "#0d0887"
             ],
             [
              0.1111111111111111,
              "#46039f"
             ],
             [
              0.2222222222222222,
              "#7201a8"
             ],
             [
              0.3333333333333333,
              "#9c179e"
             ],
             [
              0.4444444444444444,
              "#bd3786"
             ],
             [
              0.5555555555555556,
              "#d8576b"
             ],
             [
              0.6666666666666666,
              "#ed7953"
             ],
             [
              0.7777777777777778,
              "#fb9f3a"
             ],
             [
              0.8888888888888888,
              "#fdca26"
             ],
             [
              1,
              "#f0f921"
             ]
            ],
            "type": "histogram2d"
           }
          ],
          "histogram2dcontour": [
           {
            "colorbar": {
             "outlinewidth": 0,
             "ticks": ""
            },
            "colorscale": [
             [
              0,
              "#0d0887"
             ],
             [
              0.1111111111111111,
              "#46039f"
             ],
             [
              0.2222222222222222,
              "#7201a8"
             ],
             [
              0.3333333333333333,
              "#9c179e"
             ],
             [
              0.4444444444444444,
              "#bd3786"
             ],
             [
              0.5555555555555556,
              "#d8576b"
             ],
             [
              0.6666666666666666,
              "#ed7953"
             ],
             [
              0.7777777777777778,
              "#fb9f3a"
             ],
             [
              0.8888888888888888,
              "#fdca26"
             ],
             [
              1,
              "#f0f921"
             ]
            ],
            "type": "histogram2dcontour"
           }
          ],
          "mesh3d": [
           {
            "colorbar": {
             "outlinewidth": 0,
             "ticks": ""
            },
            "type": "mesh3d"
           }
          ],
          "parcoords": [
           {
            "line": {
             "colorbar": {
              "outlinewidth": 0,
              "ticks": ""
             }
            },
            "type": "parcoords"
           }
          ],
          "pie": [
           {
            "automargin": true,
            "type": "pie"
           }
          ],
          "scatter": [
           {
            "fillpattern": {
             "fillmode": "overlay",
             "size": 10,
             "solidity": 0.2
            },
            "type": "scatter"
           }
          ],
          "scatter3d": [
           {
            "line": {
             "colorbar": {
              "outlinewidth": 0,
              "ticks": ""
             }
            },
            "marker": {
             "colorbar": {
              "outlinewidth": 0,
              "ticks": ""
             }
            },
            "type": "scatter3d"
           }
          ],
          "scattercarpet": [
           {
            "marker": {
             "colorbar": {
              "outlinewidth": 0,
              "ticks": ""
             }
            },
            "type": "scattercarpet"
           }
          ],
          "scattergeo": [
           {
            "marker": {
             "colorbar": {
              "outlinewidth": 0,
              "ticks": ""
             }
            },
            "type": "scattergeo"
           }
          ],
          "scattergl": [
           {
            "marker": {
             "colorbar": {
              "outlinewidth": 0,
              "ticks": ""
             }
            },
            "type": "scattergl"
           }
          ],
          "scattermapbox": [
           {
            "marker": {
             "colorbar": {
              "outlinewidth": 0,
              "ticks": ""
             }
            },
            "type": "scattermapbox"
           }
          ],
          "scatterpolar": [
           {
            "marker": {
             "colorbar": {
              "outlinewidth": 0,
              "ticks": ""
             }
            },
            "type": "scatterpolar"
           }
          ],
          "scatterpolargl": [
           {
            "marker": {
             "colorbar": {
              "outlinewidth": 0,
              "ticks": ""
             }
            },
            "type": "scatterpolargl"
           }
          ],
          "scatterternary": [
           {
            "marker": {
             "colorbar": {
              "outlinewidth": 0,
              "ticks": ""
             }
            },
            "type": "scatterternary"
           }
          ],
          "surface": [
           {
            "colorbar": {
             "outlinewidth": 0,
             "ticks": ""
            },
            "colorscale": [
             [
              0,
              "#0d0887"
             ],
             [
              0.1111111111111111,
              "#46039f"
             ],
             [
              0.2222222222222222,
              "#7201a8"
             ],
             [
              0.3333333333333333,
              "#9c179e"
             ],
             [
              0.4444444444444444,
              "#bd3786"
             ],
             [
              0.5555555555555556,
              "#d8576b"
             ],
             [
              0.6666666666666666,
              "#ed7953"
             ],
             [
              0.7777777777777778,
              "#fb9f3a"
             ],
             [
              0.8888888888888888,
              "#fdca26"
             ],
             [
              1,
              "#f0f921"
             ]
            ],
            "type": "surface"
           }
          ],
          "table": [
           {
            "cells": {
             "fill": {
              "color": "#EBF0F8"
             },
             "line": {
              "color": "white"
             }
            },
            "header": {
             "fill": {
              "color": "#C8D4E3"
             },
             "line": {
              "color": "white"
             }
            },
            "type": "table"
           }
          ]
         },
         "layout": {
          "annotationdefaults": {
           "arrowcolor": "#2a3f5f",
           "arrowhead": 0,
           "arrowwidth": 1
          },
          "autotypenumbers": "strict",
          "coloraxis": {
           "colorbar": {
            "outlinewidth": 0,
            "ticks": ""
           }
          },
          "colorscale": {
           "diverging": [
            [
             0,
             "#8e0152"
            ],
            [
             0.1,
             "#c51b7d"
            ],
            [
             0.2,
             "#de77ae"
            ],
            [
             0.3,
             "#f1b6da"
            ],
            [
             0.4,
             "#fde0ef"
            ],
            [
             0.5,
             "#f7f7f7"
            ],
            [
             0.6,
             "#e6f5d0"
            ],
            [
             0.7,
             "#b8e186"
            ],
            [
             0.8,
             "#7fbc41"
            ],
            [
             0.9,
             "#4d9221"
            ],
            [
             1,
             "#276419"
            ]
           ],
           "sequential": [
            [
             0,
             "#0d0887"
            ],
            [
             0.1111111111111111,
             "#46039f"
            ],
            [
             0.2222222222222222,
             "#7201a8"
            ],
            [
             0.3333333333333333,
             "#9c179e"
            ],
            [
             0.4444444444444444,
             "#bd3786"
            ],
            [
             0.5555555555555556,
             "#d8576b"
            ],
            [
             0.6666666666666666,
             "#ed7953"
            ],
            [
             0.7777777777777778,
             "#fb9f3a"
            ],
            [
             0.8888888888888888,
             "#fdca26"
            ],
            [
             1,
             "#f0f921"
            ]
           ],
           "sequentialminus": [
            [
             0,
             "#0d0887"
            ],
            [
             0.1111111111111111,
             "#46039f"
            ],
            [
             0.2222222222222222,
             "#7201a8"
            ],
            [
             0.3333333333333333,
             "#9c179e"
            ],
            [
             0.4444444444444444,
             "#bd3786"
            ],
            [
             0.5555555555555556,
             "#d8576b"
            ],
            [
             0.6666666666666666,
             "#ed7953"
            ],
            [
             0.7777777777777778,
             "#fb9f3a"
            ],
            [
             0.8888888888888888,
             "#fdca26"
            ],
            [
             1,
             "#f0f921"
            ]
           ]
          },
          "colorway": [
           "#636efa",
           "#EF553B",
           "#00cc96",
           "#ab63fa",
           "#FFA15A",
           "#19d3f3",
           "#FF6692",
           "#B6E880",
           "#FF97FF",
           "#FECB52"
          ],
          "font": {
           "color": "#2a3f5f"
          },
          "geo": {
           "bgcolor": "white",
           "lakecolor": "white",
           "landcolor": "#E5ECF6",
           "showlakes": true,
           "showland": true,
           "subunitcolor": "white"
          },
          "hoverlabel": {
           "align": "left"
          },
          "hovermode": "closest",
          "mapbox": {
           "style": "light"
          },
          "paper_bgcolor": "white",
          "plot_bgcolor": "#E5ECF6",
          "polar": {
           "angularaxis": {
            "gridcolor": "white",
            "linecolor": "white",
            "ticks": ""
           },
           "bgcolor": "#E5ECF6",
           "radialaxis": {
            "gridcolor": "white",
            "linecolor": "white",
            "ticks": ""
           }
          },
          "scene": {
           "xaxis": {
            "backgroundcolor": "#E5ECF6",
            "gridcolor": "white",
            "gridwidth": 2,
            "linecolor": "white",
            "showbackground": true,
            "ticks": "",
            "zerolinecolor": "white"
           },
           "yaxis": {
            "backgroundcolor": "#E5ECF6",
            "gridcolor": "white",
            "gridwidth": 2,
            "linecolor": "white",
            "showbackground": true,
            "ticks": "",
            "zerolinecolor": "white"
           },
           "zaxis": {
            "backgroundcolor": "#E5ECF6",
            "gridcolor": "white",
            "gridwidth": 2,
            "linecolor": "white",
            "showbackground": true,
            "ticks": "",
            "zerolinecolor": "white"
           }
          },
          "shapedefaults": {
           "line": {
            "color": "#2a3f5f"
           }
          },
          "ternary": {
           "aaxis": {
            "gridcolor": "white",
            "linecolor": "white",
            "ticks": ""
           },
           "baxis": {
            "gridcolor": "white",
            "linecolor": "white",
            "ticks": ""
           },
           "bgcolor": "#E5ECF6",
           "caxis": {
            "gridcolor": "white",
            "linecolor": "white",
            "ticks": ""
           }
          },
          "title": {
           "x": 0.05
          },
          "xaxis": {
           "automargin": true,
           "gridcolor": "white",
           "linecolor": "white",
           "ticks": "",
           "title": {
            "standoff": 15
           },
           "zerolinecolor": "white",
           "zerolinewidth": 2
          },
          "yaxis": {
           "automargin": true,
           "gridcolor": "white",
           "linecolor": "white",
           "ticks": "",
           "title": {
            "standoff": 15
           },
           "zerolinecolor": "white",
           "zerolinewidth": 2
          }
         }
        },
        "width": 800,
        "xaxis": {
         "anchor": "y",
         "domain": [
          0,
          1
         ],
         "title": {
          "text": "coworkers"
         }
        },
        "yaxis": {
         "anchor": "x",
         "domain": [
          0,
          1
         ],
         "title": {
          "text": "count"
         }
        }
       }
      }
     },
     "metadata": {},
     "output_type": "display_data"
    }
   ],
   "source": [
    "fig = px.histogram(data, x = 'coworkers',color='treatment',barmode='group', width=800, height=400)\n",
    "fig.update_layout(\n",
    "    margin=dict(l=20, r=20, t=20, b=20),\n",
    "    paper_bgcolor=\"LightSteelBlue\",\n",
    ")\n",
    "\n",
    "fig.show()"
   ]
  },
  {
   "cell_type": "markdown",
   "metadata": {},
   "source": [
    "General Insight\n",
    "\n",
    "Most people (\"Some of them\" + \" Yes\" = 79%) would be willing to discuss mental health issues with their coworkers. \n",
    "In those groups, the majority also seeks out treatment. \n",
    "Interestingly, for those who feel they have no coworkers to talk to, the majority do not seek out treatment.\n",
    "This could be due to the preceived social acceptance of mental health issues at work.\n"
   ]
  }
 ],
 "metadata": {
  "kernelspec": {
   "display_name": "Python 3.10.7 ('venv': venv)",
   "language": "python",
   "name": "python3"
  },
  "language_info": {
   "codemirror_mode": {
    "name": "ipython",
    "version": 3
   },
   "file_extension": ".py",
   "mimetype": "text/x-python",
   "name": "python",
   "nbconvert_exporter": "python",
   "pygments_lexer": "ipython3",
   "version": "3.10.7"
  },
  "orig_nbformat": 4,
  "vscode": {
   "interpreter": {
    "hash": "4027e23fc1641702e966fceb8126072a3a5c986520531304e80f61e5c0637a03"
   }
  }
 },
 "nbformat": 4,
 "nbformat_minor": 2
}
